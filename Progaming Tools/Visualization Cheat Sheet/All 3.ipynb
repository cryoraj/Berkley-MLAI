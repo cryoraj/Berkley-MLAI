{
 "cells": [
  {
   "cell_type": "code",
   "execution_count": 1,
   "id": "997ee44d",
   "metadata": {},
   "outputs": [],
   "source": [
    "# Imports\n",
    "import pandas as pd\n",
    "import numpy as np\n",
    "\n",
    "# Visualization libraries\n",
    "import seaborn as sns\n",
    "import matplotlib.pyplot as plt\n",
    "import plotly.express as px\n",
    "\n",
    "# Display settings\n",
    "sns.set_theme(style='whitegrid')\n",
    "%matplotlib inline\n"
   ]
  },
  {
   "cell_type": "code",
   "execution_count": 2,
   "id": "51cb6013",
   "metadata": {},
   "outputs": [],
   "source": [
    "def generate_dummy_data(n=500, seed=42):\n",
    "    np.random.seed(seed)\n",
    "    return pd.DataFrame({\n",
    "        'AcceptedCoupon': np.random.binomial(1, 0.4, n),\n",
    "        'Age': np.random.normal(40, 10, n).astype(int),\n",
    "        'Income': np.random.normal(60000, 15000, n).astype(int),\n",
    "        'MaritalStatus': np.random.choice(['Single', 'Married', 'Divorced'], n),\n",
    "        'PassengerType': np.random.choice(['Business', 'Personal', 'Family'], n),\n",
    "        'TripDuration': np.random.exponential(scale=3, size=n),\n",
    "        'CouponType': np.random.choice(['Restaurant', 'Grocery', 'Retail'], n)\n",
    "    })\n",
    "\n",
    "df = generate_dummy_data()\n"
   ]
  },
  {
   "cell_type": "code",
   "execution_count": 7,
   "id": "4eb60003",
   "metadata": {},
   "outputs": [
    {
     "name": "stdout",
     "output_type": "stream",
     "text": [
      "🔹 Seaborn - histplot\n"
     ]
    },
    {
     "data": {
      "image/png": "[encoded data removed]",
      "text/plain": [
       "<Figure size 640x480 with 1 Axes>"
      ]
     },
     "metadata": {},
     "output_type": "display_data"
    },
    {
     "name": "stdout",
     "output_type": "stream",
     "text": [
      "🔹 Plotly - histogram\n"
     ]
    },
    {
     "data": {
      "application/vnd.plotly.v1+json": {
       "config": {
        "plotlyServerURL": "https://plot.ly"
       },
       "data": [
        {
         "bingroup": "x",
         "hovertemplate": "Age=%{x}<br>count=%{y}<extra></extra>",
         "legendgroup": "",
         "marker": {
          "color": "#636efa",
          "pattern": {
           "shape": ""
          }
         },
         "name": "",
         "nbinsx": 30,
         "orientation": "v",
         "showlegend": false,
         "type": "histogram",
         "x": {
          "bdata": "KzoxIh8sGjozIxY1JjQYIigoIy4dJiktLxwYNCsgNykzKDw5JTEuNR4uMhYcEyUvNyg4GhYnKycTJxouKx4iHScxHi0iICYdIhw7KCEqJiUuLyIiJRAYNTglLStGMyYeFyogGSEdODAnNigfNy0dJh8aMTsaLSEjIh8oHyonJR4iLy0eKC8XLSEtIBUXKCoeLhcnGyEoHyQyIjAcLTYPIC0lKyEoJjMqKyMjIysjKjwwJDQjEx0VJCg4KyUwESovGTMrIy4+KSojHzAfKCMsKzIiJR4jKy8eMDUsOiAbFjYuJyocQCkpLywqICw6NTciHiYoMhc3JiMdFzAoGxskOCUYJSUNJyUuOjMlHEEoKCcpJiIiJyIgKSU3DTI0EyQkGSAcOTE0LxwiLBsvJSQvLCQzHS4tJCsbMSYiMiAZGC4bORM4KiciKyczKSkkJysWGi8pJigrIiApHiwWMiwqMTgyFRshKC0gKSAhGR4aHjIeQiwpHy8iKUEnMyAnOSE6LyIuMS4YICUnLikaKy4tMjAsJxcsKiobHTInLigoMSIoIyMkKiM0HyYjNikyGSowKDIiNj4kIzY3IiMlGh4dICcqNx4xJScuHCspLCpAISIhIiEzNiIfLCIuKhg3OSEkKisuPCYgGiAnOSIqJzNBIiMyLjo=",
          "dtype": "i1"
         },
         "xaxis": "x",
         "yaxis": "y"
        }
       ],
       "layout": {
        "barmode": "relative",
        "legend": {
         "tracegroupgap": 0
        },
        "template": {
         "data": {
          "bar": [
           {
            "error_x": {
             "color": "#2a3f5f"
            },
            "error_y": {
             "color": "#2a3f5f"
            },
            "marker": {
             "line": {
              "color": "#E5ECF6",
              "width": 0.5
             },
             "pattern": {
              "fillmode": "overlay",
              "size": 10,
              "solidity": 0.2
             }
            },
            "type": "bar"
           }
          ],
          "barpolar": [
           {
            "marker": {
             "line": {
              "color": "#E5ECF6",
              "width": 0.5
             },
             "pattern": {
              "fillmode": "overlay",
              "size": 10,
              "solidity": 0.2
             }
            },
            "type": "barpolar"
           }
          ],
          "carpet": [
           {
            "aaxis": {
             "endlinecolor": "#2a3f5f",
             "gridcolor": "white",
             "linecolor": "white",
             "minorgridcolor": "white",
             "startlinecolor": "#2a3f5f"
            },
            "baxis": {
             "endlinecolor": "#2a3f5f",
             "gridcolor": "white",
             "linecolor": "white",
             "minorgridcolor": "white",
             "startlinecolor": "#2a3f5f"
            },
            "type": "carpet"
           }
          ],
          "choropleth": [
           {
            "colorbar": {
             "outlinewidth": 0,
             "ticks": ""
            },
            "type": "choropleth"
           }
          ],
          "contour": [
           {
            "colorbar": {
             "outlinewidth": 0,
             "ticks": ""
            },
            "colorscale": [
             [
              0,
              "#0d0887"
             ],
             [
              0.1111111111111111,
              "#46039f"
             ],
             [
              0.2222222222222222,
              "#7201a8"
             ],
             [
              0.3333333333333333,
              "#9c179e"
             ],
             [
              0.4444444444444444,
              "#bd3786"
             ],
             [
              0.5555555555555556,
              "#d8576b"
             ],
             [
              0.6666666666666666,
              "#ed7953"
             ],
             [
              0.7777777777777778,
              "#fb9f3a"
             ],
             [
              0.8888888888888888,
              "#fdca26"
             ],
             [
              1,
              "#f0f921"
             ]
            ],
            "type": "contour"
           }
          ],
          "contourcarpet": [
           {
            "colorbar": {
             "outlinewidth": 0,
             "ticks": ""
            },
            "type": "contourcarpet"
           }
          ],
          "heatmap": [
           {
            "colorbar": {
             "outlinewidth": 0,
             "ticks": ""
            },
            "colorscale": [
             [
              0,
              "#0d0887"
             ],
             [
              0.1111111111111111,
              "#46039f"
             ],
             [
              0.2222222222222222,
              "#7201a8"
             ],
             [
              0.3333333333333333,
              "#9c179e"
             ],
             [
              0.4444444444444444,
              "#bd3786"
             ],
             [
              0.5555555555555556,
              "#d8576b"
             ],
             [
              0.6666666666666666,
              "#ed7953"
             ],
             [
              0.7777777777777778,
              "#fb9f3a"
             ],
             [
              0.8888888888888888,
              "#fdca26"
             ],
             [
              1,
              "#f0f921"
             ]
            ],
            "type": "heatmap"
           }
          ],
          "histogram": [
           {
            "marker": {
             "pattern": {
              "fillmode": "overlay",
              "size": 10,
              "solidity": 0.2
             }
            },
            "type": "histogram"
           }
          ],
          "histogram2d": [
           {
            "colorbar": {
             "outlinewidth": 0,
             "ticks": ""
            },
            "colorscale": [
             [
              0,
              "#0d0887"
             ],
             [
              0.1111111111111111,
              "#46039f"
             ],
             [
              0.2222222222222222,
              "#7201a8"
             ],
             [
              0.3333333333333333,
              "#9c179e"
             ],
             [
              0.4444444444444444,
              "#bd3786"
             ],
             [
              0.5555555555555556,
              "#d8576b"
             ],
             [
              0.6666666666666666,
              "#ed7953"
             ],
             [
              0.7777777777777778,
              "#fb9f3a"
             ],
             [
              0.8888888888888888,
              "#fdca26"
             ],
             [
              1,
              "#f0f921"
             ]
            ],
            "type": "histogram2d"
           }
          ],
          "histogram2dcontour": [
           {
            "colorbar": {
             "outlinewidth": 0,
             "ticks": ""
            },
            "colorscale": [
             [
              0,
              "#0d0887"
             ],
             [
              0.1111111111111111,
              "#46039f"
             ],
             [
              0.2222222222222222,
              "#7201a8"
             ],
             [
              0.3333333333333333,
              "#9c179e"
             ],
             [
              0.4444444444444444,
              "#bd3786"
             ],
             [
              0.5555555555555556,
              "#d8576b"
             ],
             [
              0.6666666666666666,
              "#ed7953"
             ],
             [
              0.7777777777777778,
              "#fb9f3a"
             ],
             [
              0.8888888888888888,
              "#fdca26"
             ],
             [
              1,
              "#f0f921"
             ]
            ],
            "type": "histogram2dcontour"
           }
          ],
          "mesh3d": [
           {
            "colorbar": {
             "outlinewidth": 0,
             "ticks": ""
            },
            "type": "mesh3d"
           }
          ],
          "parcoords": [
           {
            "line": {
             "colorbar": {
              "outlinewidth": 0,
              "ticks": ""
             }
            },
            "type": "parcoords"
           }
          ],
          "pie": [
           {
            "automargin": true,
            "type": "pie"
           }
          ],
          "scatter": [
           {
            "fillpattern": {
             "fillmode": "overlay",
             "size": 10,
             "solidity": 0.2
            },
            "type": "scatter"
           }
          ],
          "scatter3d": [
           {
            "line": {
             "colorbar": {
              "outlinewidth": 0,
              "ticks": ""
             }
            },
            "marker": {
             "colorbar": {
              "outlinewidth": 0,
              "ticks": ""
             }
            },
            "type": "scatter3d"
           }
          ],
          "scattercarpet": [
           {
            "marker": {
             "colorbar": {
              "outlinewidth": 0,
              "ticks": ""
             }
            },
            "type": "scattercarpet"
           }
          ],
          "scattergeo": [
           {
            "marker": {
             "colorbar": {
              "outlinewidth": 0,
              "ticks": ""
             }
            },
            "type": "scattergeo"
           }
          ],
          "scattergl": [
           {
            "marker": {
             "colorbar": {
              "outlinewidth": 0,
              "ticks": ""
             }
            },
            "type": "scattergl"
           }
          ],
          "scattermap": [
           {
            "marker": {
             "colorbar": {
              "outlinewidth": 0,
              "ticks": ""
             }
            },
            "type": "scattermap"
           }
          ],
          "scattermapbox": [
           {
            "marker": {
             "colorbar": {
              "outlinewidth": 0,
              "ticks": ""
             }
            },
            "type": "scattermapbox"
           }
          ],
          "scatterpolar": [
           {
            "marker": {
             "colorbar": {
              "outlinewidth": 0,
              "ticks": ""
             }
            },
            "type": "scatterpolar"
           }
          ],
          "scatterpolargl": [
           {
            "marker": {
             "colorbar": {
              "outlinewidth": 0,
              "ticks": ""
             }
            },
            "type": "scatterpolargl"
           }
          ],
          "scatterternary": [
           {
            "marker": {
             "colorbar": {
              "outlinewidth": 0,
              "ticks": ""
             }
            },
            "type": "scatterternary"
           }
          ],
          "surface": [
           {
            "colorbar": {
             "outlinewidth": 0,
             "ticks": ""
            },
            "colorscale": [
             [
              0,
              "#0d0887"
             ],
             [
              0.1111111111111111,
              "#46039f"
             ],
             [
              0.2222222222222222,
              "#7201a8"
             ],
             [
              0.3333333333333333,
              "#9c179e"
             ],
             [
              0.4444444444444444,
              "#bd3786"
             ],
             [
              0.5555555555555556,
              "#d8576b"
             ],
             [
              0.6666666666666666,
              "#ed7953"
             ],
             [
              0.7777777777777778,
              "#fb9f3a"
             ],
             [
              0.8888888888888888,
              "#fdca26"
             ],
             [
              1,
              "#f0f921"
             ]
            ],
            "type": "surface"
           }
          ],
          "table": [
           {
            "cells": {
             "fill": {
              "color": "#EBF0F8"
             },
             "line": {
              "color": "white"
             }
            },
            "header": {
             "fill": {
              "color": "#C8D4E3"
             },
             "line": {
              "color": "white"
             }
            },
            "type": "table"
           }
          ]
         },
         "layout": {
          "annotationdefaults": {
           "arrowcolor": "#2a3f5f",
           "arrowhead": 0,
           "arrowwidth": 1
          },
          "autotypenumbers": "strict",
          "coloraxis": {
           "colorbar": {
            "outlinewidth": 0,
            "ticks": ""
           }
          },
          "colorscale": {
           "diverging": [
            [
             0,
             "#8e0152"
            ],
            [
             0.1,
             "#c51b7d"
            ],
            [
             0.2,
             "#de77ae"
            ],
            [
             0.3,
             "#f1b6da"
            ],
            [
             0.4,
             "#fde0ef"
            ],
            [
             0.5,
             "#f7f7f7"
            ],
            [
             0.6,
             "#e6f5d0"
            ],
            [
             0.7,
             "#b8e186"
            ],
            [
             0.8,
             "#7fbc41"
            ],
            [
             0.9,
             "#4d9221"
            ],
            [
             1,
             "#276419"
            ]
           ],
           "sequential": [
            [
             0,
             "#0d0887"
            ],
            [
             0.1111111111111111,
             "#46039f"
            ],
            [
             0.2222222222222222,
             "#7201a8"
            ],
            [
             0.3333333333333333,
             "#9c179e"
            ],
            [
             0.4444444444444444,
             "#bd3786"
            ],
            [
             0.5555555555555556,
             "#d8576b"
            ],
            [
             0.6666666666666666,
             "#ed7953"
            ],
            [
             0.7777777777777778,
             "#fb9f3a"
            ],
            [
             0.8888888888888888,
             "#fdca26"
            ],
            [
             1,
             "#f0f921"
            ]
           ],
           "sequentialminus": [
            [
             0,
             "#0d0887"
            ],
            [
             0.1111111111111111,
             "#46039f"
            ],
            [
             0.2222222222222222,
             "#7201a8"
            ],
            [
             0.3333333333333333,
             "#9c179e"
            ],
            [
             0.4444444444444444,
             "#bd3786"
            ],
            [
             0.5555555555555556,
             "#d8576b"
            ],
            [
             0.6666666666666666,
             "#ed7953"
            ],
            [
             0.7777777777777778,
             "#fb9f3a"
            ],
            [
             0.8888888888888888,
             "#fdca26"
            ],
            [
             1,
             "#f0f921"
            ]
           ]
          },
          "colorway": [
           "#636efa",
           "#EF553B",
           "#00cc96",
           "#ab63fa",
           "#FFA15A",
           "#19d3f3",
           "#FF6692",
           "#B6E880",
           "#FF97FF",
           "#FECB52"
          ],
          "font": {
           "color": "#2a3f5f"
          },
          "geo": {
           "bgcolor": "white",
           "lakecolor": "white",
           "landcolor": "#E5ECF6",
           "showlakes": true,
           "showland": true,
           "subunitcolor": "white"
          },
          "hoverlabel": {
           "align": "left"
          },
          "hovermode": "closest",
          "mapbox": {
           "style": "light"
          },
          "paper_bgcolor": "white",
          "plot_bgcolor": "#E5ECF6",
          "polar": {
           "angularaxis": {
            "gridcolor": "white",
            "linecolor": "white",
            "ticks": ""
           },
           "bgcolor": "#E5ECF6",
           "radialaxis": {
            "gridcolor": "white",
            "linecolor": "white",
            "ticks": ""
           }
          },
          "scene": {
           "xaxis": {
            "backgroundcolor": "#E5ECF6",
            "gridcolor": "white",
            "gridwidth": 2,
            "linecolor": "white",
            "showbackground": true,
            "ticks": "",
            "zerolinecolor": "white"
           },
           "yaxis": {
            "backgroundcolor": "#E5ECF6",
            "gridcolor": "white",
            "gridwidth": 2,
            "linecolor": "white",
            "showbackground": true,
            "ticks": "",
            "zerolinecolor": "white"
           },
           "zaxis": {
            "backgroundcolor": "#E5ECF6",
            "gridcolor": "white",
            "gridwidth": 2,
            "linecolor": "white",
            "showbackground": true,
            "ticks": "",
            "zerolinecolor": "white"
           }
          },
          "shapedefaults": {
           "line": {
            "color": "#2a3f5f"
           }
          },
          "ternary": {
           "aaxis": {
            "gridcolor": "white",
            "linecolor": "white",
            "ticks": ""
           },
           "baxis": {
            "gridcolor": "white",
            "linecolor": "white",
            "ticks": ""
           },
           "bgcolor": "#E5ECF6",
           "caxis": {
            "gridcolor": "white",
            "linecolor": "white",
            "ticks": ""
           }
          },
          "title": {
           "x": 0.05
          },
          "xaxis": {
           "automargin": true,
           "gridcolor": "white",
           "linecolor": "white",
           "ticks": "",
           "title": {
            "standoff": 15
           },
           "zerolinecolor": "white",
           "zerolinewidth": 2
          },
          "yaxis": {
           "automargin": true,
           "gridcolor": "white",
           "linecolor": "white",
           "ticks": "",
           "title": {
            "standoff": 15
           },
           "zerolinecolor": "white",
           "zerolinewidth": 2
          }
         }
        },
        "title": {
         "text": "Plotly: Age Distribution"
        },
        "xaxis": {
         "anchor": "y",
         "domain": [
          0,
          1
         ],
         "title": {
          "text": "Age"
         }
        },
        "yaxis": {
         "anchor": "x",
         "domain": [
          0,
          1
         ],
         "title": {
          "text": "count"
         }
        }
       }
      }
     },
     "metadata": {},
     "output_type": "display_data"
    },
    {
     "name": "stdout",
     "output_type": "stream",
     "text": [
      "🔹 Matplotlib - hist\n"
     ]
    },
    {
     "data": {
      "image/png": "[encoded data removed]",
      "text/plain": [
       "<Figure size 640x480 with 1 Axes>"
      ]
     },
     "metadata": {},
     "output_type": "display_data"
    }
   ],
   "source": [
    "print(\"🔹 Seaborn - histplot\")\n",
    "sns.histplot(df['Age'], bins=30, kde=True)\n",
    "plt.title(\"Seaborn: Age Distribution\")\n",
    "plt.show()\n",
    "\n",
    "print(\"🔹 Plotly - histogram\")\n",
    "px.histogram(df, x='Age', nbins=30, title=\"Plotly: Age Distribution\").show()\n",
    "\n",
    "print(\"🔹 Matplotlib - hist\")\n",
    "plt.hist(df['Age'], bins=30, color='skyblue', edgecolor='black')\n",
    "plt.title(\"Matplotlib: Age Distribution\")\n",
    "plt.xlabel(\"Age\")\n",
    "plt.ylabel(\"Frequency\")\n",
    "plt.grid(True)\n",
    "plt.show()\n"
   ]
  },
  {
   "cell_type": "code",
   "execution_count": 4,
   "id": "28789fe6",
   "metadata": {},
   "outputs": [
    {
     "name": "stdout",
     "output_type": "stream",
     "text": [
      "🔹 Seaborn\n"
     ]
    },
    {
     "data": {
      "image/png": "[encoded data removed]",
      "text/plain": [
       "<Figure size 640x480 with 1 Axes>"
      ]
     },
     "metadata": {},
     "output_type": "display_data"
    },
    {
     "name": "stdout",
     "output_type": "stream",
     "text": [
      "🔹 Plotly\n"
     ]
    },
    {
     "data": {
      "application/vnd.plotly.v1+json": {
       "config": {
        "plotlyServerURL": "https://plot.ly"
       },
       "data": [
        {
         "hovertemplate": "MaritalStatus=Single<br>Age=%{x}<br>Income=%{y}<extra></extra>",
         "legendgroup": "Single",
         "marker": {
          "color": "#636efa",
          "symbol": "circle"
         },
         "mode": "markers",
         "name": "Single",
         "orientation": "v",
         "showlegend": true,
         "type": "scatter",
         "x": {
          "bdata": "KzEfGjojFjUYIiMuHTMoNS4yLzgaFi4dJyYcOyYiEBhGMxcqGS0mHzsaKh4iLy0VFy4XGzIwLSUrKyMjKh0oES8rKSojHywwGydALyo6JjIXNzgYJSUuMygnJiINMjQTJBkiLC8vJDMYLjkTKycpKCkeFiwyFSgtICkgIR4yKR8vIjM5IS4gJSkyMi4jNB82GSgjJSAnKh5AMzYfIiEuJhogOTIu",
          "dtype": "i1"
         },
         "xaxis": "x",
         "y": {
          "bdata": "lgwBAPsMAQBzGgEA4CgBAOMuAQBiEAEAleAAAPjyAAD6/wAAU9MAAJL1AAAY7QAAspoAADfQAAC/9QAAIJEAAHoAAQAaRgEAiWkAAImuAADhEwEAqfgAAKyrAACi+AAAPdwAAHT+AACbBAEACBABAB3lAAAF6AAAeMIAAKEbAQCRjQAA7hYBALexAACU5wAAgKYAAOfZAADsDwEA6MgAAI0gAQDe7QAAkDcBAP7BAAAXUAEA+PUAAMLIAADwAwEAmuwAAEvbAACbiAAASxABAIb3AAAKTQEAmBABAAKOAADkQAEAIcoAABYvAQCo1AAAlxcBAGQuAQCg5wAAcc0AAErRAADy1QAAwQABAJIDAQC+JgEA3t4AAAIVAQC9ZAEApqwAAB33AAAw8wAA/+YAAO8nAQDMDwEALb4AAKP9AAA0/QAAGAMBAPs6AQC78QAAO+AAAEnrAAC/uAAAM2wAAIslAQBabgEAV9cAAJxwAQA5DQEAYRwBANcWAQDZ+gAAe/AAADK+AAAuIAEAWo4AAH8hAQCaCgEAjPAAADWcAAA87QAAwOwAAIjDAAAwmAAAzx4BABfZAADpwgAA8ewAALXJAAAcmgAAh4EBAGpKAQDJSQEAKdQAAOquAABUxAAAqKIAAF/sAABCvQAAEvgAAMP9AABKAAEA7QIBABDBAAAb5wAAFgsBAEz0AABptQAAR78AAHQxAQBFcgEAawEBADPyAABfnAAAlOQAAF3ZAAAXvgAAACoBADAGAQDVOwEAgp0AAKnGAAAn7gAAhg0BALhBAQAW8wAAn9YAAKbYAAAeIQEA2xYBAJjIAABeygAAuJMAAHwwAQBm0AAAPeAAAP2ZAADUiwAAHN4AAOLGAADbFQEA",
          "dtype": "i4"
         },
         "yaxis": "y"
        },
        {
         "hovertemplate": "MaritalStatus=Divorced<br>Age=%{x}<br>Income=%{y}<extra></extra>",
         "legendgroup": "Divorced",
         "marker": {
          "color": "#EF553B",
          "symbol": "circle"
         },
         "mode": "markers",
         "name": "Divorced",
         "orientation": "v",
         "showlegend": true,
         "type": "scatter",
         "x": {
          "bdata": "OiIsMyY0KCgpLxwYNCsgNy4eHCUrEysxLSAiKCI1LSsmMCc2Ny0hIh8oHyUtHi8XLSAoJyEkLTYPPDAkNBMkJTMfMCMyKy8eNToqHCksLDU3Ih4jHRcoGyQlOikiJyA3MTQcLCsbMSA4IikkKxYvKSYqMRshGh4sJyAtMCcsKhsdJygoIyMpMCI+JDYiIxoeNzElLCohIiIiLDkkKzwgM0EiIzo=",
          "dtype": "i1"
         },
         "xaxis": "x",
         "y": {
          "bdata": "UtUAAFYrAQAZCAEAXDsBABExAQCBugAAD+wAAEg1AQAyEAEAV9gAADf3AAD8+AAAzUYBAMrkAAC5+gAA/g0BAGUwAQCgyQAA2MkAAIeVAABbnwAAeRABAP2QAAAA/wAA+D4BANcrAQDCCwEAQTgBAIqWAAAixAAA388AAFlcAABrGAEA8+sAAJX2AAC9cgAAr68AAHfEAABJEwEA0x4BAJcPAQDfJwEAA8sAAPhjAQA0xAAABc4AADoDAQACCQEA5mcBAJlPAQBo8QAAxAEBABDOAACSlAAAlCkBAB7oAABC4AAAd0MAAK8tAQBwhAAAI9UAAIOeAACt/gAAM58AADEcAQBd+AAAMtsAADHoAABNFQEArf4AANokAQCsQAAAMuIAAHGtAABbHQEAawcBADN3AQAo9gAA7S8BAGanAAAVSgEANKcAABv8AADzBAEAEdwAAN0iAQBxogAAdRMBAPDYAADNRwEASbAAAOYjAQDsVwAA9JgAAEomAQBqCwEAc7AAALapAADwOwEAorEAADnpAAC/CgEAfvcAAIrxAADjUAEAR8AAALj6AABtuQAAyqQAAIf8AACeAgEAhN8AAMTiAACtTAEA8MkAAHLeAABKyAAANhsBAE8yAQBgTAEAbbQAAIqXAABSvAAAyH4AALmpAAAkAQEABOoAAIEbAQAr7wAAOiABADn9AAAf4AAAzwkBANfpAAAPCwEAfdgAALHtAAA+5gAA4QYBAKB2AADu4QAAfqMAABFEAQDJMQEAbsYAAKHTAABc9AAAXpMAALtUAABImgAANN0AAMqAAACOUgAAVQEBAFuxAAAW4QAAsLMAAIe2AACrTgEAXlUBABgSAQDJzQAAx2gBAOn7AAA=",
          "dtype": "i4"
         },
         "yaxis": "y"
        },
        {
         "hovertemplate": "MaritalStatus=Married<br>Age=%{x}<br>Income=%{y}<extra></extra>",
         "legendgroup": "Married",
         "marker": {
          "color": "#00cc96",
          "symbol": "circle"
         },
         "mode": "markers",
         "name": "Married",
         "orientation": "v",
         "showlegend": true,
         "type": "scatter",
         "x": {
          "bdata": "Ji0pPDklMRYTNygnJycaHiIeIh0hKiUuLyU4JR4gIR04KB8dGjEjJyghKh4oHyIcICEoJjMqIyMrIxU4KzAqGSMuPigrIiUeIywgFjYuKSAoJjAbJQ0nJRxBKCIpJSQgHDkvGyUkHS4tJCYiMhkbKiczJxorIiAsMjgZHkIpQSc6LyIuMRgnLhorLiwXKigxIiQqJiMyKjI2Nx0nLhwrKSEhLioYNyonIion",
          "dtype": "i1"
         },
         "xaxis": "x",
         "y": {
          "bdata": "GRYBACBpAQBP9QAASCkBADquAAAq8gAAWsEAAIXmAACZWAEAKAQBAPXMAABSyQAAfh0BAJDkAACTVgEA1cEAALTnAAAKoQAAj+UAACMFAQDj9QAA6xMBAME+AQC+wgAA5lMBAOHxAAA70AAAqHsAAE0DAQAp6gAAdkIBAMgdAQBt3QAA5NsAAGrCAAC1UwEA7AsBAF48AQBuAQEA8/UAAJrXAADy6AAAUg4BAHKuAACZRgEAjaIAALonAQB8zwAAJh4BAD07AQC4xQAAkQEBAFIHAQCm+QAABcMAAODoAAA6CgEAxKgAAPjOAABTBgEA4O4AAMAkAQArjwAAT0IBAOnVAACH1wAAD2QBAC3mAABr7QAApeUAAPvuAABKdQAAECABAE4rAQBHDgEA08UAAIZaAQAz3wAAwv8AACYrAQCd5gAA7UgBABIwAQBhDQEAleEAACOqAAD/lQAA78QAANmcAACWSgEADcIAAPeJAABUeQEAfDsBALXmAADt2QAALYcAAJzkAADq9AAAY7AAAM6wAAA23QAAI8cAABz9AAAJjQAALwQBAE46AQC28QAANtEAADUKAQA+wQAAfqEAAMbBAAB8MwEAEWgBAIIPAQDC4QAA2iIBAOVrAQAz5QAASLsAALYLAQA1jwAAjXUAAH+jAADU7gAA8QkBANvjAADNMgEAUSoBABEOAQBfqgAA1dcAAK3yAACg9QAAQ9gAAHDhAADdEwEAbiIBACMIAQA6bAAAcnwBAAr6AAA6wwAAgCQBALq1AAAG7AAA6OgAAEoaAQD76gAA96sAAGvfAABpCQEAVbMAAN7dAADI8wAAjeoAAPoDAQAjMAEAAyIBANClAAAZCgEAHvUAAHrpAABRDAEAYfEAAMboAACTQAEAK8MAAE4nAQDjxgAA",
          "dtype": "i4"
         },
         "yaxis": "y"
        }
       ],
       "layout": {
        "legend": {
         "title": {
          "text": "MaritalStatus"
         },
         "tracegroupgap": 0
        },
        "template": {
         "data": {
          "bar": [
           {
            "error_x": {
             "color": "#2a3f5f"
            },
            "error_y": {
             "color": "#2a3f5f"
            },
            "marker": {
             "line": {
              "color": "#E5ECF6",
              "width": 0.5
             },
             "pattern": {
              "fillmode": "overlay",
              "size": 10,
              "solidity": 0.2
             }
            },
            "type": "bar"
           }
          ],
          "barpolar": [
           {
            "marker": {
             "line": {
              "color": "#E5ECF6",
              "width": 0.5
             },
             "pattern": {
              "fillmode": "overlay",
              "size": 10,
              "solidity": 0.2
             }
            },
            "type": "barpolar"
           }
          ],
          "carpet": [
           {
            "aaxis": {
             "endlinecolor": "#2a3f5f",
             "gridcolor": "white",
             "linecolor": "white",
             "minorgridcolor": "white",
             "startlinecolor": "#2a3f5f"
            },
            "baxis": {
             "endlinecolor": "#2a3f5f",
             "gridcolor": "white",
             "linecolor": "white",
             "minorgridcolor": "white",
             "startlinecolor": "#2a3f5f"
            },
            "type": "carpet"
           }
          ],
          "choropleth": [
           {
            "colorbar": {
             "outlinewidth": 0,
             "ticks": ""
            },
            "type": "choropleth"
           }
          ],
          "contour": [
           {
            "colorbar": {
             "outlinewidth": 0,
             "ticks": ""
            },
            "colorscale": [
             [
              0,
              "#0d0887"
             ],
             [
              0.1111111111111111,
              "#46039f"
             ],
             [
              0.2222222222222222,
              "#7201a8"
             ],
             [
              0.3333333333333333,
              "#9c179e"
             ],
             [
              0.4444444444444444,
              "#bd3786"
             ],
             [
              0.5555555555555556,
              "#d8576b"
             ],
             [
              0.6666666666666666,
              "#ed7953"
             ],
             [
              0.7777777777777778,
              "#fb9f3a"
             ],
             [
              0.8888888888888888,
              "#fdca26"
             ],
             [
              1,
              "#f0f921"
             ]
            ],
            "type": "contour"
           }
          ],
          "contourcarpet": [
           {
            "colorbar": {
             "outlinewidth": 0,
             "ticks": ""
            },
            "type": "contourcarpet"
           }
          ],
          "heatmap": [
           {
            "colorbar": {
             "outlinewidth": 0,
             "ticks": ""
            },
            "colorscale": [
             [
              0,
              "#0d0887"
             ],
             [
              0.1111111111111111,
              "#46039f"
             ],
             [
              0.2222222222222222,
              "#7201a8"
             ],
             [
              0.3333333333333333,
              "#9c179e"
             ],
             [
              0.4444444444444444,
              "#bd3786"
             ],
             [
              0.5555555555555556,
              "#d8576b"
             ],
             [
              0.6666666666666666,
              "#ed7953"
             ],
             [
              0.7777777777777778,
              "#fb9f3a"
             ],
             [
              0.8888888888888888,
              "#fdca26"
             ],
             [
              1,
              "#f0f921"
             ]
            ],
            "type": "heatmap"
           }
          ],
          "histogram": [
           {
            "marker": {
             "pattern": {
              "fillmode": "overlay",
              "size": 10,
              "solidity": 0.2
             }
            },
            "type": "histogram"
           }
          ],
          "histogram2d": [
           {
            "colorbar": {
             "outlinewidth": 0,
             "ticks": ""
            },
            "colorscale": [
             [
              0,
              "#0d0887"
             ],
             [
              0.1111111111111111,
              "#46039f"
             ],
             [
              0.2222222222222222,
              "#7201a8"
             ],
             [
              0.3333333333333333,
              "#9c179e"
             ],
             [
              0.4444444444444444,
              "#bd3786"
             ],
             [
              0.5555555555555556,
              "#d8576b"
             ],
             [
              0.6666666666666666,
              "#ed7953"
             ],
             [
              0.7777777777777778,
              "#fb9f3a"
             ],
             [
              0.8888888888888888,
              "#fdca26"
             ],
             [
              1,
              "#f0f921"
             ]
            ],
            "type": "histogram2d"
           }
          ],
          "histogram2dcontour": [
           {
            "colorbar": {
             "outlinewidth": 0,
             "ticks": ""
            },
            "colorscale": [
             [
              0,
              "#0d0887"
             ],
             [
              0.1111111111111111,
              "#46039f"
             ],
             [
              0.2222222222222222,
              "#7201a8"
             ],
             [
              0.3333333333333333,
              "#9c179e"
             ],
             [
              0.4444444444444444,
              "#bd3786"
             ],
             [
              0.5555555555555556,
              "#d8576b"
             ],
             [
              0.6666666666666666,
              "#ed7953"
             ],
             [
              0.7777777777777778,
              "#fb9f3a"
             ],
             [
              0.8888888888888888,
              "#fdca26"
             ],
             [
              1,
              "#f0f921"
             ]
            ],
            "type": "histogram2dcontour"
           }
          ],
          "mesh3d": [
           {
            "colorbar": {
             "outlinewidth": 0,
             "ticks": ""
            },
            "type": "mesh3d"
           }
          ],
          "parcoords": [
           {
            "line": {
             "colorbar": {
              "outlinewidth": 0,
              "ticks": ""
             }
            },
            "type": "parcoords"
           }
          ],
          "pie": [
           {
            "automargin": true,
            "type": "pie"
           }
          ],
          "scatter": [
           {
            "fillpattern": {
             "fillmode": "overlay",
             "size": 10,
             "solidity": 0.2
            },
            "type": "scatter"
           }
          ],
          "scatter3d": [
           {
            "line": {
             "colorbar": {
              "outlinewidth": 0,
              "ticks": ""
             }
            },
            "marker": {
             "colorbar": {
              "outlinewidth": 0,
              "ticks": ""
             }
            },
            "type": "scatter3d"
           }
          ],
          "scattercarpet": [
           {
            "marker": {
             "colorbar": {
              "outlinewidth": 0,
              "ticks": ""
             }
            },
            "type": "scattercarpet"
           }
          ],
          "scattergeo": [
           {
            "marker": {
             "colorbar": {
              "outlinewidth": 0,
              "ticks": ""
             }
            },
            "type": "scattergeo"
           }
          ],
          "scattergl": [
           {
            "marker": {
             "colorbar": {
              "outlinewidth": 0,
              "ticks": ""
             }
            },
            "type": "scattergl"
           }
          ],
          "scattermap": [
           {
            "marker": {
             "colorbar": {
              "outlinewidth": 0,
              "ticks": ""
             }
            },
            "type": "scattermap"
           }
          ],
          "scattermapbox": [
           {
            "marker": {
             "colorbar": {
              "outlinewidth": 0,
              "ticks": ""
             }
            },
            "type": "scattermapbox"
           }
          ],
          "scatterpolar": [
           {
            "marker": {
             "colorbar": {
              "outlinewidth": 0,
              "ticks": ""
             }
            },
            "type": "scatterpolar"
           }
          ],
          "scatterpolargl": [
           {
            "marker": {
             "colorbar": {
              "outlinewidth": 0,
              "ticks": ""
             }
            },
            "type": "scatterpolargl"
           }
          ],
          "scatterternary": [
           {
            "marker": {
             "colorbar": {
              "outlinewidth": 0,
              "ticks": ""
             }
            },
            "type": "scatterternary"
           }
          ],
          "surface": [
           {
            "colorbar": {
             "outlinewidth": 0,
             "ticks": ""
            },
            "colorscale": [
             [
              0,
              "#0d0887"
             ],
             [
              0.1111111111111111,
              "#46039f"
             ],
             [
              0.2222222222222222,
              "#7201a8"
             ],
             [
              0.3333333333333333,
              "#9c179e"
             ],
             [
              0.4444444444444444,
              "#bd3786"
             ],
             [
              0.5555555555555556,
              "#d8576b"
             ],
             [
              0.6666666666666666,
              "#ed7953"
             ],
             [
              0.7777777777777778,
              "#fb9f3a"
             ],
             [
              0.8888888888888888,
              "#fdca26"
             ],
             [
              1,
              "#f0f921"
             ]
            ],
            "type": "surface"
           }
          ],
          "table": [
           {
            "cells": {
             "fill": {
              "color": "#EBF0F8"
             },
             "line": {
              "color": "white"
             }
            },
            "header": {
             "fill": {
              "color": "#C8D4E3"
             },
             "line": {
              "color": "white"
             }
            },
            "type": "table"
           }
          ]
         },
         "layout": {
          "annotationdefaults": {
           "arrowcolor": "#2a3f5f",
           "arrowhead": 0,
           "arrowwidth": 1
          },
          "autotypenumbers": "strict",
          "coloraxis": {
           "colorbar": {
            "outlinewidth": 0,
            "ticks": ""
           }
          },
          "colorscale": {
           "diverging": [
            [
             0,
             "#8e0152"
            ],
            [
             0.1,
             "#c51b7d"
            ],
            [
             0.2,
             "#de77ae"
            ],
            [
             0.3,
             "#f1b6da"
            ],
            [
             0.4,
             "#fde0ef"
            ],
            [
             0.5,
             "#f7f7f7"
            ],
            [
             0.6,
             "#e6f5d0"
            ],
            [
             0.7,
             "#b8e186"
            ],
            [
             0.8,
             "#7fbc41"
            ],
            [
             0.9,
             "#4d9221"
            ],
            [
             1,
             "#276419"
            ]
           ],
           "sequential": [
            [
             0,
             "#0d0887"
            ],
            [
             0.1111111111111111,
             "#46039f"
            ],
            [
             0.2222222222222222,
             "#7201a8"
            ],
            [
             0.3333333333333333,
             "#9c179e"
            ],
            [
             0.4444444444444444,
             "#bd3786"
            ],
            [
             0.5555555555555556,
             "#d8576b"
            ],
            [
             0.6666666666666666,
             "#ed7953"
            ],
            [
             0.7777777777777778,
             "#fb9f3a"
            ],
            [
             0.8888888888888888,
             "#fdca26"
            ],
            [
             1,
             "#f0f921"
            ]
           ],
           "sequentialminus": [
            [
             0,
             "#0d0887"
            ],
            [
             0.1111111111111111,
             "#46039f"
            ],
            [
             0.2222222222222222,
             "#7201a8"
            ],
            [
             0.3333333333333333,
             "#9c179e"
            ],
            [
             0.4444444444444444,
             "#bd3786"
            ],
            [
             0.5555555555555556,
             "#d8576b"
            ],
            [
             0.6666666666666666,
             "#ed7953"
            ],
            [
             0.7777777777777778,
             "#fb9f3a"
            ],
            [
             0.8888888888888888,
             "#fdca26"
            ],
            [
             1,
             "#f0f921"
            ]
           ]
          },
          "colorway": [
           "#636efa",
           "#EF553B",
           "#00cc96",
           "#ab63fa",
           "#FFA15A",
           "#19d3f3",
           "#FF6692",
           "#B6E880",
           "#FF97FF",
           "#FECB52"
          ],
          "font": {
           "color": "#2a3f5f"
          },
          "geo": {
           "bgcolor": "white",
           "lakecolor": "white",
           "landcolor": "#E5ECF6",
           "showlakes": true,
           "showland": true,
           "subunitcolor": "white"
          },
          "hoverlabel": {
           "align": "left"
          },
          "hovermode": "closest",
          "mapbox": {
           "style": "light"
          },
          "paper_bgcolor": "white",
          "plot_bgcolor": "#E5ECF6",
          "polar": {
           "angularaxis": {
            "gridcolor": "white",
            "linecolor": "white",
            "ticks": ""
           },
           "bgcolor": "#E5ECF6",
           "radialaxis": {
            "gridcolor": "white",
            "linecolor": "white",
            "ticks": ""
           }
          },
          "scene": {
           "xaxis": {
            "backgroundcolor": "#E5ECF6",
            "gridcolor": "white",
            "gridwidth": 2,
            "linecolor": "white",
            "showbackground": true,
            "ticks": "",
            "zerolinecolor": "white"
           },
           "yaxis": {
            "backgroundcolor": "#E5ECF6",
            "gridcolor": "white",
            "gridwidth": 2,
            "linecolor": "white",
            "showbackground": true,
            "ticks": "",
            "zerolinecolor": "white"
           },
           "zaxis": {
            "backgroundcolor": "#E5ECF6",
            "gridcolor": "white",
            "gridwidth": 2,
            "linecolor": "white",
            "showbackground": true,
            "ticks": "",
            "zerolinecolor": "white"
           }
          },
          "shapedefaults": {
           "line": {
            "color": "#2a3f5f"
           }
          },
          "ternary": {
           "aaxis": {
            "gridcolor": "white",
            "linecolor": "white",
            "ticks": ""
           },
           "baxis": {
            "gridcolor": "white",
            "linecolor": "white",
            "ticks": ""
           },
           "bgcolor": "#E5ECF6",
           "caxis": {
            "gridcolor": "white",
            "linecolor": "white",
            "ticks": ""
           }
          },
          "title": {
           "x": 0.05
          },
          "xaxis": {
           "automargin": true,
           "gridcolor": "white",
           "linecolor": "white",
           "ticks": "",
           "title": {
            "standoff": 15
           },
           "zerolinecolor": "white",
           "zerolinewidth": 2
          },
          "yaxis": {
           "automargin": true,
           "gridcolor": "white",
           "linecolor": "white",
           "ticks": "",
           "title": {
            "standoff": 15
           },
           "zerolinecolor": "white",
           "zerolinewidth": 2
          }
         }
        },
        "title": {
         "text": "Plotly: Income vs Age"
        },
        "xaxis": {
         "anchor": "y",
         "domain": [
          0,
          1
         ],
         "title": {
          "text": "Age"
         }
        },
        "yaxis": {
         "anchor": "x",
         "domain": [
          0,
          1
         ],
         "title": {
          "text": "Income"
         }
        }
       }
      }
     },
     "metadata": {},
     "output_type": "display_data"
    },
    {
     "name": "stdout",
     "output_type": "stream",
     "text": [
      "🔹 Matplotlib\n"
     ]
    },
    {
     "data": {
      "image/png": "[encoded data removed]",
      "text/plain": [
       "<Figure size 640x480 with 1 Axes>"
      ]
     },
     "metadata": {},
     "output_type": "display_data"
    }
   ],
   "source": [
    "print(\"🔹 Seaborn\")\n",
    "sns.scatterplot(data=df, x='Age', y='Income', hue='MaritalStatus')\n",
    "plt.title(\"Seaborn: Income vs Age\")\n",
    "plt.show()\n",
    "\n",
    "print(\"🔹 Plotly\")\n",
    "px.scatter(df, x='Age', y='Income', color='MaritalStatus', title=\"Plotly: Income vs Age\").show()\n",
    "\n",
    "print(\"🔹 Matplotlib\")\n",
    "plt.scatter(df['Age'], df['Income'], alpha=0.6, c='teal')\n",
    "plt.title(\"Matplotlib: Income vs Age\")\n",
    "plt.xlabel(\"Age\")\n",
    "plt.ylabel(\"Income\")\n",
    "plt.grid(True)\n",
    "plt.show()\n"
   ]
  },
  {
   "cell_type": "code",
   "execution_count": 6,
   "id": "2fd2fad2",
   "metadata": {},
   "outputs": [
    {
     "name": "stdout",
     "output_type": "stream",
     "text": [
      "🔹 Seaborn\n"
     ]
    },
    {
     "data": {
      "image/png": "[encoded data removed]",
      "text/plain": [
       "<Figure size 640x480 with 1 Axes>"
      ]
     },
     "metadata": {},
     "output_type": "display_data"
    },
    {
     "name": "stdout",
     "output_type": "stream",
     "text": [
      "🔹 Plotly\n"
     ]
    },
    {
     "data": {
      "application/vnd.plotly.v1+json": {
       "config": {
        "plotlyServerURL": "https://plot.ly"
       },
       "data": [
        {
         "alignmentgroup": "True",
         "hovertemplate": "MaritalStatus=%{x}<br>Income=%{y}<extra></extra>",
         "legendgroup": "",
         "marker": {
          "color": "#636efa"
         },
         "name": "",
         "notched": false,
         "offsetgroup": "",
         "orientation": "v",
         "showlegend": false,
         "type": "box",
         "x": [
          "Single",
          "Divorced",
          "Single",
          "Divorced",
          "Single",
          "Divorced",
          "Single",
          "Single",
          "Divorced",
          "Single",
          "Single",
          "Single",
          "Divorced",
          "Divorced",
          "Single",
          "Single",
          "Divorced",
          "Divorced",
          "Single",
          "Single",
          "Single",
          "Married",
          "Divorced",
          "Married",
          "Divorced",
          "Divorced",
          "Divorced",
          "Divorced",
          "Divorced",
          "Divorced",
          "Divorced",
          "Married",
          "Single",
          "Single",
          "Married",
          "Married",
          "Married",
          "Married",
          "Divorced",
          "Single",
          "Divorced",
          "Single",
          "Single",
          "Married",
          "Divorced",
          "Married",
          "Divorced",
          "Single",
          "Married",
          "Married",
          "Single",
          "Single",
          "Single",
          "Married",
          "Divorced",
          "Married",
          "Divorced",
          "Married",
          "Married",
          "Single",
          "Divorced",
          "Married",
          "Married",
          "Single",
          "Single",
          "Divorced",
          "Married",
          "Divorced",
          "Married",
          "Divorced",
          "Single",
          "Married",
          "Divorced",
          "Single",
          "Single",
          "Divorced",
          "Married",
          "Married",
          "Single",
          "Married",
          "Married",
          "Married",
          "Single",
          "Divorced",
          "Married",
          "Single",
          "Single",
          "Divorced",
          "Married",
          "Married",
          "Divorced",
          "Divorced",
          "Single",
          "Single",
          "Divorced",
          "Married",
          "Single",
          "Single",
          "Married",
          "Single",
          "Married",
          "Married",
          "Married",
          "Divorced",
          "Divorced",
          "Divorced",
          "Married",
          "Married",
          "Divorced",
          "Single",
          "Married",
          "Single",
          "Single",
          "Married",
          "Married",
          "Single",
          "Single",
          "Divorced",
          "Divorced",
          "Married",
          "Divorced",
          "Divorced",
          "Divorced",
          "Divorced",
          "Single",
          "Married",
          "Divorced",
          "Single",
          "Single",
          "Single",
          "Divorced",
          "Divorced",
          "Married",
          "Divorced",
          "Divorced",
          "Single",
          "Married",
          "Divorced",
          "Divorced",
          "Single",
          "Single",
          "Divorced",
          "Married",
          "Married",
          "Single",
          "Single",
          "Divorced",
          "Single",
          "Divorced",
          "Married",
          "Married",
          "Divorced",
          "Single",
          "Married",
          "Single",
          "Married",
          "Divorced",
          "Divorced",
          "Divorced",
          "Married",
          "Single",
          "Single",
          "Single",
          "Married",
          "Married",
          "Married",
          "Married",
          "Married",
          "Single",
          "Married",
          "Married",
          "Single",
          "Married",
          "Single",
          "Single",
          "Divorced",
          "Divorced",
          "Divorced",
          "Divorced",
          "Married",
          "Divorced",
          "Single",
          "Married",
          "Divorced",
          "Single",
          "Married",
          "Married",
          "Divorced",
          "Married",
          "Single",
          "Married",
          "Single",
          "Married",
          "Divorced",
          "Single",
          "Married",
          "Married",
          "Married",
          "Single",
          "Single",
          "Single",
          "Divorced",
          "Divorced",
          "Single",
          "Married",
          "Divorced",
          "Single",
          "Married",
          "Divorced",
          "Married",
          "Married",
          "Married",
          "Married",
          "Divorced",
          "Divorced",
          "Divorced",
          "Single",
          "Divorced",
          "Married",
          "Divorced",
          "Married",
          "Single",
          "Married",
          "Married",
          "Married",
          "Single",
          "Divorced",
          "Divorced",
          "Single",
          "Married",
          "Divorced",
          "Single",
          "Divorced",
          "Single",
          "Married",
          "Divorced",
          "Single",
          "Divorced",
          "Divorced",
          "Divorced",
          "Divorced",
          "Single",
          "Married",
          "Single",
          "Single",
          "Single",
          "Married",
          "Divorced",
          "Divorced",
          "Divorced",
          "Married",
          "Divorced",
          "Married",
          "Divorced",
          "Divorced",
          "Single",
          "Married",
          "Single",
          "Single",
          "Single",
          "Married",
          "Married",
          "Divorced",
          "Single",
          "Divorced",
          "Single",
          "Married",
          "Married",
          "Married",
          "Single",
          "Married",
          "Single",
          "Divorced",
          "Single",
          "Divorced",
          "Single",
          "Divorced",
          "Married",
          "Divorced",
          "Married",
          "Married",
          "Divorced",
          "Single",
          "Single",
          "Single",
          "Single",
          "Single",
          "Married",
          "Single",
          "Married",
          "Married",
          "Married",
          "Divorced",
          "Divorced",
          "Married",
          "Divorced",
          "Single",
          "Single",
          "Married",
          "Single",
          "Married",
          "Married",
          "Single",
          "Divorced",
          "Single",
          "Single",
          "Married",
          "Married",
          "Married",
          "Married",
          "Divorced",
          "Divorced",
          "Divorced",
          "Married",
          "Married",
          "Married",
          "Divorced",
          "Married",
          "Single",
          "Single",
          "Married",
          "Single",
          "Single",
          "Divorced",
          "Married",
          "Married",
          "Divorced",
          "Single",
          "Single",
          "Married",
          "Single",
          "Divorced",
          "Divorced",
          "Married",
          "Divorced",
          "Divorced",
          "Married",
          "Divorced",
          "Divorced",
          "Divorced",
          "Single",
          "Married",
          "Married",
          "Married",
          "Single",
          "Single",
          "Married",
          "Single",
          "Married",
          "Single",
          "Divorced",
          "Divorced",
          "Married",
          "Single",
          "Single",
          "Divorced",
          "Divorced",
          "Single",
          "Single",
          "Single",
          "Single",
          "Single",
          "Single",
          "Married",
          "Single",
          "Divorced",
          "Married",
          "Single",
          "Divorced",
          "Married",
          "Divorced",
          "Single",
          "Single",
          "Single",
          "Single",
          "Married",
          "Married",
          "Divorced",
          "Single",
          "Divorced",
          "Married",
          "Single",
          "Single",
          "Married",
          "Married",
          "Married",
          "Married",
          "Married",
          "Single",
          "Married",
          "Single",
          "Single",
          "Married",
          "Married",
          "Single",
          "Married",
          "Married",
          "Married",
          "Divorced",
          "Single",
          "Divorced",
          "Married",
          "Divorced",
          "Married",
          "Divorced",
          "Married",
          "Divorced",
          "Divorced",
          "Divorced",
          "Single",
          "Divorced",
          "Single",
          "Married",
          "Divorced",
          "Married",
          "Married",
          "Divorced",
          "Single",
          "Divorced",
          "Married",
          "Married",
          "Divorced",
          "Single",
          "Single",
          "Married",
          "Married",
          "Single",
          "Divorced",
          "Married",
          "Single",
          "Married",
          "Divorced",
          "Single",
          "Married",
          "Divorced",
          "Married",
          "Divorced",
          "Divorced",
          "Single",
          "Divorced",
          "Married",
          "Divorced",
          "Divorced",
          "Single",
          "Divorced",
          "Divorced",
          "Married",
          "Single",
          "Single",
          "Single",
          "Divorced",
          "Single",
          "Divorced",
          "Divorced",
          "Married",
          "Married",
          "Married",
          "Married",
          "Married",
          "Divorced",
          "Divorced",
          "Single",
          "Divorced",
          "Divorced",
          "Married",
          "Divorced",
          "Married",
          "Single",
          "Single",
          "Divorced",
          "Single",
          "Divorced",
          "Single",
          "Married",
          "Married",
          "Married",
          "Married",
          "Divorced",
          "Single",
          "Divorced",
          "Married",
          "Divorced",
          "Single",
          "Divorced",
          "Single",
          "Divorced",
          "Single",
          "Single",
          "Married",
          "Single",
          "Married",
          "Married",
          "Married",
          "Divorced",
          "Divorced",
          "Divorced",
          "Divorced",
          "Single",
          "Single",
          "Divorced"
         ],
         "x0": " ",
         "xaxis": "x",
         "y": {
          "bdata": "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",
          "dtype": "i4"
         },
         "y0": " ",
         "yaxis": "y"
        }
       ],
       "layout": {
        "boxmode": "group",
        "legend": {
         "tracegroupgap": 0
        },
        "template": {
         "data": {
          "bar": [
           {
            "error_x": {
             "color": "#2a3f5f"
            },
            "error_y": {
             "color": "#2a3f5f"
            },
            "marker": {
             "line": {
              "color": "#E5ECF6",
              "width": 0.5
             },
             "pattern": {
              "fillmode": "overlay",
              "size": 10,
              "solidity": 0.2
             }
            },
            "type": "bar"
           }
          ],
          "barpolar": [
           {
            "marker": {
             "line": {
              "color": "#E5ECF6",
              "width": 0.5
             },
             "pattern": {
              "fillmode": "overlay",
              "size": 10,
              "solidity": 0.2
             }
            },
            "type": "barpolar"
           }
          ],
          "carpet": [
           {
            "aaxis": {
             "endlinecolor": "#2a3f5f",
             "gridcolor": "white",
             "linecolor": "white",
             "minorgridcolor": "white",
             "startlinecolor": "#2a3f5f"
            },
            "baxis": {
             "endlinecolor": "#2a3f5f",
             "gridcolor": "white",
             "linecolor": "white",
             "minorgridcolor": "white",
             "startlinecolor": "#2a3f5f"
            },
            "type": "carpet"
           }
          ],
          "choropleth": [
           {
            "colorbar": {
             "outlinewidth": 0,
             "ticks": ""
            },
            "type": "choropleth"
           }
          ],
          "contour": [
           {
            "colorbar": {
             "outlinewidth": 0,
             "ticks": ""
            },
            "colorscale": [
             [
              0,
              "#0d0887"
             ],
             [
              0.1111111111111111,
              "#46039f"
             ],
             [
              0.2222222222222222,
              "#7201a8"
             ],
             [
              0.3333333333333333,
              "#9c179e"
             ],
             [
              0.4444444444444444,
              "#bd3786"
             ],
             [
              0.5555555555555556,
              "#d8576b"
             ],
             [
              0.6666666666666666,
              "#ed7953"
             ],
             [
              0.7777777777777778,
              "#fb9f3a"
             ],
             [
              0.8888888888888888,
              "#fdca26"
             ],
             [
              1,
              "#f0f921"
             ]
            ],
            "type": "contour"
           }
          ],
          "contourcarpet": [
           {
            "colorbar": {
             "outlinewidth": 0,
             "ticks": ""
            },
            "type": "contourcarpet"
           }
          ],
          "heatmap": [
           {
            "colorbar": {
             "outlinewidth": 0,
             "ticks": ""
            },
            "colorscale": [
             [
              0,
              "#0d0887"
             ],
             [
              0.1111111111111111,
              "#46039f"
             ],
             [
              0.2222222222222222,
              "#7201a8"
             ],
             [
              0.3333333333333333,
              "#9c179e"
             ],
             [
              0.4444444444444444,
              "#bd3786"
             ],
             [
              0.5555555555555556,
              "#d8576b"
             ],
             [
              0.6666666666666666,
              "#ed7953"
             ],
             [
              0.7777777777777778,
              "#fb9f3a"
             ],
             [
              0.8888888888888888,
              "#fdca26"
             ],
             [
              1,
              "#f0f921"
             ]
            ],
            "type": "heatmap"
           }
          ],
          "histogram": [
           {
            "marker": {
             "pattern": {
              "fillmode": "overlay",
              "size": 10,
              "solidity": 0.2
             }
            },
            "type": "histogram"
           }
          ],
          "histogram2d": [
           {
            "colorbar": {
             "outlinewidth": 0,
             "ticks": ""
            },
            "colorscale": [
             [
              0,
              "#0d0887"
             ],
             [
              0.1111111111111111,
              "#46039f"
             ],
             [
              0.2222222222222222,
              "#7201a8"
             ],
             [
              0.3333333333333333,
              "#9c179e"
             ],
             [
              0.4444444444444444,
              "#bd3786"
             ],
             [
              0.5555555555555556,
              "#d8576b"
             ],
             [
              0.6666666666666666,
              "#ed7953"
             ],
             [
              0.7777777777777778,
              "#fb9f3a"
             ],
             [
              0.8888888888888888,
              "#fdca26"
             ],
             [
              1,
              "#f0f921"
             ]
            ],
            "type": "histogram2d"
           }
          ],
          "histogram2dcontour": [
           {
            "colorbar": {
             "outlinewidth": 0,
             "ticks": ""
            },
            "colorscale": [
             [
              0,
              "#0d0887"
             ],
             [
              0.1111111111111111,
              "#46039f"
             ],
             [
              0.2222222222222222,
              "#7201a8"
             ],
             [
              0.3333333333333333,
              "#9c179e"
             ],
             [
              0.4444444444444444,
              "#bd3786"
             ],
             [
              0.5555555555555556,
              "#d8576b"
             ],
             [
              0.6666666666666666,
              "#ed7953"
             ],
             [
              0.7777777777777778,
              "#fb9f3a"
             ],
             [
              0.8888888888888888,
              "#fdca26"
             ],
             [
              1,
              "#f0f921"
             ]
            ],
            "type": "histogram2dcontour"
           }
          ],
          "mesh3d": [
           {
            "colorbar": {
             "outlinewidth": 0,
             "ticks": ""
            },
            "type": "mesh3d"
           }
          ],
          "parcoords": [
           {
            "line": {
             "colorbar": {
              "outlinewidth": 0,
              "ticks": ""
             }
            },
            "type": "parcoords"
           }
          ],
          "pie": [
           {
            "automargin": true,
            "type": "pie"
           }
          ],
          "scatter": [
           {
            "fillpattern": {
             "fillmode": "overlay",
             "size": 10,
             "solidity": 0.2
            },
            "type": "scatter"
           }
          ],
          "scatter3d": [
           {
            "line": {
             "colorbar": {
              "outlinewidth": 0,
              "ticks": ""
             }
            },
            "marker": {
             "colorbar": {
              "outlinewidth": 0,
              "ticks": ""
             }
            },
            "type": "scatter3d"
           }
          ],
          "scattercarpet": [
           {
            "marker": {
             "colorbar": {
              "outlinewidth": 0,
              "ticks": ""
             }
            },
            "type": "scattercarpet"
           }
          ],
          "scattergeo": [
           {
            "marker": {
             "colorbar": {
              "outlinewidth": 0,
              "ticks": ""
             }
            },
            "type": "scattergeo"
           }
          ],
          "scattergl": [
           {
            "marker": {
             "colorbar": {
              "outlinewidth": 0,
              "ticks": ""
             }
            },
            "type": "scattergl"
           }
          ],
          "scattermap": [
           {
            "marker": {
             "colorbar": {
              "outlinewidth": 0,
              "ticks": ""
             }
            },
            "type": "scattermap"
           }
          ],
          "scattermapbox": [
           {
            "marker": {
             "colorbar": {
              "outlinewidth": 0,
              "ticks": ""
             }
            },
            "type": "scattermapbox"
           }
          ],
          "scatterpolar": [
           {
            "marker": {
             "colorbar": {
              "outlinewidth": 0,
              "ticks": ""
             }
            },
            "type": "scatterpolar"
           }
          ],
          "scatterpolargl": [
           {
            "marker": {
             "colorbar": {
              "outlinewidth": 0,
              "ticks": ""
             }
            },
            "type": "scatterpolargl"
           }
          ],
          "scatterternary": [
           {
            "marker": {
             "colorbar": {
              "outlinewidth": 0,
              "ticks": ""
             }
            },
            "type": "scatterternary"
           }
          ],
          "surface": [
           {
            "colorbar": {
             "outlinewidth": 0,
             "ticks": ""
            },
            "colorscale": [
             [
              0,
              "#0d0887"
             ],
             [
              0.1111111111111111,
              "#46039f"
             ],
             [
              0.2222222222222222,
              "#7201a8"
             ],
             [
              0.3333333333333333,
              "#9c179e"
             ],
             [
              0.4444444444444444,
              "#bd3786"
             ],
             [
              0.5555555555555556,
              "#d8576b"
             ],
             [
              0.6666666666666666,
              "#ed7953"
             ],
             [
              0.7777777777777778,
              "#fb9f3a"
             ],
             [
              0.8888888888888888,
              "#fdca26"
             ],
             [
              1,
              "#f0f921"
             ]
            ],
            "type": "surface"
           }
          ],
          "table": [
           {
            "cells": {
             "fill": {
              "color": "#EBF0F8"
             },
             "line": {
              "color": "white"
             }
            },
            "header": {
             "fill": {
              "color": "#C8D4E3"
             },
             "line": {
              "color": "white"
             }
            },
            "type": "table"
           }
          ]
         },
         "layout": {
          "annotationdefaults": {
           "arrowcolor": "#2a3f5f",
           "arrowhead": 0,
           "arrowwidth": 1
          },
          "autotypenumbers": "strict",
          "coloraxis": {
           "colorbar": {
            "outlinewidth": 0,
            "ticks": ""
           }
          },
          "colorscale": {
           "diverging": [
            [
             0,
             "#8e0152"
            ],
            [
             0.1,
             "#c51b7d"
            ],
            [
             0.2,
             "#de77ae"
            ],
            [
             0.3,
             "#f1b6da"
            ],
            [
             0.4,
             "#fde0ef"
            ],
            [
             0.5,
             "#f7f7f7"
            ],
            [
             0.6,
             "#e6f5d0"
            ],
            [
             0.7,
             "#b8e186"
            ],
            [
             0.8,
             "#7fbc41"
            ],
            [
             0.9,
             "#4d9221"
            ],
            [
             1,
             "#276419"
            ]
           ],
           "sequential": [
            [
             0,
             "#0d0887"
            ],
            [
             0.1111111111111111,
             "#46039f"
            ],
            [
             0.2222222222222222,
             "#7201a8"
            ],
            [
             0.3333333333333333,
             "#9c179e"
            ],
            [
             0.4444444444444444,
             "#bd3786"
            ],
            [
             0.5555555555555556,
             "#d8576b"
            ],
            [
             0.6666666666666666,
             "#ed7953"
            ],
            [
             0.7777777777777778,
             "#fb9f3a"
            ],
            [
             0.8888888888888888,
             "#fdca26"
            ],
            [
             1,
             "#f0f921"
            ]
           ],
           "sequentialminus": [
            [
             0,
             "#0d0887"
            ],
            [
             0.1111111111111111,
             "#46039f"
            ],
            [
             0.2222222222222222,
             "#7201a8"
            ],
            [
             0.3333333333333333,
             "#9c179e"
            ],
            [
             0.4444444444444444,
             "#bd3786"
            ],
            [
             0.5555555555555556,
             "#d8576b"
            ],
            [
             0.6666666666666666,
             "#ed7953"
            ],
            [
             0.7777777777777778,
             "#fb9f3a"
            ],
            [
             0.8888888888888888,
             "#fdca26"
            ],
            [
             1,
             "#f0f921"
            ]
           ]
          },
          "colorway": [
           "#636efa",
           "#EF553B",
           "#00cc96",
           "#ab63fa",
           "#FFA15A",
           "#19d3f3",
           "#FF6692",
           "#B6E880",
           "#FF97FF",
           "#FECB52"
          ],
          "font": {
           "color": "#2a3f5f"
          },
          "geo": {
           "bgcolor": "white",
           "lakecolor": "white",
           "landcolor": "#E5ECF6",
           "showlakes": true,
           "showland": true,
           "subunitcolor": "white"
          },
          "hoverlabel": {
           "align": "left"
          },
          "hovermode": "closest",
          "mapbox": {
           "style": "light"
          },
          "paper_bgcolor": "white",
          "plot_bgcolor": "#E5ECF6",
          "polar": {
           "angularaxis": {
            "gridcolor": "white",
            "linecolor": "white",
            "ticks": ""
           },
           "bgcolor": "#E5ECF6",
           "radialaxis": {
            "gridcolor": "white",
            "linecolor": "white",
            "ticks": ""
           }
          },
          "scene": {
           "xaxis": {
            "backgroundcolor": "#E5ECF6",
            "gridcolor": "white",
            "gridwidth": 2,
            "linecolor": "white",
            "showbackground": true,
            "ticks": "",
            "zerolinecolor": "white"
           },
           "yaxis": {
            "backgroundcolor": "#E5ECF6",
            "gridcolor": "white",
            "gridwidth": 2,
            "linecolor": "white",
            "showbackground": true,
            "ticks": "",
            "zerolinecolor": "white"
           },
           "zaxis": {
            "backgroundcolor": "#E5ECF6",
            "gridcolor": "white",
            "gridwidth": 2,
            "linecolor": "white",
            "showbackground": true,
            "ticks": "",
            "zerolinecolor": "white"
           }
          },
          "shapedefaults": {
           "line": {
            "color": "#2a3f5f"
           }
          },
          "ternary": {
           "aaxis": {
            "gridcolor": "white",
            "linecolor": "white",
            "ticks": ""
           },
           "baxis": {
            "gridcolor": "white",
            "linecolor": "white",
            "ticks": ""
           },
           "bgcolor": "#E5ECF6",
           "caxis": {
            "gridcolor": "white",
            "linecolor": "white",
            "ticks": ""
           }
          },
          "title": {
           "x": 0.05
          },
          "xaxis": {
           "automargin": true,
           "gridcolor": "white",
           "linecolor": "white",
           "ticks": "",
           "title": {
            "standoff": 15
           },
           "zerolinecolor": "white",
           "zerolinewidth": 2
          },
          "yaxis": {
           "automargin": true,
           "gridcolor": "white",
           "linecolor": "white",
           "ticks": "",
           "title": {
            "standoff": 15
           },
           "zerolinecolor": "white",
           "zerolinewidth": 2
          }
         }
        },
        "title": {
         "text": "Plotly: Income by Marital Status"
        },
        "xaxis": {
         "anchor": "y",
         "domain": [
          0,
          1
         ],
         "title": {
          "text": "MaritalStatus"
         }
        },
        "yaxis": {
         "anchor": "x",
         "domain": [
          0,
          1
         ],
         "title": {
          "text": "Income"
         }
        }
       }
      }
     },
     "metadata": {},
     "output_type": "display_data"
    },
    {
     "name": "stdout",
     "output_type": "stream",
     "text": [
      "🔹 Matplotlib\n"
     ]
    },
    {
     "data": {
      "image/png": "[encoded data removed]",
      "text/plain": [
       "<Figure size 640x480 with 1 Axes>"
      ]
     },
     "metadata": {},
     "output_type": "display_data"
    }
   ],
   "source": [
    "print(\"🔹 Seaborn\")\n",
    "sns.boxplot(data=df, x='MaritalStatus', y='Income')\n",
    "plt.title(\"Seaborn: Income by Marital Status\")\n",
    "plt.show()\n",
    "\n",
    "print(\"🔹 Plotly\")\n",
    "px.box(df, x='MaritalStatus', y='Income', title=\"Plotly: Income by Marital Status\").show()\n",
    "\n",
    "print(\"🔹 Matplotlib\")\n",
    "groups = [df[df['MaritalStatus'] == status]['Income'] for status in df['MaritalStatus'].unique()]\n",
    "plt.boxplot(groups, tick_labels=df['MaritalStatus'].unique())\n",
    "plt.title(\"Matplotlib: Income by Marital Status\")\n",
    "plt.xlabel(\"Marital Status\")\n",
    "plt.ylabel(\"Income\")\n",
    "plt.grid(True)\n",
    "plt.show()\n"
   ]
  }
 ],
 "metadata": {
  "kernelspec": {
   "display_name": "Python 3",
   "language": "python",
   "name": "python3"
  },
  "language_info": {
   "codemirror_mode": {
    "name": "ipython",
    "version": 3
   },
   "file_extension": ".py",
   "mimetype": "text/x-python",
   "name": "python",
   "nbconvert_exporter": "python",
   "pygments_lexer": "ipython3",
   "version": "3.13.7"
  }
 },
 "nbformat": 4,
 "nbformat_minor": 5
}
