{
 "cells": [
  {
   "cell_type": "markdown",
   "id": "c17c39b4",
   "metadata": {},
   "source": [
    "# Plotly Express Visualization Cheat Sheet\n",
    "\n",
    "🔹 Distribution Plots\n",
    "- histogram: Frequency distribution → px.histogram()\n",
    "- density: Probability density estimation → px.histogram(histnorm='density')\n",
    "- rug: Individual observations → px.histogram(marginal='rug')\n",
    "\n",
    "🔹 Relational Plots\n",
    "- scatter: Relationship between variables → px.scatter()\n",
    "- line: Trends over time → px.line()\n",
    "\n",
    "🔹 Categorical Plots\n",
    "- box: Distribution + outliers → px.box()\n",
    "- violin: Distribution shape + density → px.violin()\n",
    "- bar: Mean comparisons → px.bar()\n",
    "- count: Category frequency → px.bar(value_counts)\n",
    "\n",
    "🔹 Matrix Plots\n",
    "- heatmap: Correlation/tabular data → px.imshow()\n",
    "\n",
    "🔹 Regression Plots\n",
    "- scatter + trendline: Linear regression → px.scatter(trendline='ols')\n",
    "\n",
    "🔹 Interactive Features\n",
    "- hover_data: Show extra info on hover → hover_data=df.columns\n",
    "- marginal: Add rug, box, or violin to axes → marginal='box' or 'violin'\n",
    "- animation_frame: Animate over time → animation_frame='year'\n",
    "- facet_row / facet_col: Subplots by category → facet_row='group', facet_col='type'\n",
    "\"\"\"\n"
   ]
  },
  {
   "cell_type": "code",
   "execution_count": 2,
   "id": "6ceb73a1",
   "metadata": {},
   "outputs": [],
   "source": [
    "\"\"\"\n",
    "Plotly Express Visualization Toolkit\n",
    "\n",
    "Includes:\n",
    "- Interactive distribution, relational, categorical, and regression plots\n",
    "- Dummy dataset generator for testing\n",
    "- Reproducible structure for dashboards and notebooks\n",
    "\"\"\"\n",
    "\n",
    "import plotly.express as px\n",
    "import pandas as pd\n",
    "import numpy as np\n",
    "\n",
    "# -------------------------------\n",
    "# 🔧 Dummy Data Generator\n",
    "# -------------------------------\n",
    "def generate_dummy_data(n=500, seed=42):\n",
    "    np.random.seed(seed)\n",
    "    df = pd.DataFrame({\n",
    "        'AcceptedCoupon': np.random.binomial(1, 0.4, n),\n",
    "        'Age': np.random.normal(40, 10, n).astype(int),\n",
    "        'Income': np.random.normal(60000, 15000, n).astype(int),\n",
    "        'MaritalStatus': np.random.choice(['Single', 'Married', 'Divorced'], n),\n",
    "        'PassengerType': np.random.choice(['Business', 'Personal', 'Family'], n),\n",
    "        'TripDuration': np.random.exponential(scale=3, size=n),\n",
    "        'CouponType': np.random.choice(['Restaurant', 'Grocery', 'Retail'], n)\n",
    "    })\n",
    "    return df\n",
    "\n",
    "# -------------------------------\n",
    "# 📊 Plotting Functions\n",
    "# -------------------------------\n",
    "def plot_histogram(df, column, nbins=30, title=None):\n",
    "    fig = px.histogram(df, x=column, nbins=nbins, title=title or f'Distribution of {column}')\n",
    "    fig.update_layout(bargap=0.1)\n",
    "    fig.show()\n",
    "\n",
    "def plot_density(df, column, title=None):\n",
    "    fig = px.histogram(df, x=column, marginal='rug', histnorm='density', title=title or f'Density of {column}')\n",
    "    fig.show()\n",
    "\n",
    "def plot_scatter(df, x, y, color=None, title=None):\n",
    "    fig = px.scatter(df, x=x, y=y, color=color, title=title or f'{y} vs {x}', hover_data=df.columns)\n",
    "    fig.show()\n",
    "\n",
    "def plot_box(df, x, y, color=None, title=None):\n",
    "    fig = px.box(df, x=x, y=y, color=color, title=title or f'{y} Distribution by {x}')\n",
    "    fig.show()\n",
    "\n",
    "def plot_violin(df, x, y, color=None, title=None):\n",
    "    fig = px.violin(df, x=x, y=y, color=color, box=True, points='all', title=title or f'{y} Density by {x}')\n",
    "    fig.show()\n",
    "\n",
    "def plot_bar(df, x, y, title=None):\n",
    "    agg_df = df.groupby(x)[y].mean().reset_index()\n",
    "    fig = px.bar(agg_df, x=x, y=y, title=title or f'Mean {y} by {x}')\n",
    "    fig.show()\n",
    "\n",
    "def plot_count(df, x, title=None):\n",
    "    count_df = df[x].value_counts().reset_index()\n",
    "    count_df.columns = [x, 'Count']\n",
    "    fig = px.bar(count_df, x=x, y='Count', title=title or f'Count of {x}')\n",
    "    fig.show()\n",
    "\n",
    "def plot_correlation_heatmap(df, title='Correlation Heatmap'):\n",
    "    corr = df.corr(numeric_only=True)\n",
    "    fig = px.imshow(corr, text_auto=True, color_continuous_scale='RdBu_r', title=title)\n",
    "    fig.show()\n",
    "\n",
    "def plot_regression(df, x, y, color=None, title=None):\n",
    "    fig = px.scatter(df, x=x, y=y, color=color, trendline='ols', title=title or f'Regression: {y} vs {x}')\n",
    "    fig.show()\n"
   ]
  },
  {
   "cell_type": "code",
   "execution_count": 3,
   "id": "0e8ef82a",
   "metadata": {},
   "outputs": [
    {
     "name": "stdout",
     "output_type": "stream",
     "text": [
      "🔹 Histogram: Age Distribution\n"
     ]
    },
    {
     "data": {
      "application/vnd.plotly.v1+json": {
       "config": {
        "plotlyServerURL": "https://plot.ly"
       },
       "data": [
        {
         "bingroup": "x",
         "hovertemplate": "Age=%{x}<br>count=%{y}<extra></extra>",
         "legendgroup": "",
         "marker": {
          "color": "#636efa",
          "pattern": {
           "shape": ""
          }
         },
         "name": "",
         "nbinsx": 30,
         "orientation": "v",
         "showlegend": false,
         "type": "histogram",
         "x": {
          "bdata": "KzoxIh8sGjozIxY1JjQYIigoIy4dJiktLxwYNCsgNykzKDw5JTEuNR4uMhYcEyUvNyg4GhYnKycTJxouKx4iHScxHi0iICYdIhw7KCEqJiUuLyIiJRAYNTglLStGMyYeFyogGSEdODAnNigfNy0dJh8aMTsaLSEjIh8oHyonJR4iLy0eKC8XLSEtIBUXKCoeLhcnGyEoHyQyIjAcLTYPIC0lKyEoJjMqKyMjIysjKjwwJDQjEx0VJCg4KyUwESovGTMrIy4+KSojHzAfKCMsKzIiJR4jKy8eMDUsOiAbFjYuJyocQCkpLywqICw6NTciHiYoMhc3JiMdFzAoGxskOCUYJSUNJyUuOjMlHEEoKCcpJiIiJyIgKSU3DTI0EyQkGSAcOTE0LxwiLBsvJSQvLCQzHS4tJCsbMSYiMiAZGC4bORM4KiciKyczKSkkJysWGi8pJigrIiApHiwWMiwqMTgyFRshKC0gKSAhGR4aHjIeQiwpHy8iKUEnMyAnOSE6LyIuMS4YICUnLikaKy4tMjAsJxcsKiobHTInLigoMSIoIyMkKiM0HyYjNikyGSowKDIiNj4kIzY3IiMlGh4dICcqNx4xJScuHCspLCpAISIhIiEzNiIfLCIuKhg3OSEkKisuPCYgGiAnOSIqJzNBIiMyLjo=",
          "dtype": "i1"
         },
         "xaxis": "x",
         "yaxis": "y"
        }
       ],
       "layout": {
        "bargap": 0.1,
        "barmode": "relative",
        "legend": {
         "tracegroupgap": 0
        },
        "template": {
         "data": {
          "bar": [
           {
            "error_x": {
             "color": "#2a3f5f"
            },
            "error_y": {
             "color": "#2a3f5f"
            },
            "marker": {
             "line": {
              "color": "#E5ECF6",
              "width": 0.5
             },
             "pattern": {
              "fillmode": "overlay",
              "size": 10,
              "solidity": 0.2
             }
            },
            "type": "bar"
           }
          ],
          "barpolar": [
           {
            "marker": {
             "line": {
              "color": "#E5ECF6",
              "width": 0.5
             },
             "pattern": {
              "fillmode": "overlay",
              "size": 10,
              "solidity": 0.2
             }
            },
            "type": "barpolar"
           }
          ],
          "carpet": [
           {
            "aaxis": {
             "endlinecolor": "#2a3f5f",
             "gridcolor": "white",
             "linecolor": "white",
             "minorgridcolor": "white",
             "startlinecolor": "#2a3f5f"
            },
            "baxis": {
             "endlinecolor": "#2a3f5f",
             "gridcolor": "white",
             "linecolor": "white",
             "minorgridcolor": "white",
             "startlinecolor": "#2a3f5f"
            },
            "type": "carpet"
           }
          ],
          "choropleth": [
           {
            "colorbar": {
             "outlinewidth": 0,
             "ticks": ""
            },
            "type": "choropleth"
           }
          ],
          "contour": [
           {
            "colorbar": {
             "outlinewidth": 0,
             "ticks": ""
            },
            "colorscale": [
             [
              0,
              "#0d0887"
             ],
             [
              0.1111111111111111,
              "#46039f"
             ],
             [
              0.2222222222222222,
              "#7201a8"
             ],
             [
              0.3333333333333333,
              "#9c179e"
             ],
             [
              0.4444444444444444,
              "#bd3786"
             ],
             [
              0.5555555555555556,
              "#d8576b"
             ],
             [
              0.6666666666666666,
              "#ed7953"
             ],
             [
              0.7777777777777778,
              "#fb9f3a"
             ],
             [
              0.8888888888888888,
              "#fdca26"
             ],
             [
              1,
              "#f0f921"
             ]
            ],
            "type": "contour"
           }
          ],
          "contourcarpet": [
           {
            "colorbar": {
             "outlinewidth": 0,
             "ticks": ""
            },
            "type": "contourcarpet"
           }
          ],
          "heatmap": [
           {
            "colorbar": {
             "outlinewidth": 0,
             "ticks": ""
            },
            "colorscale": [
             [
              0,
              "#0d0887"
             ],
             [
              0.1111111111111111,
              "#46039f"
             ],
             [
              0.2222222222222222,
              "#7201a8"
             ],
             [
              0.3333333333333333,
              "#9c179e"
             ],
             [
              0.4444444444444444,
              "#bd3786"
             ],
             [
              0.5555555555555556,
              "#d8576b"
             ],
             [
              0.6666666666666666,
              "#ed7953"
             ],
             [
              0.7777777777777778,
              "#fb9f3a"
             ],
             [
              0.8888888888888888,
              "#fdca26"
             ],
             [
              1,
              "#f0f921"
             ]
            ],
            "type": "heatmap"
           }
          ],
          "histogram": [
           {
            "marker": {
             "pattern": {
              "fillmode": "overlay",
              "size": 10,
              "solidity": 0.2
             }
            },
            "type": "histogram"
           }
          ],
          "histogram2d": [
           {
            "colorbar": {
             "outlinewidth": 0,
             "ticks": ""
            },
            "colorscale": [
             [
              0,
              "#0d0887"
             ],
             [
              0.1111111111111111,
              "#46039f"
             ],
             [
              0.2222222222222222,
              "#7201a8"
             ],
             [
              0.3333333333333333,
              "#9c179e"
             ],
             [
              0.4444444444444444,
              "#bd3786"
             ],
             [
              0.5555555555555556,
              "#d8576b"
             ],
             [
              0.6666666666666666,
              "#ed7953"
             ],
             [
              0.7777777777777778,
              "#fb9f3a"
             ],
             [
              0.8888888888888888,
              "#fdca26"
             ],
             [
              1,
              "#f0f921"
             ]
            ],
            "type": "histogram2d"
           }
          ],
          "histogram2dcontour": [
           {
            "colorbar": {
             "outlinewidth": 0,
             "ticks": ""
            },
            "colorscale": [
             [
              0,
              "#0d0887"
             ],
             [
              0.1111111111111111,
              "#46039f"
             ],
             [
              0.2222222222222222,
              "#7201a8"
             ],
             [
              0.3333333333333333,
              "#9c179e"
             ],
             [
              0.4444444444444444,
              "#bd3786"
             ],
             [
              0.5555555555555556,
              "#d8576b"
             ],
             [
              0.6666666666666666,
              "#ed7953"
             ],
             [
              0.7777777777777778,
              "#fb9f3a"
             ],
             [
              0.8888888888888888,
              "#fdca26"
             ],
             [
              1,
              "#f0f921"
             ]
            ],
            "type": "histogram2dcontour"
           }
          ],
          "mesh3d": [
           {
            "colorbar": {
             "outlinewidth": 0,
             "ticks": ""
            },
            "type": "mesh3d"
           }
          ],
          "parcoords": [
           {
            "line": {
             "colorbar": {
              "outlinewidth": 0,
              "ticks": ""
             }
            },
            "type": "parcoords"
           }
          ],
          "pie": [
           {
            "automargin": true,
            "type": "pie"
           }
          ],
          "scatter": [
           {
            "fillpattern": {
             "fillmode": "overlay",
             "size": 10,
             "solidity": 0.2
            },
            "type": "scatter"
           }
          ],
          "scatter3d": [
           {
            "line": {
             "colorbar": {
              "outlinewidth": 0,
              "ticks": ""
             }
            },
            "marker": {
             "colorbar": {
              "outlinewidth": 0,
              "ticks": ""
             }
            },
            "type": "scatter3d"
           }
          ],
          "scattercarpet": [
           {
            "marker": {
             "colorbar": {
              "outlinewidth": 0,
              "ticks": ""
             }
            },
            "type": "scattercarpet"
           }
          ],
          "scattergeo": [
           {
            "marker": {
             "colorbar": {
              "outlinewidth": 0,
              "ticks": ""
             }
            },
            "type": "scattergeo"
           }
          ],
          "scattergl": [
           {
            "marker": {
             "colorbar": {
              "outlinewidth": 0,
              "ticks": ""
             }
            },
            "type": "scattergl"
           }
          ],
          "scattermap": [
           {
            "marker": {
             "colorbar": {
              "outlinewidth": 0,
              "ticks": ""
             }
            },
            "type": "scattermap"
           }
          ],
          "scattermapbox": [
           {
            "marker": {
             "colorbar": {
              "outlinewidth": 0,
              "ticks": ""
             }
            },
            "type": "scattermapbox"
           }
          ],
          "scatterpolar": [
           {
            "marker": {
             "colorbar": {
              "outlinewidth": 0,
              "ticks": ""
             }
            },
            "type": "scatterpolar"
           }
          ],
          "scatterpolargl": [
           {
            "marker": {
             "colorbar": {
              "outlinewidth": 0,
              "ticks": ""
             }
            },
            "type": "scatterpolargl"
           }
          ],
          "scatterternary": [
           {
            "marker": {
             "colorbar": {
              "outlinewidth": 0,
              "ticks": ""
             }
            },
            "type": "scatterternary"
           }
          ],
          "surface": [
           {
            "colorbar": {
             "outlinewidth": 0,
             "ticks": ""
            },
            "colorscale": [
             [
              0,
              "#0d0887"
             ],
             [
              0.1111111111111111,
              "#46039f"
             ],
             [
              0.2222222222222222,
              "#7201a8"
             ],
             [
              0.3333333333333333,
              "#9c179e"
             ],
             [
              0.4444444444444444,
              "#bd3786"
             ],
             [
              0.5555555555555556,
              "#d8576b"
             ],
             [
              0.6666666666666666,
              "#ed7953"
             ],
             [
              0.7777777777777778,
              "#fb9f3a"
             ],
             [
              0.8888888888888888,
              "#fdca26"
             ],
             [
              1,
              "#f0f921"
             ]
            ],
            "type": "surface"
           }
          ],
          "table": [
           {
            "cells": {
             "fill": {
              "color": "#EBF0F8"
             },
             "line": {
              "color": "white"
             }
            },
            "header": {
             "fill": {
              "color": "#C8D4E3"
             },
             "line": {
              "color": "white"
             }
            },
            "type": "table"
           }
          ]
         },
         "layout": {
          "annotationdefaults": {
           "arrowcolor": "#2a3f5f",
           "arrowhead": 0,
           "arrowwidth": 1
          },
          "autotypenumbers": "strict",
          "coloraxis": {
           "colorbar": {
            "outlinewidth": 0,
            "ticks": ""
           }
          },
          "colorscale": {
           "diverging": [
            [
             0,
             "#8e0152"
            ],
            [
             0.1,
             "#c51b7d"
            ],
            [
             0.2,
             "#de77ae"
            ],
            [
             0.3,
             "#f1b6da"
            ],
            [
             0.4,
             "#fde0ef"
            ],
            [
             0.5,
             "#f7f7f7"
            ],
            [
             0.6,
             "#e6f5d0"
            ],
            [
             0.7,
             "#b8e186"
            ],
            [
             0.8,
             "#7fbc41"
            ],
            [
             0.9,
             "#4d9221"
            ],
            [
             1,
             "#276419"
            ]
           ],
           "sequential": [
            [
             0,
             "#0d0887"
            ],
            [
             0.1111111111111111,
             "#46039f"
            ],
            [
             0.2222222222222222,
             "#7201a8"
            ],
            [
             0.3333333333333333,
             "#9c179e"
            ],
            [
             0.4444444444444444,
             "#bd3786"
            ],
            [
             0.5555555555555556,
             "#d8576b"
            ],
            [
             0.6666666666666666,
             "#ed7953"
            ],
            [
             0.7777777777777778,
             "#fb9f3a"
            ],
            [
             0.8888888888888888,
             "#fdca26"
            ],
            [
             1,
             "#f0f921"
            ]
           ],
           "sequentialminus": [
            [
             0,
             "#0d0887"
            ],
            [
             0.1111111111111111,
             "#46039f"
            ],
            [
             0.2222222222222222,
             "#7201a8"
            ],
            [
             0.3333333333333333,
             "#9c179e"
            ],
            [
             0.4444444444444444,
             "#bd3786"
            ],
            [
             0.5555555555555556,
             "#d8576b"
            ],
            [
             0.6666666666666666,
             "#ed7953"
            ],
            [
             0.7777777777777778,
             "#fb9f3a"
            ],
            [
             0.8888888888888888,
             "#fdca26"
            ],
            [
             1,
             "#f0f921"
            ]
           ]
          },
          "colorway": [
           "#636efa",
           "#EF553B",
           "#00cc96",
           "#ab63fa",
           "#FFA15A",
           "#19d3f3",
           "#FF6692",
           "#B6E880",
           "#FF97FF",
           "#FECB52"
          ],
          "font": {
           "color": "#2a3f5f"
          },
          "geo": {
           "bgcolor": "white",
           "lakecolor": "white",
           "landcolor": "#E5ECF6",
           "showlakes": true,
           "showland": true,
           "subunitcolor": "white"
          },
          "hoverlabel": {
           "align": "left"
          },
          "hovermode": "closest",
          "mapbox": {
           "style": "light"
          },
          "paper_bgcolor": "white",
          "plot_bgcolor": "#E5ECF6",
          "polar": {
           "angularaxis": {
            "gridcolor": "white",
            "linecolor": "white",
            "ticks": ""
           },
           "bgcolor": "#E5ECF6",
           "radialaxis": {
            "gridcolor": "white",
            "linecolor": "white",
            "ticks": ""
           }
          },
          "scene": {
           "xaxis": {
            "backgroundcolor": "#E5ECF6",
            "gridcolor": "white",
            "gridwidth": 2,
            "linecolor": "white",
            "showbackground": true,
            "ticks": "",
            "zerolinecolor": "white"
           },
           "yaxis": {
            "backgroundcolor": "#E5ECF6",
            "gridcolor": "white",
            "gridwidth": 2,
            "linecolor": "white",
            "showbackground": true,
            "ticks": "",
            "zerolinecolor": "white"
           },
           "zaxis": {
            "backgroundcolor": "#E5ECF6",
            "gridcolor": "white",
            "gridwidth": 2,
            "linecolor": "white",
            "showbackground": true,
            "ticks": "",
            "zerolinecolor": "white"
           }
          },
          "shapedefaults": {
           "line": {
            "color": "#2a3f5f"
           }
          },
          "ternary": {
           "aaxis": {
            "gridcolor": "white",
            "linecolor": "white",
            "ticks": ""
           },
           "baxis": {
            "gridcolor": "white",
            "linecolor": "white",
            "ticks": ""
           },
           "bgcolor": "#E5ECF6",
           "caxis": {
            "gridcolor": "white",
            "linecolor": "white",
            "ticks": ""
           }
          },
          "title": {
           "x": 0.05
          },
          "xaxis": {
           "automargin": true,
           "gridcolor": "white",
           "linecolor": "white",
           "ticks": "",
           "title": {
            "standoff": 15
           },
           "zerolinecolor": "white",
           "zerolinewidth": 2
          },
          "yaxis": {
           "automargin": true,
           "gridcolor": "white",
           "linecolor": "white",
           "ticks": "",
           "title": {
            "standoff": 15
           },
           "zerolinecolor": "white",
           "zerolinewidth": 2
          }
         }
        },
        "title": {
         "text": "Distribution of Age"
        },
        "xaxis": {
         "anchor": "y",
         "domain": [
          0,
          1
         ],
         "title": {
          "text": "Age"
         }
        },
        "yaxis": {
         "anchor": "x",
         "domain": [
          0,
          1
         ],
         "title": {
          "text": "count"
         }
        }
       }
      }
     },
     "metadata": {},
     "output_type": "display_data"
    },
    {
     "name": "stdout",
     "output_type": "stream",
     "text": [
      "🔹 Density Plot: Income\n"
     ]
    },
    {
     "data": {
      "application/vnd.plotly.v1+json": {
       "config": {
        "plotlyServerURL": "https://plot.ly"
       },
       "data": [
        {
         "bingroup": "x",
         "histnorm": "density",
         "hovertemplate": "Income=%{x}<br>density=%{y}<extra></extra>",
         "legendgroup": "",
         "marker": {
          "color": "#636efa",
          "pattern": {
           "shape": ""
          }
         },
         "name": "",
         "orientation": "v",
         "showlegend": false,
         "type": "histogram",
         "x": {
          "bdata": "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",
          "dtype": "i4"
         },
         "xaxis": "x",
         "yaxis": "y"
        },
        {
         "boxpoints": "all",
         "fillcolor": "rgba(255,255,255,0)",
         "hoveron": "points",
         "hovertemplate": "Income=%{x}<extra></extra>",
         "jitter": 0,
         "legendgroup": "",
         "line": {
          "color": "rgba(255,255,255,0)"
         },
         "marker": {
          "color": "#636efa",
          "symbol": "line-ns-open"
         },
         "name": "",
         "showlegend": false,
         "type": "box",
         "x": {
          "bdata": "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",
          "dtype": "i4"
         },
         "xaxis": "x2",
         "yaxis": "y2"
        }
       ],
       "layout": {
        "barmode": "relative",
        "legend": {
         "tracegroupgap": 0
        },
        "template": {
         "data": {
          "bar": [
           {
            "error_x": {
             "color": "#2a3f5f"
            },
            "error_y": {
             "color": "#2a3f5f"
            },
            "marker": {
             "line": {
              "color": "#E5ECF6",
              "width": 0.5
             },
             "pattern": {
              "fillmode": "overlay",
              "size": 10,
              "solidity": 0.2
             }
            },
            "type": "bar"
           }
          ],
          "barpolar": [
           {
            "marker": {
             "line": {
              "color": "#E5ECF6",
              "width": 0.5
             },
             "pattern": {
              "fillmode": "overlay",
              "size": 10,
              "solidity": 0.2
             }
            },
            "type": "barpolar"
           }
          ],
          "carpet": [
           {
            "aaxis": {
             "endlinecolor": "#2a3f5f",
             "gridcolor": "white",
             "linecolor": "white",
             "minorgridcolor": "white",
             "startlinecolor": "#2a3f5f"
            },
            "baxis": {
             "endlinecolor": "#2a3f5f",
             "gridcolor": "white",
             "linecolor": "white",
             "minorgridcolor": "white",
             "startlinecolor": "#2a3f5f"
            },
            "type": "carpet"
           }
          ],
          "choropleth": [
           {
            "colorbar": {
             "outlinewidth": 0,
             "ticks": ""
            },
            "type": "choropleth"
           }
          ],
          "contour": [
           {
            "colorbar": {
             "outlinewidth": 0,
             "ticks": ""
            },
            "colorscale": [
             [
              0,
              "#0d0887"
             ],
             [
              0.1111111111111111,
              "#46039f"
             ],
             [
              0.2222222222222222,
              "#7201a8"
             ],
             [
              0.3333333333333333,
              "#9c179e"
             ],
             [
              0.4444444444444444,
              "#bd3786"
             ],
             [
              0.5555555555555556,
              "#d8576b"
             ],
             [
              0.6666666666666666,
              "#ed7953"
             ],
             [
              0.7777777777777778,
              "#fb9f3a"
             ],
             [
              0.8888888888888888,
              "#fdca26"
             ],
             [
              1,
              "#f0f921"
             ]
            ],
            "type": "contour"
           }
          ],
          "contourcarpet": [
           {
            "colorbar": {
             "outlinewidth": 0,
             "ticks": ""
            },
            "type": "contourcarpet"
           }
          ],
          "heatmap": [
           {
            "colorbar": {
             "outlinewidth": 0,
             "ticks": ""
            },
            "colorscale": [
             [
              0,
              "#0d0887"
             ],
             [
              0.1111111111111111,
              "#46039f"
             ],
             [
              0.2222222222222222,
              "#7201a8"
             ],
             [
              0.3333333333333333,
              "#9c179e"
             ],
             [
              0.4444444444444444,
              "#bd3786"
             ],
             [
              0.5555555555555556,
              "#d8576b"
             ],
             [
              0.6666666666666666,
              "#ed7953"
             ],
             [
              0.7777777777777778,
              "#fb9f3a"
             ],
             [
              0.8888888888888888,
              "#fdca26"
             ],
             [
              1,
              "#f0f921"
             ]
            ],
            "type": "heatmap"
           }
          ],
          "histogram": [
           {
            "marker": {
             "pattern": {
              "fillmode": "overlay",
              "size": 10,
              "solidity": 0.2
             }
            },
            "type": "histogram"
           }
          ],
          "histogram2d": [
           {
            "colorbar": {
             "outlinewidth": 0,
             "ticks": ""
            },
            "colorscale": [
             [
              0,
              "#0d0887"
             ],
             [
              0.1111111111111111,
              "#46039f"
             ],
             [
              0.2222222222222222,
              "#7201a8"
             ],
             [
              0.3333333333333333,
              "#9c179e"
             ],
             [
              0.4444444444444444,
              "#bd3786"
             ],
             [
              0.5555555555555556,
              "#d8576b"
             ],
             [
              0.6666666666666666,
              "#ed7953"
             ],
             [
              0.7777777777777778,
              "#fb9f3a"
             ],
             [
              0.8888888888888888,
              "#fdca26"
             ],
             [
              1,
              "#f0f921"
             ]
            ],
            "type": "histogram2d"
           }
          ],
          "histogram2dcontour": [
           {
            "colorbar": {
             "outlinewidth": 0,
             "ticks": ""
            },
            "colorscale": [
             [
              0,
              "#0d0887"
             ],
             [
              0.1111111111111111,
              "#46039f"
             ],
             [
              0.2222222222222222,
              "#7201a8"
             ],
             [
              0.3333333333333333,
              "#9c179e"
             ],
             [
              0.4444444444444444,
              "#bd3786"
             ],
             [
              0.5555555555555556,
              "#d8576b"
             ],
             [
              0.6666666666666666,
              "#ed7953"
             ],
             [
              0.7777777777777778,
              "#fb9f3a"
             ],
             [
              0.8888888888888888,
              "#fdca26"
             ],
             [
              1,
              "#f0f921"
             ]
            ],
            "type": "histogram2dcontour"
           }
          ],
          "mesh3d": [
           {
            "colorbar": {
             "outlinewidth": 0,
             "ticks": ""
            },
            "type": "mesh3d"
           }
          ],
          "parcoords": [
           {
            "line": {
             "colorbar": {
              "outlinewidth": 0,
              "ticks": ""
             }
            },
            "type": "parcoords"
           }
          ],
          "pie": [
           {
            "automargin": true,
            "type": "pie"
           }
          ],
          "scatter": [
           {
            "fillpattern": {
             "fillmode": "overlay",
             "size": 10,
             "solidity": 0.2
            },
            "type": "scatter"
           }
          ],
          "scatter3d": [
           {
            "line": {
             "colorbar": {
              "outlinewidth": 0,
              "ticks": ""
             }
            },
            "marker": {
             "colorbar": {
              "outlinewidth": 0,
              "ticks": ""
             }
            },
            "type": "scatter3d"
           }
          ],
          "scattercarpet": [
           {
            "marker": {
             "colorbar": {
              "outlinewidth": 0,
              "ticks": ""
             }
            },
            "type": "scattercarpet"
           }
          ],
          "scattergeo": [
           {
            "marker": {
             "colorbar": {
              "outlinewidth": 0,
              "ticks": ""
             }
            },
            "type": "scattergeo"
           }
          ],
          "scattergl": [
           {
            "marker": {
             "colorbar": {
              "outlinewidth": 0,
              "ticks": ""
             }
            },
            "type": "scattergl"
           }
          ],
          "scattermap": [
           {
            "marker": {
             "colorbar": {
              "outlinewidth": 0,
              "ticks": ""
             }
            },
            "type": "scattermap"
           }
          ],
          "scattermapbox": [
           {
            "marker": {
             "colorbar": {
              "outlinewidth": 0,
              "ticks": ""
             }
            },
            "type": "scattermapbox"
           }
          ],
          "scatterpolar": [
           {
            "marker": {
             "colorbar": {
              "outlinewidth": 0,
              "ticks": ""
             }
            },
            "type": "scatterpolar"
           }
          ],
          "scatterpolargl": [
           {
            "marker": {
             "colorbar": {
              "outlinewidth": 0,
              "ticks": ""
             }
            },
            "type": "scatterpolargl"
           }
          ],
          "scatterternary": [
           {
            "marker": {
             "colorbar": {
              "outlinewidth": 0,
              "ticks": ""
             }
            },
            "type": "scatterternary"
           }
          ],
          "surface": [
           {
            "colorbar": {
             "outlinewidth": 0,
             "ticks": ""
            },
            "colorscale": [
             [
              0,
              "#0d0887"
             ],
             [
              0.1111111111111111,
              "#46039f"
             ],
             [
              0.2222222222222222,
              "#7201a8"
             ],
             [
              0.3333333333333333,
              "#9c179e"
             ],
             [
              0.4444444444444444,
              "#bd3786"
             ],
             [
              0.5555555555555556,
              "#d8576b"
             ],
             [
              0.6666666666666666,
              "#ed7953"
             ],
             [
              0.7777777777777778,
              "#fb9f3a"
             ],
             [
              0.8888888888888888,
              "#fdca26"
             ],
             [
              1,
              "#f0f921"
             ]
            ],
            "type": "surface"
           }
          ],
          "table": [
           {
            "cells": {
             "fill": {
              "color": "#EBF0F8"
             },
             "line": {
              "color": "white"
             }
            },
            "header": {
             "fill": {
              "color": "#C8D4E3"
             },
             "line": {
              "color": "white"
             }
            },
            "type": "table"
           }
          ]
         },
         "layout": {
          "annotationdefaults": {
           "arrowcolor": "#2a3f5f",
           "arrowhead": 0,
           "arrowwidth": 1
          },
          "autotypenumbers": "strict",
          "coloraxis": {
           "colorbar": {
            "outlinewidth": 0,
            "ticks": ""
           }
          },
          "colorscale": {
           "diverging": [
            [
             0,
             "#8e0152"
            ],
            [
             0.1,
             "#c51b7d"
            ],
            [
             0.2,
             "#de77ae"
            ],
            [
             0.3,
             "#f1b6da"
            ],
            [
             0.4,
             "#fde0ef"
            ],
            [
             0.5,
             "#f7f7f7"
            ],
            [
             0.6,
             "#e6f5d0"
            ],
            [
             0.7,
             "#b8e186"
            ],
            [
             0.8,
             "#7fbc41"
            ],
            [
             0.9,
             "#4d9221"
            ],
            [
             1,
             "#276419"
            ]
           ],
           "sequential": [
            [
             0,
             "#0d0887"
            ],
            [
             0.1111111111111111,
             "#46039f"
            ],
            [
             0.2222222222222222,
             "#7201a8"
            ],
            [
             0.3333333333333333,
             "#9c179e"
            ],
            [
             0.4444444444444444,
             "#bd3786"
            ],
            [
             0.5555555555555556,
             "#d8576b"
            ],
            [
             0.6666666666666666,
             "#ed7953"
            ],
            [
             0.7777777777777778,
             "#fb9f3a"
            ],
            [
             0.8888888888888888,
             "#fdca26"
            ],
            [
             1,
             "#f0f921"
            ]
           ],
           "sequentialminus": [
            [
             0,
             "#0d0887"
            ],
            [
             0.1111111111111111,
             "#46039f"
            ],
            [
             0.2222222222222222,
             "#7201a8"
            ],
            [
             0.3333333333333333,
             "#9c179e"
            ],
            [
             0.4444444444444444,
             "#bd3786"
            ],
            [
             0.5555555555555556,
             "#d8576b"
            ],
            [
             0.6666666666666666,
             "#ed7953"
            ],
            [
             0.7777777777777778,
             "#fb9f3a"
            ],
            [
             0.8888888888888888,
             "#fdca26"
            ],
            [
             1,
             "#f0f921"
            ]
           ]
          },
          "colorway": [
           "#636efa",
           "#EF553B",
           "#00cc96",
           "#ab63fa",
           "#FFA15A",
           "#19d3f3",
           "#FF6692",
           "#B6E880",
           "#FF97FF",
           "#FECB52"
          ],
          "font": {
           "color": "#2a3f5f"
          },
          "geo": {
           "bgcolor": "white",
           "lakecolor": "white",
           "landcolor": "#E5ECF6",
           "showlakes": true,
           "showland": true,
           "subunitcolor": "white"
          },
          "hoverlabel": {
           "align": "left"
          },
          "hovermode": "closest",
          "mapbox": {
           "style": "light"
          },
          "paper_bgcolor": "white",
          "plot_bgcolor": "#E5ECF6",
          "polar": {
           "angularaxis": {
            "gridcolor": "white",
            "linecolor": "white",
            "ticks": ""
           },
           "bgcolor": "#E5ECF6",
           "radialaxis": {
            "gridcolor": "white",
            "linecolor": "white",
            "ticks": ""
           }
          },
          "scene": {
           "xaxis": {
            "backgroundcolor": "#E5ECF6",
            "gridcolor": "white",
            "gridwidth": 2,
            "linecolor": "white",
            "showbackground": true,
            "ticks": "",
            "zerolinecolor": "white"
           },
           "yaxis": {
            "backgroundcolor": "#E5ECF6",
            "gridcolor": "white",
            "gridwidth": 2,
            "linecolor": "white",
            "showbackground": true,
            "ticks": "",
            "zerolinecolor": "white"
           },
           "zaxis": {
            "backgroundcolor": "#E5ECF6",
            "gridcolor": "white",
            "gridwidth": 2,
            "linecolor": "white",
            "showbackground": true,
            "ticks": "",
            "zerolinecolor": "white"
           }
          },
          "shapedefaults": {
           "line": {
            "color": "#2a3f5f"
           }
          },
          "ternary": {
           "aaxis": {
            "gridcolor": "white",
            "linecolor": "white",
            "ticks": ""
           },
           "baxis": {
            "gridcolor": "white",
            "linecolor": "white",
            "ticks": ""
           },
           "bgcolor": "#E5ECF6",
           "caxis": {
            "gridcolor": "white",
            "linecolor": "white",
            "ticks": ""
           }
          },
          "title": {
           "x": 0.05
          },
          "xaxis": {
           "automargin": true,
           "gridcolor": "white",
           "linecolor": "white",
           "ticks": "",
           "title": {
            "standoff": 15
           },
           "zerolinecolor": "white",
           "zerolinewidth": 2
          },
          "yaxis": {
           "automargin": true,
           "gridcolor": "white",
           "linecolor": "white",
           "ticks": "",
           "title": {
            "standoff": 15
           },
           "zerolinecolor": "white",
           "zerolinewidth": 2
          }
         }
        },
        "title": {
         "text": "Density of Income"
        },
        "xaxis": {
         "anchor": "y",
         "domain": [
          0,
          1
         ],
         "title": {
          "text": "Income"
         }
        },
        "xaxis2": {
         "anchor": "y2",
         "domain": [
          0,
          1
         ],
         "matches": "x",
         "showgrid": true,
         "showticklabels": false
        },
        "yaxis": {
         "anchor": "x",
         "domain": [
          0,
          0.8316
         ],
         "title": {
          "text": "density"
         }
        },
        "yaxis2": {
         "anchor": "x2",
         "domain": [
          0.8416,
          1
         ],
         "matches": "y2",
         "showgrid": false,
         "showline": false,
         "showticklabels": false,
         "ticks": ""
        }
       }
      }
     },
     "metadata": {},
     "output_type": "display_data"
    },
    {
     "name": "stdout",
     "output_type": "stream",
     "text": [
      "🔹 Scatter Plot: Income vs Age by Marital Status\n"
     ]
    },
    {
     "data": {
      "application/vnd.plotly.v1+json": {
       "config": {
        "plotlyServerURL": "https://plot.ly"
       },
       "data": [
        {
         "customdata": [
          [
           0,
           "Single",
           "Business",
           0.6743550977573551,
           "Retail"
          ],
          [
           1,
           "Single",
           "Personal",
           0.12077749909728064,
           "Retail"
          ],
          [
           0,
           "Single",
           "Personal",
           2.349377051258924,
           "Retail"
          ],
          [
           0,
           "Single",
           "Business",
           9.97511391569933,
           "Restaurant"
          ],
          [
           1,
           "Single",
           "Family",
           7.2057120521959295,
           "Retail"
          ],
          [
           1,
           "Single",
           "Business",
           2.2867627891977973,
           "Retail"
          ],
          [
           0,
           "Single",
           "Business",
           6.1199508695478615,
           "Grocery"
          ],
          [
           1,
           "Single",
           "Personal",
           0.4200365072286928,
           "Restaurant"
          ],
          [
           0,
           "Single",
           "Family",
           4.742706801522505,
           "Retail"
          ],
          [
           0,
           "Single",
           "Business",
           0.9679286993740279,
           "Grocery"
          ],
          [
           0,
           "Single",
           "Family",
           0.4833102756438287,
           "Grocery"
          ],
          [
           0,
           "Single",
           "Business",
           1.8634598383773497,
           "Grocery"
          ],
          [
           1,
           "Single",
           "Business",
           11.887956639428914,
           "Restaurant"
          ],
          [
           0,
           "Single",
           "Personal",
           6.0202944537394405,
           "Restaurant"
          ],
          [
           1,
           "Single",
           "Business",
           11.849072374007047,
           "Retail"
          ],
          [
           0,
           "Single",
           "Business",
           0.6712106151133505,
           "Retail"
          ],
          [
           0,
           "Single",
           "Personal",
           5.771664572678358,
           "Grocery"
          ],
          [
           0,
           "Single",
           "Business",
           1.7349043858424293,
           "Restaurant"
          ],
          [
           0,
           "Single",
           "Family",
           1.784356196005274,
           "Retail"
          ],
          [
           1,
           "Single",
           "Business",
           7.826621878694327,
           "Retail"
          ],
          [
           1,
           "Single",
           "Personal",
           0.057903508096757525,
           "Grocery"
          ],
          [
           1,
           "Single",
           "Personal",
           1.9436236918134697,
           "Retail"
          ],
          [
           0,
           "Single",
           "Family",
           4.895621288359564,
           "Restaurant"
          ],
          [
           0,
           "Single",
           "Personal",
           0.026708393016855708,
           "Retail"
          ],
          [
           0,
           "Single",
           "Business",
           18.38646898171226,
           "Restaurant"
          ],
          [
           1,
           "Single",
           "Family",
           5.389916809480202,
           "Restaurant"
          ],
          [
           1,
           "Single",
           "Business",
           4.200302770812762,
           "Grocery"
          ],
          [
           1,
           "Single",
           "Personal",
           4.395010043184049,
           "Retail"
          ],
          [
           0,
           "Single",
           "Business",
           2.8526784729387913,
           "Restaurant"
          ],
          [
           0,
           "Single",
           "Personal",
           1.5704311044760058,
           "Retail"
          ],
          [
           0,
           "Single",
           "Personal",
           1.286909991898142,
           "Retail"
          ],
          [
           1,
           "Single",
           "Family",
           0.3529677146342175,
           "Retail"
          ],
          [
           1,
           "Single",
           "Personal",
           1.068164028835806,
           "Retail"
          ],
          [
           0,
           "Single",
           "Personal",
           0.23992987421871625,
           "Grocery"
          ],
          [
           0,
           "Single",
           "Personal",
           3.6836335733509493,
           "Grocery"
          ],
          [
           0,
           "Single",
           "Family",
           0.15459368848813937,
           "Restaurant"
          ],
          [
           0,
           "Single",
           "Personal",
           1.546877793648263,
           "Grocery"
          ],
          [
           0,
           "Single",
           "Personal",
           0.7686626129183658,
           "Grocery"
          ],
          [
           0,
           "Single",
           "Family",
           11.587001903928966,
           "Grocery"
          ],
          [
           1,
           "Single",
           "Personal",
           2.7751854774302878,
           "Restaurant"
          ],
          [
           1,
           "Single",
           "Personal",
           0.393473532756932,
           "Restaurant"
          ],
          [
           1,
           "Single",
           "Family",
           6.585475306998919,
           "Grocery"
          ],
          [
           0,
           "Single",
           "Family",
           3.754793583808601,
           "Retail"
          ],
          [
           1,
           "Single",
           "Family",
           2.4122427092247074,
           "Restaurant"
          ],
          [
           0,
           "Single",
           "Personal",
           2.2029695401398905,
           "Retail"
          ],
          [
           0,
           "Single",
           "Personal",
           0.4625179048927527,
           "Grocery"
          ],
          [
           0,
           "Single",
           "Business",
           2.9791727204277674,
           "Retail"
          ],
          [
           1,
           "Single",
           "Business",
           0.00040410622920802116,
           "Retail"
          ],
          [
           1,
           "Single",
           "Family",
           2.1469707384133354,
           "Grocery"
          ],
          [
           0,
           "Single",
           "Personal",
           0.19422241397648035,
           "Retail"
          ],
          [
           0,
           "Single",
           "Business",
           5.485366692644359,
           "Retail"
          ],
          [
           0,
           "Single",
           "Personal",
           0.8503685192744865,
           "Grocery"
          ],
          [
           0,
           "Single",
           "Business",
           0.9457489154662682,
           "Retail"
          ],
          [
           1,
           "Single",
           "Family",
           1.1277826358815193,
           "Retail"
          ],
          [
           0,
           "Single",
           "Family",
           9.979250856506148,
           "Restaurant"
          ],
          [
           1,
           "Single",
           "Family",
           0.2805907254370845,
           "Retail"
          ],
          [
           1,
           "Single",
           "Personal",
           3.4848409339799646,
           "Retail"
          ],
          [
           0,
           "Single",
           "Business",
           0.547995967113627,
           "Restaurant"
          ],
          [
           0,
           "Single",
           "Business",
           10.148378823121623,
           "Retail"
          ],
          [
           0,
           "Single",
           "Business",
           9.033921265130637,
           "Grocery"
          ],
          [
           1,
           "Single",
           "Business",
           3.637431608631262,
           "Retail"
          ],
          [
           0,
           "Single",
           "Family",
           9.425731537632343,
           "Restaurant"
          ],
          [
           0,
           "Single",
           "Personal",
           1.8358055911499966,
           "Restaurant"
          ],
          [
           0,
           "Single",
           "Personal",
           4.3774679148391495,
           "Restaurant"
          ],
          [
           1,
           "Single",
           "Personal",
           5.180948519348694,
           "Restaurant"
          ],
          [
           0,
           "Single",
           "Personal",
           3.2131677704139285,
           "Grocery"
          ],
          [
           1,
           "Single",
           "Family",
           3.3978713351503345,
           "Grocery"
          ],
          [
           1,
           "Single",
           "Family",
           2.8075838935292703,
           "Grocery"
          ],
          [
           1,
           "Single",
           "Personal",
           1.049955586170477,
           "Retail"
          ],
          [
           1,
           "Single",
           "Personal",
           4.025081261356413,
           "Retail"
          ],
          [
           0,
           "Single",
           "Family",
           1.5082296617441022,
           "Retail"
          ],
          [
           0,
           "Single",
           "Business",
           5.414173523241018,
           "Restaurant"
          ],
          [
           0,
           "Single",
           "Family",
           0.39842946991376615,
           "Grocery"
          ],
          [
           0,
           "Single",
           "Business",
           2.2710589125399676,
           "Restaurant"
          ],
          [
           1,
           "Single",
           "Family",
           1.8713960098998568,
           "Retail"
          ],
          [
           0,
           "Single",
           "Business",
           3.3953496396716893,
           "Restaurant"
          ],
          [
           0,
           "Single",
           "Business",
           4.461546392012993,
           "Restaurant"
          ],
          [
           0,
           "Single",
           "Business",
           11.190832753607534,
           "Retail"
          ],
          [
           1,
           "Single",
           "Business",
           0.384206660635412,
           "Grocery"
          ],
          [
           0,
           "Single",
           "Family",
           0.053124698119395006,
           "Retail"
          ],
          [
           0,
           "Single",
           "Business",
           1.0414836475549698,
           "Grocery"
          ],
          [
           1,
           "Single",
           "Business",
           4.450291356384336,
           "Grocery"
          ],
          [
           0,
           "Single",
           "Business",
           6.864881247666776,
           "Grocery"
          ],
          [
           1,
           "Single",
           "Business",
           4.5475165450469985,
           "Grocery"
          ],
          [
           0,
           "Single",
           "Business",
           1.8374443585693379,
           "Grocery"
          ],
          [
           0,
           "Single",
           "Family",
           1.522519877985587,
           "Restaurant"
          ],
          [
           0,
           "Single",
           "Business",
           0.8494914255027999,
           "Retail"
          ],
          [
           1,
           "Single",
           "Business",
           4.128371647820147,
           "Grocery"
          ],
          [
           0,
           "Single",
           "Family",
           8.57963748705613,
           "Grocery"
          ],
          [
           1,
           "Single",
           "Family",
           14.24293345007983,
           "Restaurant"
          ],
          [
           1,
           "Single",
           "Business",
           9.8717882393487,
           "Restaurant"
          ],
          [
           0,
           "Single",
           "Family",
           1.3656086989388305,
           "Grocery"
          ],
          [
           0,
           "Single",
           "Personal",
           0.4768560470034755,
           "Restaurant"
          ],
          [
           0,
           "Single",
           "Family",
           4.999990037443963,
           "Grocery"
          ],
          [
           0,
           "Single",
           "Personal",
           3.031430964652191,
           "Retail"
          ],
          [
           0,
           "Single",
           "Business",
           1.4738813843333425,
           "Retail"
          ],
          [
           0,
           "Single",
           "Business",
           3.363772971201204,
           "Grocery"
          ],
          [
           0,
           "Single",
           "Personal",
           1.2702406034818885,
           "Grocery"
          ],
          [
           1,
           "Single",
           "Personal",
           0.023617493171920842,
           "Retail"
          ],
          [
           0,
           "Single",
           "Personal",
           2.9902401204044744,
           "Grocery"
          ],
          [
           0,
           "Single",
           "Personal",
           0.4325634017703105,
           "Restaurant"
          ],
          [
           0,
           "Single",
           "Personal",
           0.8307933909276142,
           "Restaurant"
          ],
          [
           1,
           "Single",
           "Family",
           3.414745578819769,
           "Grocery"
          ],
          [
           1,
           "Single",
           "Family",
           0.23790640431015242,
           "Retail"
          ],
          [
           0,
           "Single",
           "Personal",
           4.727180809703228,
           "Restaurant"
          ],
          [
           0,
           "Single",
           "Family",
           5.768029806808435,
           "Restaurant"
          ],
          [
           1,
           "Single",
           "Business",
           9.704023064576365,
           "Restaurant"
          ],
          [
           1,
           "Single",
           "Personal",
           0.6579241405241347,
           "Grocery"
          ],
          [
           1,
           "Single",
           "Business",
           2.5287010876782188,
           "Retail"
          ],
          [
           0,
           "Single",
           "Business",
           0.9014582174769585,
           "Retail"
          ],
          [
           0,
           "Single",
           "Family",
           2.7009637912848534,
           "Restaurant"
          ],
          [
           0,
           "Single",
           "Business",
           11.357216354578068,
           "Restaurant"
          ],
          [
           0,
           "Single",
           "Family",
           3.8010698367637556,
           "Restaurant"
          ],
          [
           1,
           "Single",
           "Business",
           0.8524262999393877,
           "Grocery"
          ],
          [
           0,
           "Single",
           "Business",
           3.2952412365568886,
           "Restaurant"
          ],
          [
           1,
           "Single",
           "Personal",
           2.4978161631259734,
           "Grocery"
          ],
          [
           0,
           "Single",
           "Business",
           0.027238691552712857,
           "Restaurant"
          ],
          [
           0,
           "Single",
           "Family",
           1.3249685754603202,
           "Restaurant"
          ],
          [
           0,
           "Single",
           "Family",
           3.01834837516566,
           "Retail"
          ],
          [
           1,
           "Single",
           "Business",
           0.7533788391915291,
           "Restaurant"
          ],
          [
           0,
           "Single",
           "Personal",
           1.1643641056396672,
           "Retail"
          ],
          [
           0,
           "Single",
           "Business",
           5.652455105262376,
           "Retail"
          ],
          [
           1,
           "Single",
           "Personal",
           3.9153759168791913,
           "Grocery"
          ],
          [
           0,
           "Single",
           "Family",
           0.30078486911000696,
           "Restaurant"
          ],
          [
           1,
           "Single",
           "Family",
           0.08881097940675642,
           "Restaurant"
          ],
          [
           1,
           "Single",
           "Business",
           0.37839976031087524,
           "Restaurant"
          ],
          [
           0,
           "Single",
           "Personal",
           14.996868227707052,
           "Restaurant"
          ],
          [
           0,
           "Single",
           "Personal",
           0.13785318654504822,
           "Retail"
          ],
          [
           1,
           "Single",
           "Family",
           4.293974640901723,
           "Grocery"
          ],
          [
           0,
           "Single",
           "Family",
           1.394327472916467,
           "Restaurant"
          ],
          [
           1,
           "Single",
           "Family",
           9.043436359761618,
           "Retail"
          ],
          [
           1,
           "Single",
           "Family",
           4.647132928731296,
           "Retail"
          ],
          [
           1,
           "Single",
           "Business",
           0.8670544268363185,
           "Retail"
          ],
          [
           1,
           "Single",
           "Family",
           7.51186794536906,
           "Restaurant"
          ],
          [
           1,
           "Single",
           "Business",
           2.115403675229453,
           "Grocery"
          ],
          [
           0,
           "Single",
           "Business",
           0.7486658066715753,
           "Grocery"
          ],
          [
           0,
           "Single",
           "Business",
           0.5779222303749806,
           "Restaurant"
          ],
          [
           1,
           "Single",
           "Family",
           1.7213718294452631,
           "Grocery"
          ],
          [
           0,
           "Single",
           "Personal",
           4.5473714746545815,
           "Retail"
          ],
          [
           1,
           "Single",
           "Family",
           2.0647168498421085,
           "Retail"
          ],
          [
           0,
           "Single",
           "Family",
           0.6960829797393092,
           "Grocery"
          ],
          [
           0,
           "Single",
           "Family",
           1.5799102494049913,
           "Restaurant"
          ],
          [
           0,
           "Single",
           "Personal",
           4.996098124985499,
           "Retail"
          ],
          [
           0,
           "Single",
           "Family",
           3.548768331499047,
           "Restaurant"
          ],
          [
           0,
           "Single",
           "Personal",
           0.4931917530841479,
           "Grocery"
          ],
          [
           1,
           "Single",
           "Business",
           0.9958317058213311,
           "Restaurant"
          ],
          [
           1,
           "Single",
           "Personal",
           1.6164709506398132,
           "Grocery"
          ],
          [
           0,
           "Single",
           "Family",
           1.0880735284025105,
           "Restaurant"
          ],
          [
           1,
           "Single",
           "Business",
           3.9207287132240625,
           "Restaurant"
          ],
          [
           0,
           "Single",
           "Business",
           10.219730456708247,
           "Retail"
          ],
          [
           0,
           "Single",
           "Business",
           0.761943091332633,
           "Grocery"
          ],
          [
           0,
           "Single",
           "Family",
           4.063181823841872,
           "Retail"
          ],
          [
           1,
           "Single",
           "Business",
           4.930435106188113,
           "Restaurant"
          ],
          [
           1,
           "Single",
           "Family",
           0.24511366636449333,
           "Restaurant"
          ],
          [
           0,
           "Single",
           "Family",
           2.3590586590572316,
           "Retail"
          ],
          [
           0,
           "Single",
           "Personal",
           0.549322290938834,
           "Retail"
          ],
          [
           0,
           "Single",
           "Business",
           2.6295719014408285,
           "Restaurant"
          ],
          [
           1,
           "Single",
           "Family",
           3.759742980566277,
           "Restaurant"
          ],
          [
           0,
           "Single",
           "Family",
           2.1332648249694466,
           "Grocery"
          ],
          [
           0,
           "Single",
           "Family",
           8.105825501301526,
           "Retail"
          ],
          [
           0,
           "Single",
           "Family",
           3.5841412252451392,
           "Grocery"
          ],
          [
           0,
           "Single",
           "Business",
           3.758718611476649,
           "Restaurant"
          ],
          [
           1,
           "Single",
           "Personal",
           7.614714227136114,
           "Grocery"
          ],
          [
           0,
           "Single",
           "Business",
           1.2266599088106835,
           "Retail"
          ],
          [
           1,
           "Single",
           "Personal",
           11.522662866757846,
           "Retail"
          ]
         ],
         "hovertemplate": "MaritalStatus=%{customdata[1]}<br>Age=%{x}<br>Income=%{y}<br>AcceptedCoupon=%{customdata[0]}<br>PassengerType=%{customdata[2]}<br>TripDuration=%{customdata[3]}<br>CouponType=%{customdata[4]}<extra></extra>",
         "legendgroup": "Single",
         "marker": {
          "color": "#636efa",
          "symbol": "circle"
         },
         "mode": "markers",
         "name": "Single",
         "orientation": "v",
         "showlegend": true,
         "type": "scatter",
         "x": {
          "bdata": "KzEfGjojFjUYIiMuHTMoNS4yLzgaFi4dJyYcOyYiEBhGMxcqGS0mHzsaKh4iLy0VFy4XGzIwLSUrKyMjKh0oES8rKSojHywwGydALyo6JjIXNzgYJSUuMygnJiINMjQTJBkiLC8vJDMYLjkTKycpKCkeFiwyFSgtICkgIR4yKR8vIjM5IS4gJSkyMi4jNB82GSgjJSAnKh5AMzYfIiEuJhogOTIu",
          "dtype": "i1"
         },
         "xaxis": "x",
         "y": {
          "bdata": "lgwBAPsMAQBzGgEA4CgBAOMuAQBiEAEAleAAAPjyAAD6/wAAU9MAAJL1AAAY7QAAspoAADfQAAC/9QAAIJEAAHoAAQAaRgEAiWkAAImuAADhEwEAqfgAAKyrAACi+AAAPdwAAHT+AACbBAEACBABAB3lAAAF6AAAeMIAAKEbAQCRjQAA7hYBALexAACU5wAAgKYAAOfZAADsDwEA6MgAAI0gAQDe7QAAkDcBAP7BAAAXUAEA+PUAAMLIAADwAwEAmuwAAEvbAACbiAAASxABAIb3AAAKTQEAmBABAAKOAADkQAEAIcoAABYvAQCo1AAAlxcBAGQuAQCg5wAAcc0AAErRAADy1QAAwQABAJIDAQC+JgEA3t4AAAIVAQC9ZAEApqwAAB33AAAw8wAA/+YAAO8nAQDMDwEALb4AAKP9AAA0/QAAGAMBAPs6AQC78QAAO+AAAEnrAAC/uAAAM2wAAIslAQBabgEAV9cAAJxwAQA5DQEAYRwBANcWAQDZ+gAAe/AAADK+AAAuIAEAWo4AAH8hAQCaCgEAjPAAADWcAAA87QAAwOwAAIjDAAAwmAAAzx4BABfZAADpwgAA8ewAALXJAAAcmgAAh4EBAGpKAQDJSQEAKdQAAOquAABUxAAAqKIAAF/sAABCvQAAEvgAAMP9AABKAAEA7QIBABDBAAAb5wAAFgsBAEz0AABptQAAR78AAHQxAQBFcgEAawEBADPyAABfnAAAlOQAAF3ZAAAXvgAAACoBADAGAQDVOwEAgp0AAKnGAAAn7gAAhg0BALhBAQAW8wAAn9YAAKbYAAAeIQEA2xYBAJjIAABeygAAuJMAAHwwAQBm0AAAPeAAAP2ZAADUiwAAHN4AAOLGAADbFQEA",
          "dtype": "i4"
         },
         "yaxis": "y"
        },
        {
         "customdata": [
          [
           1,
           "Divorced",
           "Business",
           1.5082635650705907,
           "Restaurant"
          ],
          [
           0,
           "Divorced",
           "Personal",
           1.9361928871307388,
           "Restaurant"
          ],
          [
           0,
           "Divorced",
           "Personal",
           0.7753398163768371,
           "Restaurant"
          ],
          [
           1,
           "Divorced",
           "Business",
           3.841948600571385,
           "Grocery"
          ],
          [
           1,
           "Divorced",
           "Personal",
           4.689234874284704,
           "Retail"
          ],
          [
           0,
           "Divorced",
           "Personal",
           0.39997988865607154,
           "Retail"
          ],
          [
           0,
           "Divorced",
           "Family",
           6.2889228778513475,
           "Grocery"
          ],
          [
           0,
           "Divorced",
           "Personal",
           8.649466639050491,
           "Restaurant"
          ],
          [
           0,
           "Divorced",
           "Personal",
           5.975336625795638,
           "Retail"
          ],
          [
           0,
           "Divorced",
           "Personal",
           1.4115948638410925,
           "Retail"
          ],
          [
           1,
           "Divorced",
           "Personal",
           1.0097076571802277,
           "Grocery"
          ],
          [
           0,
           "Divorced",
           "Business",
           0.6815416587251591,
           "Restaurant"
          ],
          [
           0,
           "Divorced",
           "Personal",
           4.303911087650866,
           "Restaurant"
          ],
          [
           0,
           "Divorced",
           "Personal",
           1.4659231284071277,
           "Restaurant"
          ],
          [
           0,
           "Divorced",
           "Business",
           2.1478687968421863,
           "Retail"
          ],
          [
           1,
           "Divorced",
           "Business",
           2.033744236226727,
           "Restaurant"
          ],
          [
           1,
           "Divorced",
           "Family",
           9.373912995593805,
           "Retail"
          ],
          [
           0,
           "Divorced",
           "Family",
           0.3471222834592935,
           "Retail"
          ],
          [
           0,
           "Divorced",
           "Family",
           6.707309517861351,
           "Retail"
          ],
          [
           0,
           "Divorced",
           "Family",
           6.448684764210968,
           "Grocery"
          ],
          [
           0,
           "Divorced",
           "Family",
           3.848041252635314,
           "Grocery"
          ],
          [
           0,
           "Divorced",
           "Personal",
           0.433118866785928,
           "Retail"
          ],
          [
           0,
           "Divorced",
           "Family",
           0.980349447529896,
           "Restaurant"
          ],
          [
           0,
           "Divorced",
           "Family",
           3.38864956331026,
           "Retail"
          ],
          [
           1,
           "Divorced",
           "Family",
           1.047053275514762,
           "Grocery"
          ],
          [
           1,
           "Divorced",
           "Business",
           4.016738635304101,
           "Restaurant"
          ],
          [
           0,
           "Divorced",
           "Business",
           0.46242804513066504,
           "Restaurant"
          ],
          [
           1,
           "Divorced",
           "Personal",
           3.2235787419956434,
           "Restaurant"
          ],
          [
           0,
           "Divorced",
           "Family",
           1.5682214191518933,
           "Grocery"
          ],
          [
           1,
           "Divorced",
           "Family",
           4.954457130226441,
           "Restaurant"
          ],
          [
           0,
           "Divorced",
           "Family",
           9.310968702206058,
           "Retail"
          ],
          [
           1,
           "Divorced",
           "Personal",
           2.2180546481662833,
           "Retail"
          ],
          [
           1,
           "Divorced",
           "Personal",
           2.0831894903141808,
           "Retail"
          ],
          [
           0,
           "Divorced",
           "Business",
           4.881015093470148,
           "Restaurant"
          ],
          [
           1,
           "Divorced",
           "Business",
           7.944877783630284,
           "Grocery"
          ],
          [
           0,
           "Divorced",
           "Personal",
           1.5580994525326008,
           "Grocery"
          ],
          [
           0,
           "Divorced",
           "Family",
           1.9412936579685727,
           "Restaurant"
          ],
          [
           0,
           "Divorced",
           "Business",
           2.098002546609704,
           "Grocery"
          ],
          [
           1,
           "Divorced",
           "Business",
           1.7899662357183055,
           "Restaurant"
          ],
          [
           1,
           "Divorced",
           "Personal",
           2.9407591594554807,
           "Retail"
          ],
          [
           1,
           "Divorced",
           "Family",
           0.22344596176699494,
           "Restaurant"
          ],
          [
           0,
           "Divorced",
           "Business",
           3.44294018857314,
           "Retail"
          ],
          [
           0,
           "Divorced",
           "Family",
           0.8309452976745314,
           "Retail"
          ],
          [
           1,
           "Divorced",
           "Family",
           4.888286837986438,
           "Grocery"
          ],
          [
           0,
           "Divorced",
           "Business",
           4.479583522912285,
           "Grocery"
          ],
          [
           0,
           "Divorced",
           "Business",
           0.9499298073258196,
           "Grocery"
          ],
          [
           0,
           "Divorced",
           "Personal",
           1.0033739899912262,
           "Grocery"
          ],
          [
           1,
           "Divorced",
           "Business",
           0.43101658472188853,
           "Retail"
          ],
          [
           1,
           "Divorced",
           "Personal",
           4.142669783754242,
           "Retail"
          ],
          [
           0,
           "Divorced",
           "Family",
           1.1463597976616895,
           "Restaurant"
          ],
          [
           0,
           "Divorced",
           "Business",
           0.14395497708375654,
           "Retail"
          ],
          [
           1,
           "Divorced",
           "Family",
           0.01148171158918817,
           "Retail"
          ],
          [
           0,
           "Divorced",
           "Business",
           4.051670538933313,
           "Grocery"
          ],
          [
           0,
           "Divorced",
           "Personal",
           1.339958002694424,
           "Grocery"
          ],
          [
           1,
           "Divorced",
           "Business",
           6.673322723112085,
           "Grocery"
          ],
          [
           1,
           "Divorced",
           "Personal",
           1.706516017629889,
           "Restaurant"
          ],
          [
           0,
           "Divorced",
           "Business",
           7.22194221948359,
           "Restaurant"
          ],
          [
           0,
           "Divorced",
           "Business",
           1.0616887470097944,
           "Restaurant"
          ],
          [
           1,
           "Divorced",
           "Family",
           0.33401813463610774,
           "Retail"
          ],
          [
           0,
           "Divorced",
           "Business",
           4.567357728343442,
           "Grocery"
          ],
          [
           1,
           "Divorced",
           "Personal",
           3.099731392356075,
           "Grocery"
          ],
          [
           0,
           "Divorced",
           "Business",
           1.3390978761232712,
           "Restaurant"
          ],
          [
           1,
           "Divorced",
           "Personal",
           1.7007551252176472,
           "Restaurant"
          ],
          [
           0,
           "Divorced",
           "Business",
           1.385217253356112,
           "Restaurant"
          ],
          [
           1,
           "Divorced",
           "Family",
           0.7147489330621875,
           "Grocery"
          ],
          [
           0,
           "Divorced",
           "Business",
           0.4406347274420626,
           "Grocery"
          ],
          [
           0,
           "Divorced",
           "Family",
           3.163554490756285,
           "Grocery"
          ],
          [
           0,
           "Divorced",
           "Personal",
           3.1054981880414942,
           "Restaurant"
          ],
          [
           0,
           "Divorced",
           "Business",
           0.666489377118213,
           "Retail"
          ],
          [
           0,
           "Divorced",
           "Personal",
           0.35470312907013407,
           "Retail"
          ],
          [
           1,
           "Divorced",
           "Business",
           2.176155263965218,
           "Grocery"
          ],
          [
           0,
           "Divorced",
           "Personal",
           0.9342554016771738,
           "Retail"
          ],
          [
           1,
           "Divorced",
           "Business",
           0.04440721708332512,
           "Retail"
          ],
          [
           1,
           "Divorced",
           "Personal",
           1.234504834024929,
           "Restaurant"
          ],
          [
           1,
           "Divorced",
           "Business",
           2.7125801638905505,
           "Retail"
          ],
          [
           0,
           "Divorced",
           "Business",
           0.029920171374458154,
           "Retail"
          ],
          [
           1,
           "Divorced",
           "Family",
           2.195865364754477,
           "Restaurant"
          ],
          [
           0,
           "Divorced",
           "Business",
           1.121305739069641,
           "Grocery"
          ],
          [
           1,
           "Divorced",
           "Personal",
           2.2100187786082697,
           "Grocery"
          ],
          [
           0,
           "Divorced",
           "Personal",
           0.4024812218531247,
           "Restaurant"
          ],
          [
           1,
           "Divorced",
           "Business",
           0.0512787601754016,
           "Grocery"
          ],
          [
           0,
           "Divorced",
           "Personal",
           4.411092251879348,
           "Retail"
          ],
          [
           1,
           "Divorced",
           "Family",
           4.937613924197839,
           "Grocery"
          ],
          [
           1,
           "Divorced",
           "Personal",
           1.2835720292800248,
           "Grocery"
          ],
          [
           1,
           "Divorced",
           "Personal",
           1.3944001894780962,
           "Grocery"
          ],
          [
           1,
           "Divorced",
           "Family",
           0.004063628083043444,
           "Grocery"
          ],
          [
           0,
           "Divorced",
           "Personal",
           3.119265259681552,
           "Retail"
          ],
          [
           0,
           "Divorced",
           "Business",
           5.633144995874074,
           "Retail"
          ],
          [
           0,
           "Divorced",
           "Business",
           0.0716333502465495,
           "Restaurant"
          ],
          [
           0,
           "Divorced",
           "Family",
           0.7772269512990825,
           "Grocery"
          ],
          [
           1,
           "Divorced",
           "Family",
           1.9853936536781007,
           "Grocery"
          ],
          [
           1,
           "Divorced",
           "Personal",
           2.358962329938869,
           "Retail"
          ],
          [
           0,
           "Divorced",
           "Business",
           0.23584756034750948,
           "Restaurant"
          ],
          [
           1,
           "Divorced",
           "Business",
           0.7661529881957732,
           "Restaurant"
          ],
          [
           1,
           "Divorced",
           "Business",
           0.455270962113255,
           "Grocery"
          ],
          [
           0,
           "Divorced",
           "Business",
           2.59037196808748,
           "Grocery"
          ],
          [
           1,
           "Divorced",
           "Family",
           6.625676412785252,
           "Grocery"
          ],
          [
           0,
           "Divorced",
           "Family",
           3.6901429555311966,
           "Grocery"
          ],
          [
           0,
           "Divorced",
           "Family",
           0.4780531902139673,
           "Grocery"
          ],
          [
           1,
           "Divorced",
           "Business",
           2.083065156157547,
           "Retail"
          ],
          [
           0,
           "Divorced",
           "Family",
           1.7012145504069338,
           "Grocery"
          ],
          [
           0,
           "Divorced",
           "Business",
           0.13467812670047108,
           "Grocery"
          ],
          [
           0,
           "Divorced",
           "Family",
           0.5436656922755809,
           "Restaurant"
          ],
          [
           0,
           "Divorced",
           "Business",
           5.5669681391622925,
           "Restaurant"
          ],
          [
           0,
           "Divorced",
           "Personal",
           9.074235954606156,
           "Retail"
          ],
          [
           0,
           "Divorced",
           "Personal",
           11.912729668279338,
           "Retail"
          ],
          [
           1,
           "Divorced",
           "Personal",
           0.22766910664153162,
           "Retail"
          ],
          [
           0,
           "Divorced",
           "Family",
           2.921308810184853,
           "Grocery"
          ],
          [
           0,
           "Divorced",
           "Personal",
           0.6325618233460011,
           "Restaurant"
          ],
          [
           0,
           "Divorced",
           "Business",
           4.719247308468735,
           "Restaurant"
          ],
          [
           1,
           "Divorced",
           "Family",
           8.631267107677488,
           "Retail"
          ],
          [
           0,
           "Divorced",
           "Personal",
           9.666815083344595,
           "Grocery"
          ],
          [
           0,
           "Divorced",
           "Personal",
           2.211044166170863,
           "Restaurant"
          ],
          [
           0,
           "Divorced",
           "Business",
           4.430323896124188,
           "Retail"
          ],
          [
           1,
           "Divorced",
           "Business",
           2.072822835479808,
           "Restaurant"
          ],
          [
           1,
           "Divorced",
           "Family",
           7.818948531157205,
           "Restaurant"
          ],
          [
           0,
           "Divorced",
           "Business",
           0.7789433128917509,
           "Grocery"
          ],
          [
           0,
           "Divorced",
           "Business",
           1.9669192639074171,
           "Grocery"
          ],
          [
           0,
           "Divorced",
           "Business",
           1.0227630969811035,
           "Retail"
          ],
          [
           0,
           "Divorced",
           "Personal",
           7.55965070489133,
           "Grocery"
          ],
          [
           0,
           "Divorced",
           "Family",
           7.518749978511517,
           "Restaurant"
          ],
          [
           0,
           "Divorced",
           "Family",
           2.5820188303363913,
           "Restaurant"
          ],
          [
           1,
           "Divorced",
           "Family",
           2.6141119475215913,
           "Retail"
          ],
          [
           0,
           "Divorced",
           "Family",
           2.6031363035823096,
           "Retail"
          ],
          [
           0,
           "Divorced",
           "Personal",
           4.266091105648044,
           "Grocery"
          ],
          [
           0,
           "Divorced",
           "Business",
           1.3064606175678797,
           "Retail"
          ],
          [
           0,
           "Divorced",
           "Personal",
           8.781783350832452,
           "Grocery"
          ],
          [
           0,
           "Divorced",
           "Business",
           6.692418687591921,
           "Restaurant"
          ],
          [
           1,
           "Divorced",
           "Personal",
           1.6313276804924821,
           "Grocery"
          ],
          [
           0,
           "Divorced",
           "Business",
           1.940713537235045,
           "Grocery"
          ],
          [
           0,
           "Divorced",
           "Business",
           2.6830762907219823,
           "Retail"
          ],
          [
           0,
           "Divorced",
           "Personal",
           5.7936895358710645,
           "Retail"
          ],
          [
           1,
           "Divorced",
           "Family",
           0.22145081100907882,
           "Retail"
          ],
          [
           1,
           "Divorced",
           "Personal",
           2.121254203547399,
           "Restaurant"
          ],
          [
           1,
           "Divorced",
           "Personal",
           4.423709199177786,
           "Retail"
          ],
          [
           1,
           "Divorced",
           "Family",
           2.3236870817127713,
           "Grocery"
          ],
          [
           0,
           "Divorced",
           "Business",
           0.11488522710810684,
           "Grocery"
          ],
          [
           0,
           "Divorced",
           "Personal",
           4.351497220536421,
           "Retail"
          ],
          [
           1,
           "Divorced",
           "Business",
           0.00003490446915129697,
           "Restaurant"
          ],
          [
           0,
           "Divorced",
           "Business",
           2.217637322801619,
           "Restaurant"
          ],
          [
           1,
           "Divorced",
           "Personal",
           10.844452608836328,
           "Restaurant"
          ],
          [
           0,
           "Divorced",
           "Business",
           0.7690360355493384,
           "Retail"
          ],
          [
           1,
           "Divorced",
           "Family",
           1.0869690741718758,
           "Restaurant"
          ],
          [
           1,
           "Divorced",
           "Personal",
           0.785718090676184,
           "Restaurant"
          ],
          [
           1,
           "Divorced",
           "Business",
           3.2634371803817617,
           "Restaurant"
          ],
          [
           0,
           "Divorced",
           "Family",
           5.660031684111104,
           "Restaurant"
          ],
          [
           1,
           "Divorced",
           "Personal",
           1.6478117381616766,
           "Restaurant"
          ],
          [
           0,
           "Divorced",
           "Business",
           1.390590719900341,
           "Restaurant"
          ],
          [
           0,
           "Divorced",
           "Business",
           6.966533247531098,
           "Retail"
          ],
          [
           1,
           "Divorced",
           "Personal",
           12.570928616047128,
           "Restaurant"
          ],
          [
           0,
           "Divorced",
           "Business",
           4.210300314960122,
           "Restaurant"
          ],
          [
           0,
           "Divorced",
           "Business",
           2.679465069899874,
           "Restaurant"
          ],
          [
           1,
           "Divorced",
           "Family",
           3.7066053700704833,
           "Restaurant"
          ],
          [
           1,
           "Divorced",
           "Personal",
           4.551009917922335,
           "Retail"
          ],
          [
           0,
           "Divorced",
           "Personal",
           1.0553177073139057,
           "Grocery"
          ],
          [
           0,
           "Divorced",
           "Business",
           4.268940794729543,
           "Restaurant"
          ],
          [
           1,
           "Divorced",
           "Family",
           2.163741730635228,
           "Restaurant"
          ],
          [
           1,
           "Divorced",
           "Business",
           1.3826834285617702,
           "Restaurant"
          ],
          [
           1,
           "Divorced",
           "Business",
           5.2721840403842455,
           "Retail"
          ],
          [
           0,
           "Divorced",
           "Business",
           0.9609116307863235,
           "Grocery"
          ],
          [
           0,
           "Divorced",
           "Family",
           4.936297605373797,
           "Restaurant"
          ],
          [
           0,
           "Divorced",
           "Personal",
           0.6516357956970997,
           "Restaurant"
          ],
          [
           0,
           "Divorced",
           "Personal",
           1.2709267324980433,
           "Retail"
          ],
          [
           1,
           "Divorced",
           "Family",
           5.8250390291173275,
           "Restaurant"
          ]
         ],
         "hovertemplate": "MaritalStatus=%{customdata[1]}<br>Age=%{x}<br>Income=%{y}<br>AcceptedCoupon=%{customdata[0]}<br>PassengerType=%{customdata[2]}<br>TripDuration=%{customdata[3]}<br>CouponType=%{customdata[4]}<extra></extra>",
         "legendgroup": "Divorced",
         "marker": {
          "color": "#EF553B",
          "symbol": "circle"
         },
         "mode": "markers",
         "name": "Divorced",
         "orientation": "v",
         "showlegend": true,
         "type": "scatter",
         "x": {
          "bdata": "OiIsMyY0KCgpLxwYNCsgNy4eHCUrEysxLSAiKCI1LSsmMCc2Ny0hIh8oHyUtHi8XLSAoJyEkLTYPPDAkNBMkJTMfMCMyKy8eNToqHCksLDU3Ih4jHRcoGyQlOikiJyA3MTQcLCsbMSA4IikkKxYvKSYqMRshGh4sJyAtMCcsKhsdJygoIyMpMCI+JDYiIxoeNzElLCohIiIiLDkkKzwgM0EiIzo=",
          "dtype": "i1"
         },
         "xaxis": "x",
         "y": {
          "bdata": "UtUAAFYrAQAZCAEAXDsBABExAQCBugAAD+wAAEg1AQAyEAEAV9gAADf3AAD8+AAAzUYBAMrkAAC5+gAA/g0BAGUwAQCgyQAA2MkAAIeVAABbnwAAeRABAP2QAAAA/wAA+D4BANcrAQDCCwEAQTgBAIqWAAAixAAA388AAFlcAABrGAEA8+sAAJX2AAC9cgAAr68AAHfEAABJEwEA0x4BAJcPAQDfJwEAA8sAAPhjAQA0xAAABc4AADoDAQACCQEA5mcBAJlPAQBo8QAAxAEBABDOAACSlAAAlCkBAB7oAABC4AAAd0MAAK8tAQBwhAAAI9UAAIOeAACt/gAAM58AADEcAQBd+AAAMtsAADHoAABNFQEArf4AANokAQCsQAAAMuIAAHGtAABbHQEAawcBADN3AQAo9gAA7S8BAGanAAAVSgEANKcAABv8AADzBAEAEdwAAN0iAQBxogAAdRMBAPDYAADNRwEASbAAAOYjAQDsVwAA9JgAAEomAQBqCwEAc7AAALapAADwOwEAorEAADnpAAC/CgEAfvcAAIrxAADjUAEAR8AAALj6AABtuQAAyqQAAIf8AACeAgEAhN8AAMTiAACtTAEA8MkAAHLeAABKyAAANhsBAE8yAQBgTAEAbbQAAIqXAABSvAAAyH4AALmpAAAkAQEABOoAAIEbAQAr7wAAOiABADn9AAAf4AAAzwkBANfpAAAPCwEAfdgAALHtAAA+5gAA4QYBAKB2AADu4QAAfqMAABFEAQDJMQEAbsYAAKHTAABc9AAAXpMAALtUAABImgAANN0AAMqAAACOUgAAVQEBAFuxAAAW4QAAsLMAAIe2AACrTgEAXlUBABgSAQDJzQAAx2gBAOn7AAA=",
          "dtype": "i4"
         },
         "yaxis": "y"
        },
        {
         "customdata": [
          [
           0,
           "Married",
           "Personal",
           1.9815023774621434,
           "Retail"
          ],
          [
           0,
           "Married",
           "Family",
           2.66552714077275,
           "Restaurant"
          ],
          [
           0,
           "Married",
           "Family",
           2.5831288835206503,
           "Restaurant"
          ],
          [
           1,
           "Married",
           "Family",
           1.5706396207460007,
           "Grocery"
          ],
          [
           1,
           "Married",
           "Family",
           5.272403225692059,
           "Restaurant"
          ],
          [
           0,
           "Married",
           "Personal",
           4.338487189507759,
           "Grocery"
          ],
          [
           0,
           "Married",
           "Personal",
           2.5566323875339885,
           "Retail"
          ],
          [
           1,
           "Married",
           "Business",
           5.631341433097779,
           "Retail"
          ],
          [
           1,
           "Married",
           "Personal",
           0.1934798660627502,
           "Grocery"
          ],
          [
           0,
           "Married",
           "Family",
           2.142698724738317,
           "Restaurant"
          ],
          [
           0,
           "Married",
           "Business",
           2.9552549762559064,
           "Restaurant"
          ],
          [
           1,
           "Married",
           "Family",
           3.4915847944009752,
           "Retail"
          ],
          [
           1,
           "Married",
           "Family",
           3.5381569971333238,
           "Retail"
          ],
          [
           0,
           "Married",
           "Business",
           1.0674356139293222,
           "Retail"
          ],
          [
           0,
           "Married",
           "Business",
           1.332846367228004,
           "Grocery"
          ],
          [
           0,
           "Married",
           "Family",
           0.7098452737087456,
           "Grocery"
          ],
          [
           1,
           "Married",
           "Family",
           9.471086606850026,
           "Restaurant"
          ],
          [
           0,
           "Married",
           "Personal",
           5.28897904931511,
           "Restaurant"
          ],
          [
           0,
           "Married",
           "Family",
           0.04325618921403457,
           "Restaurant"
          ],
          [
           0,
           "Married",
           "Business",
           4.046719810644282,
           "Grocery"
          ],
          [
           1,
           "Married",
           "Business",
           4.35878917707724,
           "Grocery"
          ],
          [
           0,
           "Married",
           "Family",
           5.610878024036415,
           "Grocery"
          ],
          [
           0,
           "Married",
           "Family",
           0.27833571718474726,
           "Retail"
          ],
          [
           1,
           "Married",
           "Business",
           2.0061119513628665,
           "Grocery"
          ],
          [
           1,
           "Married",
           "Family",
           0.242489389722976,
           "Restaurant"
          ],
          [
           0,
           "Married",
           "Business",
           0.20486814172065226,
           "Grocery"
          ],
          [
           1,
           "Married",
           "Family",
           8.851589955185997,
           "Restaurant"
          ],
          [
           0,
           "Married",
           "Family",
           0.22519390119736732,
           "Grocery"
          ],
          [
           0,
           "Married",
           "Business",
           4.747154670592853,
           "Retail"
          ],
          [
           0,
           "Married",
           "Family",
           0.22708747217475744,
           "Restaurant"
          ],
          [
           0,
           "Married",
           "Family",
           1.049908828140147,
           "Retail"
          ],
          [
           1,
           "Married",
           "Personal",
           0.7933982751976786,
           "Grocery"
          ],
          [
           0,
           "Married",
           "Family",
           0.9897005353665349,
           "Restaurant"
          ],
          [
           0,
           "Married",
           "Personal",
           7.096926204728671,
           "Restaurant"
          ],
          [
           1,
           "Married",
           "Personal",
           1.1635933921717487,
           "Grocery"
          ],
          [
           0,
           "Married",
           "Business",
           3.068923385914634,
           "Grocery"
          ],
          [
           1,
           "Married",
           "Family",
           1.3286322858200525,
           "Grocery"
          ],
          [
           1,
           "Married",
           "Family",
           3.1308168554264517,
           "Restaurant"
          ],
          [
           0,
           "Married",
           "Family",
           2.644688281619881,
           "Restaurant"
          ],
          [
           0,
           "Married",
           "Business",
           5.186942141945157,
           "Grocery"
          ],
          [
           0,
           "Married",
           "Business",
           2.059679312699168,
           "Grocery"
          ],
          [
           0,
           "Married",
           "Business",
           0.1675912791777491,
           "Retail"
          ],
          [
           0,
           "Married",
           "Family",
           0.9695943297293391,
           "Restaurant"
          ],
          [
           0,
           "Married",
           "Personal",
           3.6825072767799694,
           "Grocery"
          ],
          [
           0,
           "Married",
           "Business",
           1.1405771853592492,
           "Restaurant"
          ],
          [
           1,
           "Married",
           "Personal",
           0.3223961482313805,
           "Grocery"
          ],
          [
           0,
           "Married",
           "Family",
           5.549028411411087,
           "Grocery"
          ],
          [
           0,
           "Married",
           "Family",
           4.6667314731940515,
           "Retail"
          ],
          [
           1,
           "Married",
           "Personal",
           1.421158231678548,
           "Grocery"
          ],
          [
           0,
           "Married",
           "Personal",
           2.0425535046934598,
           "Grocery"
          ],
          [
           0,
           "Married",
           "Business",
           1.4713479412875392,
           "Restaurant"
          ],
          [
           1,
           "Married",
           "Family",
           3.0048260022159834,
           "Restaurant"
          ],
          [
           0,
           "Married",
           "Business",
           3.650739427905373,
           "Retail"
          ],
          [
           0,
           "Married",
           "Business",
           0.013118449475239238,
           "Grocery"
          ],
          [
           0,
           "Married",
           "Family",
           3.745300593805999,
           "Grocery"
          ],
          [
           1,
           "Married",
           "Business",
           3.293306655502417,
           "Restaurant"
          ],
          [
           0,
           "Married",
           "Business",
           4.294349573270221,
           "Retail"
          ],
          [
           0,
           "Married",
           "Business",
           0.14815696335462597,
           "Grocery"
          ],
          [
           1,
           "Married",
           "Family",
           2.081849381965051,
           "Restaurant"
          ],
          [
           1,
           "Married",
           "Family",
           0.7029271777577873,
           "Retail"
          ],
          [
           1,
           "Married",
           "Family",
           1.3799563576775105,
           "Restaurant"
          ],
          [
           0,
           "Married",
           "Family",
           0.16132602220829345,
           "Retail"
          ],
          [
           0,
           "Married",
           "Business",
           1.6161552679913094,
           "Grocery"
          ],
          [
           1,
           "Married",
           "Business",
           5.698328063216572,
           "Restaurant"
          ],
          [
           0,
           "Married",
           "Business",
           1.9175785732822295,
           "Grocery"
          ],
          [
           1,
           "Married",
           "Business",
           6.36471161790708,
           "Grocery"
          ],
          [
           1,
           "Married",
           "Family",
           0.7290466408988917,
           "Restaurant"
          ],
          [
           1,
           "Married",
           "Personal",
           1.1377580719805303,
           "Retail"
          ],
          [
           1,
           "Married",
           "Family",
           3.746982512498252,
           "Restaurant"
          ],
          [
           0,
           "Married",
           "Business",
           6.627694185818974,
           "Retail"
          ],
          [
           0,
           "Married",
           "Family",
           1.0165454782038563,
           "Restaurant"
          ],
          [
           1,
           "Married",
           "Personal",
           1.375581945565017,
           "Retail"
          ],
          [
           1,
           "Married",
           "Personal",
           0.17954286853111825,
           "Restaurant"
          ],
          [
           1,
           "Married",
           "Personal",
           1.4297269669641215,
           "Restaurant"
          ],
          [
           1,
           "Married",
           "Family",
           0.05855055500963134,
           "Grocery"
          ],
          [
           0,
           "Married",
           "Personal",
           1.6014777164272365,
           "Restaurant"
          ],
          [
           0,
           "Married",
           "Business",
           2.036931657701976,
           "Retail"
          ],
          [
           0,
           "Married",
           "Business",
           1.5540026497191657,
           "Restaurant"
          ],
          [
           1,
           "Married",
           "Personal",
           9.931266663028914,
           "Retail"
          ],
          [
           0,
           "Married",
           "Business",
           4.44737827946904,
           "Retail"
          ],
          [
           1,
           "Married",
           "Personal",
           0.9260341930441045,
           "Restaurant"
          ],
          [
           0,
           "Married",
           "Business",
           2.18918782671621,
           "Retail"
          ],
          [
           0,
           "Married",
           "Personal",
           1.0691700717336212,
           "Retail"
          ],
          [
           1,
           "Married",
           "Business",
           10.97149636285554,
           "Retail"
          ],
          [
           1,
           "Married",
           "Business",
           4.5863180721304575,
           "Retail"
          ],
          [
           1,
           "Married",
           "Family",
           1.0825469099469391,
           "Retail"
          ],
          [
           1,
           "Married",
           "Family",
           0.2038565719028126,
           "Retail"
          ],
          [
           1,
           "Married",
           "Family",
           1.9262777658469648,
           "Restaurant"
          ],
          [
           1,
           "Married",
           "Personal",
           0.17875467018745225,
           "Restaurant"
          ],
          [
           0,
           "Married",
           "Family",
           9.49528021319027,
           "Restaurant"
          ],
          [
           1,
           "Married",
           "Business",
           4.613997707183753,
           "Retail"
          ],
          [
           1,
           "Married",
           "Business",
           0.6538452736569246,
           "Restaurant"
          ],
          [
           1,
           "Married",
           "Business",
           2.921867917175943,
           "Retail"
          ],
          [
           1,
           "Married",
           "Business",
           4.560462873369479,
           "Restaurant"
          ],
          [
           0,
           "Married",
           "Family",
           0.9029300837961514,
           "Grocery"
          ],
          [
           0,
           "Married",
           "Family",
           7.484356205888114,
           "Retail"
          ],
          [
           0,
           "Married",
           "Personal",
           1.029603398671392,
           "Restaurant"
          ],
          [
           0,
           "Married",
           "Business",
           1.9045684113896826,
           "Retail"
          ],
          [
           0,
           "Married",
           "Business",
           0.19266603742221824,
           "Retail"
          ],
          [
           1,
           "Married",
           "Personal",
           1.7808473610307014,
           "Restaurant"
          ],
          [
           0,
           "Married",
           "Business",
           9.505555029945667,
           "Grocery"
          ],
          [
           0,
           "Married",
           "Family",
           2.262896563885388,
           "Retail"
          ],
          [
           0,
           "Married",
           "Business",
           0.9635255297552786,
           "Restaurant"
          ],
          [
           0,
           "Married",
           "Business",
           4.934658907052556,
           "Retail"
          ],
          [
           1,
           "Married",
           "Personal",
           1.8466971646720416,
           "Retail"
          ],
          [
           0,
           "Married",
           "Family",
           2.3727903828174104,
           "Grocery"
          ],
          [
           1,
           "Married",
           "Personal",
           1.7692907022668283,
           "Restaurant"
          ],
          [
           1,
           "Married",
           "Family",
           0.704075424747072,
           "Grocery"
          ],
          [
           1,
           "Married",
           "Business",
           0.15381365860838053,
           "Grocery"
          ],
          [
           0,
           "Married",
           "Personal",
           11.920503309585719,
           "Restaurant"
          ],
          [
           0,
           "Married",
           "Family",
           0.831125168127634,
           "Grocery"
          ],
          [
           1,
           "Married",
           "Personal",
           15.788441795967884,
           "Retail"
          ],
          [
           1,
           "Married",
           "Family",
           3.731498345054046,
           "Restaurant"
          ],
          [
           0,
           "Married",
           "Family",
           1.7234050289784286,
           "Restaurant"
          ],
          [
           0,
           "Married",
           "Business",
           11.918160623626164,
           "Retail"
          ],
          [
           1,
           "Married",
           "Personal",
           7.154601716853772,
           "Restaurant"
          ],
          [
           0,
           "Married",
           "Business",
           4.247913671172521,
           "Retail"
          ],
          [
           0,
           "Married",
           "Personal",
           0.5290355234425688,
           "Grocery"
          ],
          [
           0,
           "Married",
           "Family",
           1.943948496414961,
           "Retail"
          ],
          [
           1,
           "Married",
           "Family",
           3.070084657384059,
           "Grocery"
          ],
          [
           0,
           "Married",
           "Family",
           0.5327176313955287,
           "Grocery"
          ],
          [
           1,
           "Married",
           "Personal",
           0.036530867663101,
           "Restaurant"
          ],
          [
           0,
           "Married",
           "Personal",
           1.6795330523405356,
           "Grocery"
          ],
          [
           1,
           "Married",
           "Family",
           3.2579828006866367,
           "Retail"
          ],
          [
           0,
           "Married",
           "Personal",
           1.5216794528485509,
           "Retail"
          ],
          [
           0,
           "Married",
           "Family",
           1.4950028306525192,
           "Restaurant"
          ],
          [
           1,
           "Married",
           "Business",
           4.2105043529860255,
           "Retail"
          ],
          [
           0,
           "Married",
           "Personal",
           1.3253970019482422,
           "Grocery"
          ],
          [
           1,
           "Married",
           "Personal",
           2.4908485228553205,
           "Restaurant"
          ],
          [
           1,
           "Married",
           "Business",
           1.3322052356299607,
           "Restaurant"
          ],
          [
           1,
           "Married",
           "Family",
           3.2068494689633815,
           "Retail"
          ],
          [
           0,
           "Married",
           "Personal",
           0.824885606665529,
           "Restaurant"
          ],
          [
           0,
           "Married",
           "Business",
           0.6380687018533278,
           "Grocery"
          ],
          [
           1,
           "Married",
           "Business",
           0.32209985611137537,
           "Grocery"
          ],
          [
           0,
           "Married",
           "Family",
           0.11912398114159994,
           "Grocery"
          ],
          [
           1,
           "Married",
           "Family",
           0.11005051683398129,
           "Grocery"
          ],
          [
           1,
           "Married",
           "Personal",
           6.0470429456121675,
           "Grocery"
          ],
          [
           1,
           "Married",
           "Personal",
           0.9958581200041483,
           "Restaurant"
          ],
          [
           0,
           "Married",
           "Family",
           9.014874337607278,
           "Grocery"
          ],
          [
           1,
           "Married",
           "Family",
           2.18134307698526,
           "Grocery"
          ],
          [
           1,
           "Married",
           "Family",
           0.9959305451961793,
           "Grocery"
          ],
          [
           1,
           "Married",
           "Business",
           6.735618682141562,
           "Retail"
          ],
          [
           1,
           "Married",
           "Business",
           0.6870326001481353,
           "Retail"
          ],
          [
           1,
           "Married",
           "Personal",
           0.6178856324229923,
           "Grocery"
          ],
          [
           0,
           "Married",
           "Business",
           1.208447008718755,
           "Retail"
          ],
          [
           1,
           "Married",
           "Family",
           0.2145124712068639,
           "Grocery"
          ],
          [
           1,
           "Married",
           "Business",
           8.479716879850638,
           "Retail"
          ],
          [
           0,
           "Married",
           "Personal",
           5.4204839966429095,
           "Restaurant"
          ],
          [
           0,
           "Married",
           "Family",
           1.2112593721886629,
           "Grocery"
          ],
          [
           0,
           "Married",
           "Family",
           3.1895966170416616,
           "Retail"
          ],
          [
           0,
           "Married",
           "Personal",
           6.259593848225844,
           "Retail"
          ],
          [
           0,
           "Married",
           "Family",
           1.6613464835633045,
           "Restaurant"
          ],
          [
           1,
           "Married",
           "Personal",
           0.410439347539992,
           "Grocery"
          ],
          [
           0,
           "Married",
           "Business",
           0.16855070746949075,
           "Grocery"
          ],
          [
           1,
           "Married",
           "Personal",
           0.004424727691155174,
           "Restaurant"
          ],
          [
           0,
           "Married",
           "Business",
           1.0826122261780475,
           "Grocery"
          ],
          [
           0,
           "Married",
           "Business",
           1.180439757943906,
           "Restaurant"
          ],
          [
           0,
           "Married",
           "Personal",
           3.7408636079772695,
           "Retail"
          ],
          [
           0,
           "Married",
           "Business",
           5.091194251890158,
           "Retail"
          ],
          [
           0,
           "Married",
           "Business",
           0.6012633949249195,
           "Grocery"
          ],
          [
           1,
           "Married",
           "Personal",
           1.4986443686509932,
           "Grocery"
          ],
          [
           0,
           "Married",
           "Family",
           3.2453916612387728,
           "Retail"
          ],
          [
           1,
           "Married",
           "Family",
           9.123556533331541,
           "Restaurant"
          ],
          [
           0,
           "Married",
           "Personal",
           0.13004523156633752,
           "Retail"
          ],
          [
           1,
           "Married",
           "Business",
           0.924985808428314,
           "Grocery"
          ],
          [
           0,
           "Married",
           "Business",
           2.7605489854867313,
           "Restaurant"
          ],
          [
           1,
           "Married",
           "Family",
           0.32447983811578224,
           "Restaurant"
          ],
          [
           1,
           "Married",
           "Family",
           1.8581077326878277,
           "Retail"
          ],
          [
           0,
           "Married",
           "Family",
           3.558353740002627,
           "Restaurant"
          ],
          [
           1,
           "Married",
           "Family",
           3.916699732065849,
           "Retail"
          ],
          [
           0,
           "Married",
           "Business",
           5.934792812614716,
           "Retail"
          ]
         ],
         "hovertemplate": "MaritalStatus=%{customdata[1]}<br>Age=%{x}<br>Income=%{y}<br>AcceptedCoupon=%{customdata[0]}<br>PassengerType=%{customdata[2]}<br>TripDuration=%{customdata[3]}<br>CouponType=%{customdata[4]}<extra></extra>",
         "legendgroup": "Married",
         "marker": {
          "color": "#00cc96",
          "symbol": "circle"
         },
         "mode": "markers",
         "name": "Married",
         "orientation": "v",
         "showlegend": true,
         "type": "scatter",
         "x": {
          "bdata": "Ji0pPDklMRYTNygnJycaHiIeIh0hKiUuLyU4JR4gIR04KB8dGjEjJyghKh4oHyIcICEoJjMqIyMrIxU4KzAqGSMuPigrIiUeIywgFjYuKSAoJjAbJQ0nJRxBKCIpJSQgHDkvGyUkHS4tJCYiMhkbKiczJxorIiAsMjgZHkIpQSc6LyIuMRgnLhorLiwXKigxIiQqJiMyKjI2Nx0nLhwrKSEhLioYNyonIion",
          "dtype": "i1"
         },
         "xaxis": "x",
         "y": {
          "bdata": "GRYBACBpAQBP9QAASCkBADquAAAq8gAAWsEAAIXmAACZWAEAKAQBAPXMAABSyQAAfh0BAJDkAACTVgEA1cEAALTnAAAKoQAAj+UAACMFAQDj9QAA6xMBAME+AQC+wgAA5lMBAOHxAAA70AAAqHsAAE0DAQAp6gAAdkIBAMgdAQBt3QAA5NsAAGrCAAC1UwEA7AsBAF48AQBuAQEA8/UAAJrXAADy6AAAUg4BAHKuAACZRgEAjaIAALonAQB8zwAAJh4BAD07AQC4xQAAkQEBAFIHAQCm+QAABcMAAODoAAA6CgEAxKgAAPjOAABTBgEA4O4AAMAkAQArjwAAT0IBAOnVAACH1wAAD2QBAC3mAABr7QAApeUAAPvuAABKdQAAECABAE4rAQBHDgEA08UAAIZaAQAz3wAAwv8AACYrAQCd5gAA7UgBABIwAQBhDQEAleEAACOqAAD/lQAA78QAANmcAACWSgEADcIAAPeJAABUeQEAfDsBALXmAADt2QAALYcAAJzkAADq9AAAY7AAAM6wAAA23QAAI8cAABz9AAAJjQAALwQBAE46AQC28QAANtEAADUKAQA+wQAAfqEAAMbBAAB8MwEAEWgBAIIPAQDC4QAA2iIBAOVrAQAz5QAASLsAALYLAQA1jwAAjXUAAH+jAADU7gAA8QkBANvjAADNMgEAUSoBABEOAQBfqgAA1dcAAK3yAACg9QAAQ9gAAHDhAADdEwEAbiIBACMIAQA6bAAAcnwBAAr6AAA6wwAAgCQBALq1AAAG7AAA6OgAAEoaAQD76gAA96sAAGvfAABpCQEAVbMAAN7dAADI8wAAjeoAAPoDAQAjMAEAAyIBANClAAAZCgEAHvUAAHrpAABRDAEAYfEAAMboAACTQAEAK8MAAE4nAQDjxgAA",
          "dtype": "i4"
         },
         "yaxis": "y"
        }
       ],
       "layout": {
        "legend": {
         "title": {
          "text": "MaritalStatus"
         },
         "tracegroupgap": 0
        },
        "template": {
         "data": {
          "bar": [
           {
            "error_x": {
             "color": "#2a3f5f"
            },
            "error_y": {
             "color": "#2a3f5f"
            },
            "marker": {
             "line": {
              "color": "#E5ECF6",
              "width": 0.5
             },
             "pattern": {
              "fillmode": "overlay",
              "size": 10,
              "solidity": 0.2
             }
            },
            "type": "bar"
           }
          ],
          "barpolar": [
           {
            "marker": {
             "line": {
              "color": "#E5ECF6",
              "width": 0.5
             },
             "pattern": {
              "fillmode": "overlay",
              "size": 10,
              "solidity": 0.2
             }
            },
            "type": "barpolar"
           }
          ],
          "carpet": [
           {
            "aaxis": {
             "endlinecolor": "#2a3f5f",
             "gridcolor": "white",
             "linecolor": "white",
             "minorgridcolor": "white",
             "startlinecolor": "#2a3f5f"
            },
            "baxis": {
             "endlinecolor": "#2a3f5f",
             "gridcolor": "white",
             "linecolor": "white",
             "minorgridcolor": "white",
             "startlinecolor": "#2a3f5f"
            },
            "type": "carpet"
           }
          ],
          "choropleth": [
           {
            "colorbar": {
             "outlinewidth": 0,
             "ticks": ""
            },
            "type": "choropleth"
           }
          ],
          "contour": [
           {
            "colorbar": {
             "outlinewidth": 0,
             "ticks": ""
            },
            "colorscale": [
             [
              0,
              "#0d0887"
             ],
             [
              0.1111111111111111,
              "#46039f"
             ],
             [
              0.2222222222222222,
              "#7201a8"
             ],
             [
              0.3333333333333333,
              "#9c179e"
             ],
             [
              0.4444444444444444,
              "#bd3786"
             ],
             [
              0.5555555555555556,
              "#d8576b"
             ],
             [
              0.6666666666666666,
              "#ed7953"
             ],
             [
              0.7777777777777778,
              "#fb9f3a"
             ],
             [
              0.8888888888888888,
              "#fdca26"
             ],
             [
              1,
              "#f0f921"
             ]
            ],
            "type": "contour"
           }
          ],
          "contourcarpet": [
           {
            "colorbar": {
             "outlinewidth": 0,
             "ticks": ""
            },
            "type": "contourcarpet"
           }
          ],
          "heatmap": [
           {
            "colorbar": {
             "outlinewidth": 0,
             "ticks": ""
            },
            "colorscale": [
             [
              0,
              "#0d0887"
             ],
             [
              0.1111111111111111,
              "#46039f"
             ],
             [
              0.2222222222222222,
              "#7201a8"
             ],
             [
              0.3333333333333333,
              "#9c179e"
             ],
             [
              0.4444444444444444,
              "#bd3786"
             ],
             [
              0.5555555555555556,
              "#d8576b"
             ],
             [
              0.6666666666666666,
              "#ed7953"
             ],
             [
              0.7777777777777778,
              "#fb9f3a"
             ],
             [
              0.8888888888888888,
              "#fdca26"
             ],
             [
              1,
              "#f0f921"
             ]
            ],
            "type": "heatmap"
           }
          ],
          "histogram": [
           {
            "marker": {
             "pattern": {
              "fillmode": "overlay",
              "size": 10,
              "solidity": 0.2
             }
            },
            "type": "histogram"
           }
          ],
          "histogram2d": [
           {
            "colorbar": {
             "outlinewidth": 0,
             "ticks": ""
            },
            "colorscale": [
             [
              0,
              "#0d0887"
             ],
             [
              0.1111111111111111,
              "#46039f"
             ],
             [
              0.2222222222222222,
              "#7201a8"
             ],
             [
              0.3333333333333333,
              "#9c179e"
             ],
             [
              0.4444444444444444,
              "#bd3786"
             ],
             [
              0.5555555555555556,
              "#d8576b"
             ],
             [
              0.6666666666666666,
              "#ed7953"
             ],
             [
              0.7777777777777778,
              "#fb9f3a"
             ],
             [
              0.8888888888888888,
              "#fdca26"
             ],
             [
              1,
              "#f0f921"
             ]
            ],
            "type": "histogram2d"
           }
          ],
          "histogram2dcontour": [
           {
            "colorbar": {
             "outlinewidth": 0,
             "ticks": ""
            },
            "colorscale": [
             [
              0,
              "#0d0887"
             ],
             [
              0.1111111111111111,
              "#46039f"
             ],
             [
              0.2222222222222222,
              "#7201a8"
             ],
             [
              0.3333333333333333,
              "#9c179e"
             ],
             [
              0.4444444444444444,
              "#bd3786"
             ],
             [
              0.5555555555555556,
              "#d8576b"
             ],
             [
              0.6666666666666666,
              "#ed7953"
             ],
             [
              0.7777777777777778,
              "#fb9f3a"
             ],
             [
              0.8888888888888888,
              "#fdca26"
             ],
             [
              1,
              "#f0f921"
             ]
            ],
            "type": "histogram2dcontour"
           }
          ],
          "mesh3d": [
           {
            "colorbar": {
             "outlinewidth": 0,
             "ticks": ""
            },
            "type": "mesh3d"
           }
          ],
          "parcoords": [
           {
            "line": {
             "colorbar": {
              "outlinewidth": 0,
              "ticks": ""
             }
            },
            "type": "parcoords"
           }
          ],
          "pie": [
           {
            "automargin": true,
            "type": "pie"
           }
          ],
          "scatter": [
           {
            "fillpattern": {
             "fillmode": "overlay",
             "size": 10,
             "solidity": 0.2
            },
            "type": "scatter"
           }
          ],
          "scatter3d": [
           {
            "line": {
             "colorbar": {
              "outlinewidth": 0,
              "ticks": ""
             }
            },
            "marker": {
             "colorbar": {
              "outlinewidth": 0,
              "ticks": ""
             }
            },
            "type": "scatter3d"
           }
          ],
          "scattercarpet": [
           {
            "marker": {
             "colorbar": {
              "outlinewidth": 0,
              "ticks": ""
             }
            },
            "type": "scattercarpet"
           }
          ],
          "scattergeo": [
           {
            "marker": {
             "colorbar": {
              "outlinewidth": 0,
              "ticks": ""
             }
            },
            "type": "scattergeo"
           }
          ],
          "scattergl": [
           {
            "marker": {
             "colorbar": {
              "outlinewidth": 0,
              "ticks": ""
             }
            },
            "type": "scattergl"
           }
          ],
          "scattermap": [
           {
            "marker": {
             "colorbar": {
              "outlinewidth": 0,
              "ticks": ""
             }
            },
            "type": "scattermap"
           }
          ],
          "scattermapbox": [
           {
            "marker": {
             "colorbar": {
              "outlinewidth": 0,
              "ticks": ""
             }
            },
            "type": "scattermapbox"
           }
          ],
          "scatterpolar": [
           {
            "marker": {
             "colorbar": {
              "outlinewidth": 0,
              "ticks": ""
             }
            },
            "type": "scatterpolar"
           }
          ],
          "scatterpolargl": [
           {
            "marker": {
             "colorbar": {
              "outlinewidth": 0,
              "ticks": ""
             }
            },
            "type": "scatterpolargl"
           }
          ],
          "scatterternary": [
           {
            "marker": {
             "colorbar": {
              "outlinewidth": 0,
              "ticks": ""
             }
            },
            "type": "scatterternary"
           }
          ],
          "surface": [
           {
            "colorbar": {
             "outlinewidth": 0,
             "ticks": ""
            },
            "colorscale": [
             [
              0,
              "#0d0887"
             ],
             [
              0.1111111111111111,
              "#46039f"
             ],
             [
              0.2222222222222222,
              "#7201a8"
             ],
             [
              0.3333333333333333,
              "#9c179e"
             ],
             [
              0.4444444444444444,
              "#bd3786"
             ],
             [
              0.5555555555555556,
              "#d8576b"
             ],
             [
              0.6666666666666666,
              "#ed7953"
             ],
             [
              0.7777777777777778,
              "#fb9f3a"
             ],
             [
              0.8888888888888888,
              "#fdca26"
             ],
             [
              1,
              "#f0f921"
             ]
            ],
            "type": "surface"
           }
          ],
          "table": [
           {
            "cells": {
             "fill": {
              "color": "#EBF0F8"
             },
             "line": {
              "color": "white"
             }
            },
            "header": {
             "fill": {
              "color": "#C8D4E3"
             },
             "line": {
              "color": "white"
             }
            },
            "type": "table"
           }
          ]
         },
         "layout": {
          "annotationdefaults": {
           "arrowcolor": "#2a3f5f",
           "arrowhead": 0,
           "arrowwidth": 1
          },
          "autotypenumbers": "strict",
          "coloraxis": {
           "colorbar": {
            "outlinewidth": 0,
            "ticks": ""
           }
          },
          "colorscale": {
           "diverging": [
            [
             0,
             "#8e0152"
            ],
            [
             0.1,
             "#c51b7d"
            ],
            [
             0.2,
             "#de77ae"
            ],
            [
             0.3,
             "#f1b6da"
            ],
            [
             0.4,
             "#fde0ef"
            ],
            [
             0.5,
             "#f7f7f7"
            ],
            [
             0.6,
             "#e6f5d0"
            ],
            [
             0.7,
             "#b8e186"
            ],
            [
             0.8,
             "#7fbc41"
            ],
            [
             0.9,
             "#4d9221"
            ],
            [
             1,
             "#276419"
            ]
           ],
           "sequential": [
            [
             0,
             "#0d0887"
            ],
            [
             0.1111111111111111,
             "#46039f"
            ],
            [
             0.2222222222222222,
             "#7201a8"
            ],
            [
             0.3333333333333333,
             "#9c179e"
            ],
            [
             0.4444444444444444,
             "#bd3786"
            ],
            [
             0.5555555555555556,
             "#d8576b"
            ],
            [
             0.6666666666666666,
             "#ed7953"
            ],
            [
             0.7777777777777778,
             "#fb9f3a"
            ],
            [
             0.8888888888888888,
             "#fdca26"
            ],
            [
             1,
             "#f0f921"
            ]
           ],
           "sequentialminus": [
            [
             0,
             "#0d0887"
            ],
            [
             0.1111111111111111,
             "#46039f"
            ],
            [
             0.2222222222222222,
             "#7201a8"
            ],
            [
             0.3333333333333333,
             "#9c179e"
            ],
            [
             0.4444444444444444,
             "#bd3786"
            ],
            [
             0.5555555555555556,
             "#d8576b"
            ],
            [
             0.6666666666666666,
             "#ed7953"
            ],
            [
             0.7777777777777778,
             "#fb9f3a"
            ],
            [
             0.8888888888888888,
             "#fdca26"
            ],
            [
             1,
             "#f0f921"
            ]
           ]
          },
          "colorway": [
           "#636efa",
           "#EF553B",
           "#00cc96",
           "#ab63fa",
           "#FFA15A",
           "#19d3f3",
           "#FF6692",
           "#B6E880",
           "#FF97FF",
           "#FECB52"
          ],
          "font": {
           "color": "#2a3f5f"
          },
          "geo": {
           "bgcolor": "white",
           "lakecolor": "white",
           "landcolor": "#E5ECF6",
           "showlakes": true,
           "showland": true,
           "subunitcolor": "white"
          },
          "hoverlabel": {
           "align": "left"
          },
          "hovermode": "closest",
          "mapbox": {
           "style": "light"
          },
          "paper_bgcolor": "white",
          "plot_bgcolor": "#E5ECF6",
          "polar": {
           "angularaxis": {
            "gridcolor": "white",
            "linecolor": "white",
            "ticks": ""
           },
           "bgcolor": "#E5ECF6",
           "radialaxis": {
            "gridcolor": "white",
            "linecolor": "white",
            "ticks": ""
           }
          },
          "scene": {
           "xaxis": {
            "backgroundcolor": "#E5ECF6",
            "gridcolor": "white",
            "gridwidth": 2,
            "linecolor": "white",
            "showbackground": true,
            "ticks": "",
            "zerolinecolor": "white"
           },
           "yaxis": {
            "backgroundcolor": "#E5ECF6",
            "gridcolor": "white",
            "gridwidth": 2,
            "linecolor": "white",
            "showbackground": true,
            "ticks": "",
            "zerolinecolor": "white"
           },
           "zaxis": {
            "backgroundcolor": "#E5ECF6",
            "gridcolor": "white",
            "gridwidth": 2,
            "linecolor": "white",
            "showbackground": true,
            "ticks": "",
            "zerolinecolor": "white"
           }
          },
          "shapedefaults": {
           "line": {
            "color": "#2a3f5f"
           }
          },
          "ternary": {
           "aaxis": {
            "gridcolor": "white",
            "linecolor": "white",
            "ticks": ""
           },
           "baxis": {
            "gridcolor": "white",
            "linecolor": "white",
            "ticks": ""
           },
           "bgcolor": "#E5ECF6",
           "caxis": {
            "gridcolor": "white",
            "linecolor": "white",
            "ticks": ""
           }
          },
          "title": {
           "x": 0.05
          },
          "xaxis": {
           "automargin": true,
           "gridcolor": "white",
           "linecolor": "white",
           "ticks": "",
           "title": {
            "standoff": 15
           },
           "zerolinecolor": "white",
           "zerolinewidth": 2
          },
          "yaxis": {
           "automargin": true,
           "gridcolor": "white",
           "linecolor": "white",
           "ticks": "",
           "title": {
            "standoff": 15
           },
           "zerolinecolor": "white",
           "zerolinewidth": 2
          }
         }
        },
        "title": {
         "text": "Income vs Age"
        },
        "xaxis": {
         "anchor": "y",
         "domain": [
          0,
          1
         ],
         "title": {
          "text": "Age"
         }
        },
        "yaxis": {
         "anchor": "x",
         "domain": [
          0,
          1
         ],
         "title": {
          "text": "Income"
         }
        }
       }
      }
     },
     "metadata": {},
     "output_type": "display_data"
    },
    {
     "name": "stdout",
     "output_type": "stream",
     "text": [
      "🔹 Boxplot: Income by Marital Status\n"
     ]
    },
    {
     "data": {
      "application/vnd.plotly.v1+json": {
       "config": {
        "plotlyServerURL": "https://plot.ly"
       },
       "data": [
        {
         "alignmentgroup": "True",
         "hovertemplate": "MaritalStatus=%{x}<br>Income=%{y}<extra></extra>",
         "legendgroup": "Single",
         "marker": {
          "color": "#636efa"
         },
         "name": "Single",
         "notched": false,
         "offsetgroup": "Single",
         "orientation": "v",
         "showlegend": true,
         "type": "box",
         "x": [
          "Single",
          "Single",
          "Single",
          "Single",
          "Single",
          "Single",
          "Single",
          "Single",
          "Single",
          "Single",
          "Single",
          "Single",
          "Single",
          "Single",
          "Single",
          "Single",
          "Single",
          "Single",
          "Single",
          "Single",
          "Single",
          "Single",
          "Single",
          "Single",
          "Single",
          "Single",
          "Single",
          "Single",
          "Single",
          "Single",
          "Single",
          "Single",
          "Single",
          "Single",
          "Single",
          "Single",
          "Single",
          "Single",
          "Single",
          "Single",
          "Single",
          "Single",
          "Single",
          "Single",
          "Single",
          "Single",
          "Single",
          "Single",
          "Single",
          "Single",
          "Single",
          "Single",
          "Single",
          "Single",
          "Single",
          "Single",
          "Single",
          "Single",
          "Single",
          "Single",
          "Single",
          "Single",
          "Single",
          "Single",
          "Single",
          "Single",
          "Single",
          "Single",
          "Single",
          "Single",
          "Single",
          "Single",
          "Single",
          "Single",
          "Single",
          "Single",
          "Single",
          "Single",
          "Single",
          "Single",
          "Single",
          "Single",
          "Single",
          "Single",
          "Single",
          "Single",
          "Single",
          "Single",
          "Single",
          "Single",
          "Single",
          "Single",
          "Single",
          "Single",
          "Single",
          "Single",
          "Single",
          "Single",
          "Single",
          "Single",
          "Single",
          "Single",
          "Single",
          "Single",
          "Single",
          "Single",
          "Single",
          "Single",
          "Single",
          "Single",
          "Single",
          "Single",
          "Single",
          "Single",
          "Single",
          "Single",
          "Single",
          "Single",
          "Single",
          "Single",
          "Single",
          "Single",
          "Single",
          "Single",
          "Single",
          "Single",
          "Single",
          "Single",
          "Single",
          "Single",
          "Single",
          "Single",
          "Single",
          "Single",
          "Single",
          "Single",
          "Single",
          "Single",
          "Single",
          "Single",
          "Single",
          "Single",
          "Single",
          "Single",
          "Single",
          "Single",
          "Single",
          "Single",
          "Single",
          "Single",
          "Single",
          "Single",
          "Single",
          "Single",
          "Single",
          "Single",
          "Single",
          "Single",
          "Single",
          "Single",
          "Single",
          "Single",
          "Single",
          "Single",
          "Single"
         ],
         "x0": " ",
         "xaxis": "x",
         "y": {
          "bdata": "lgwBAPsMAQBzGgEA4CgBAOMuAQBiEAEAleAAAPjyAAD6/wAAU9MAAJL1AAAY7QAAspoAADfQAAC/9QAAIJEAAHoAAQAaRgEAiWkAAImuAADhEwEAqfgAAKyrAACi+AAAPdwAAHT+AACbBAEACBABAB3lAAAF6AAAeMIAAKEbAQCRjQAA7hYBALexAACU5wAAgKYAAOfZAADsDwEA6MgAAI0gAQDe7QAAkDcBAP7BAAAXUAEA+PUAAMLIAADwAwEAmuwAAEvbAACbiAAASxABAIb3AAAKTQEAmBABAAKOAADkQAEAIcoAABYvAQCo1AAAlxcBAGQuAQCg5wAAcc0AAErRAADy1QAAwQABAJIDAQC+JgEA3t4AAAIVAQC9ZAEApqwAAB33AAAw8wAA/+YAAO8nAQDMDwEALb4AAKP9AAA0/QAAGAMBAPs6AQC78QAAO+AAAEnrAAC/uAAAM2wAAIslAQBabgEAV9cAAJxwAQA5DQEAYRwBANcWAQDZ+gAAe/AAADK+AAAuIAEAWo4AAH8hAQCaCgEAjPAAADWcAAA87QAAwOwAAIjDAAAwmAAAzx4BABfZAADpwgAA8ewAALXJAAAcmgAAh4EBAGpKAQDJSQEAKdQAAOquAABUxAAAqKIAAF/sAABCvQAAEvgAAMP9AABKAAEA7QIBABDBAAAb5wAAFgsBAEz0AABptQAAR78AAHQxAQBFcgEAawEBADPyAABfnAAAlOQAAF3ZAAAXvgAAACoBADAGAQDVOwEAgp0AAKnGAAAn7gAAhg0BALhBAQAW8wAAn9YAAKbYAAAeIQEA2xYBAJjIAABeygAAuJMAAHwwAQBm0AAAPeAAAP2ZAADUiwAAHN4AAOLGAADbFQEA",
          "dtype": "i4"
         },
         "y0": " ",
         "yaxis": "y"
        },
        {
         "alignmentgroup": "True",
         "hovertemplate": "MaritalStatus=%{x}<br>Income=%{y}<extra></extra>",
         "legendgroup": "Divorced",
         "marker": {
          "color": "#EF553B"
         },
         "name": "Divorced",
         "notched": false,
         "offsetgroup": "Divorced",
         "orientation": "v",
         "showlegend": true,
         "type": "box",
         "x": [
          "Divorced",
          "Divorced",
          "Divorced",
          "Divorced",
          "Divorced",
          "Divorced",
          "Divorced",
          "Divorced",
          "Divorced",
          "Divorced",
          "Divorced",
          "Divorced",
          "Divorced",
          "Divorced",
          "Divorced",
          "Divorced",
          "Divorced",
          "Divorced",
          "Divorced",
          "Divorced",
          "Divorced",
          "Divorced",
          "Divorced",
          "Divorced",
          "Divorced",
          "Divorced",
          "Divorced",
          "Divorced",
          "Divorced",
          "Divorced",
          "Divorced",
          "Divorced",
          "Divorced",
          "Divorced",
          "Divorced",
          "Divorced",
          "Divorced",
          "Divorced",
          "Divorced",
          "Divorced",
          "Divorced",
          "Divorced",
          "Divorced",
          "Divorced",
          "Divorced",
          "Divorced",
          "Divorced",
          "Divorced",
          "Divorced",
          "Divorced",
          "Divorced",
          "Divorced",
          "Divorced",
          "Divorced",
          "Divorced",
          "Divorced",
          "Divorced",
          "Divorced",
          "Divorced",
          "Divorced",
          "Divorced",
          "Divorced",
          "Divorced",
          "Divorced",
          "Divorced",
          "Divorced",
          "Divorced",
          "Divorced",
          "Divorced",
          "Divorced",
          "Divorced",
          "Divorced",
          "Divorced",
          "Divorced",
          "Divorced",
          "Divorced",
          "Divorced",
          "Divorced",
          "Divorced",
          "Divorced",
          "Divorced",
          "Divorced",
          "Divorced",
          "Divorced",
          "Divorced",
          "Divorced",
          "Divorced",
          "Divorced",
          "Divorced",
          "Divorced",
          "Divorced",
          "Divorced",
          "Divorced",
          "Divorced",
          "Divorced",
          "Divorced",
          "Divorced",
          "Divorced",
          "Divorced",
          "Divorced",
          "Divorced",
          "Divorced",
          "Divorced",
          "Divorced",
          "Divorced",
          "Divorced",
          "Divorced",
          "Divorced",
          "Divorced",
          "Divorced",
          "Divorced",
          "Divorced",
          "Divorced",
          "Divorced",
          "Divorced",
          "Divorced",
          "Divorced",
          "Divorced",
          "Divorced",
          "Divorced",
          "Divorced",
          "Divorced",
          "Divorced",
          "Divorced",
          "Divorced",
          "Divorced",
          "Divorced",
          "Divorced",
          "Divorced",
          "Divorced",
          "Divorced",
          "Divorced",
          "Divorced",
          "Divorced",
          "Divorced",
          "Divorced",
          "Divorced",
          "Divorced",
          "Divorced",
          "Divorced",
          "Divorced",
          "Divorced",
          "Divorced",
          "Divorced",
          "Divorced",
          "Divorced",
          "Divorced",
          "Divorced",
          "Divorced",
          "Divorced",
          "Divorced",
          "Divorced",
          "Divorced",
          "Divorced",
          "Divorced",
          "Divorced",
          "Divorced",
          "Divorced",
          "Divorced",
          "Divorced",
          "Divorced",
          "Divorced",
          "Divorced",
          "Divorced"
         ],
         "x0": " ",
         "xaxis": "x",
         "y": {
          "bdata": "UtUAAFYrAQAZCAEAXDsBABExAQCBugAAD+wAAEg1AQAyEAEAV9gAADf3AAD8+AAAzUYBAMrkAAC5+gAA/g0BAGUwAQCgyQAA2MkAAIeVAABbnwAAeRABAP2QAAAA/wAA+D4BANcrAQDCCwEAQTgBAIqWAAAixAAA388AAFlcAABrGAEA8+sAAJX2AAC9cgAAr68AAHfEAABJEwEA0x4BAJcPAQDfJwEAA8sAAPhjAQA0xAAABc4AADoDAQACCQEA5mcBAJlPAQBo8QAAxAEBABDOAACSlAAAlCkBAB7oAABC4AAAd0MAAK8tAQBwhAAAI9UAAIOeAACt/gAAM58AADEcAQBd+AAAMtsAADHoAABNFQEArf4AANokAQCsQAAAMuIAAHGtAABbHQEAawcBADN3AQAo9gAA7S8BAGanAAAVSgEANKcAABv8AADzBAEAEdwAAN0iAQBxogAAdRMBAPDYAADNRwEASbAAAOYjAQDsVwAA9JgAAEomAQBqCwEAc7AAALapAADwOwEAorEAADnpAAC/CgEAfvcAAIrxAADjUAEAR8AAALj6AABtuQAAyqQAAIf8AACeAgEAhN8AAMTiAACtTAEA8MkAAHLeAABKyAAANhsBAE8yAQBgTAEAbbQAAIqXAABSvAAAyH4AALmpAAAkAQEABOoAAIEbAQAr7wAAOiABADn9AAAf4AAAzwkBANfpAAAPCwEAfdgAALHtAAA+5gAA4QYBAKB2AADu4QAAfqMAABFEAQDJMQEAbsYAAKHTAABc9AAAXpMAALtUAABImgAANN0AAMqAAACOUgAAVQEBAFuxAAAW4QAAsLMAAIe2AACrTgEAXlUBABgSAQDJzQAAx2gBAOn7AAA=",
          "dtype": "i4"
         },
         "y0": " ",
         "yaxis": "y"
        },
        {
         "alignmentgroup": "True",
         "hovertemplate": "MaritalStatus=%{x}<br>Income=%{y}<extra></extra>",
         "legendgroup": "Married",
         "marker": {
          "color": "#00cc96"
         },
         "name": "Married",
         "notched": false,
         "offsetgroup": "Married",
         "orientation": "v",
         "showlegend": true,
         "type": "box",
         "x": [
          "Married",
          "Married",
          "Married",
          "Married",
          "Married",
          "Married",
          "Married",
          "Married",
          "Married",
          "Married",
          "Married",
          "Married",
          "Married",
          "Married",
          "Married",
          "Married",
          "Married",
          "Married",
          "Married",
          "Married",
          "Married",
          "Married",
          "Married",
          "Married",
          "Married",
          "Married",
          "Married",
          "Married",
          "Married",
          "Married",
          "Married",
          "Married",
          "Married",
          "Married",
          "Married",
          "Married",
          "Married",
          "Married",
          "Married",
          "Married",
          "Married",
          "Married",
          "Married",
          "Married",
          "Married",
          "Married",
          "Married",
          "Married",
          "Married",
          "Married",
          "Married",
          "Married",
          "Married",
          "Married",
          "Married",
          "Married",
          "Married",
          "Married",
          "Married",
          "Married",
          "Married",
          "Married",
          "Married",
          "Married",
          "Married",
          "Married",
          "Married",
          "Married",
          "Married",
          "Married",
          "Married",
          "Married",
          "Married",
          "Married",
          "Married",
          "Married",
          "Married",
          "Married",
          "Married",
          "Married",
          "Married",
          "Married",
          "Married",
          "Married",
          "Married",
          "Married",
          "Married",
          "Married",
          "Married",
          "Married",
          "Married",
          "Married",
          "Married",
          "Married",
          "Married",
          "Married",
          "Married",
          "Married",
          "Married",
          "Married",
          "Married",
          "Married",
          "Married",
          "Married",
          "Married",
          "Married",
          "Married",
          "Married",
          "Married",
          "Married",
          "Married",
          "Married",
          "Married",
          "Married",
          "Married",
          "Married",
          "Married",
          "Married",
          "Married",
          "Married",
          "Married",
          "Married",
          "Married",
          "Married",
          "Married",
          "Married",
          "Married",
          "Married",
          "Married",
          "Married",
          "Married",
          "Married",
          "Married",
          "Married",
          "Married",
          "Married",
          "Married",
          "Married",
          "Married",
          "Married",
          "Married",
          "Married",
          "Married",
          "Married",
          "Married",
          "Married",
          "Married",
          "Married",
          "Married",
          "Married",
          "Married",
          "Married",
          "Married",
          "Married",
          "Married",
          "Married",
          "Married",
          "Married",
          "Married",
          "Married",
          "Married",
          "Married",
          "Married",
          "Married",
          "Married",
          "Married",
          "Married",
          "Married",
          "Married",
          "Married",
          "Married"
         ],
         "x0": " ",
         "xaxis": "x",
         "y": {
          "bdata": "GRYBACBpAQBP9QAASCkBADquAAAq8gAAWsEAAIXmAACZWAEAKAQBAPXMAABSyQAAfh0BAJDkAACTVgEA1cEAALTnAAAKoQAAj+UAACMFAQDj9QAA6xMBAME+AQC+wgAA5lMBAOHxAAA70AAAqHsAAE0DAQAp6gAAdkIBAMgdAQBt3QAA5NsAAGrCAAC1UwEA7AsBAF48AQBuAQEA8/UAAJrXAADy6AAAUg4BAHKuAACZRgEAjaIAALonAQB8zwAAJh4BAD07AQC4xQAAkQEBAFIHAQCm+QAABcMAAODoAAA6CgEAxKgAAPjOAABTBgEA4O4AAMAkAQArjwAAT0IBAOnVAACH1wAAD2QBAC3mAABr7QAApeUAAPvuAABKdQAAECABAE4rAQBHDgEA08UAAIZaAQAz3wAAwv8AACYrAQCd5gAA7UgBABIwAQBhDQEAleEAACOqAAD/lQAA78QAANmcAACWSgEADcIAAPeJAABUeQEAfDsBALXmAADt2QAALYcAAJzkAADq9AAAY7AAAM6wAAA23QAAI8cAABz9AAAJjQAALwQBAE46AQC28QAANtEAADUKAQA+wQAAfqEAAMbBAAB8MwEAEWgBAIIPAQDC4QAA2iIBAOVrAQAz5QAASLsAALYLAQA1jwAAjXUAAH+jAADU7gAA8QkBANvjAADNMgEAUSoBABEOAQBfqgAA1dcAAK3yAACg9QAAQ9gAAHDhAADdEwEAbiIBACMIAQA6bAAAcnwBAAr6AAA6wwAAgCQBALq1AAAG7AAA6OgAAEoaAQD76gAA96sAAGvfAABpCQEAVbMAAN7dAADI8wAAjeoAAPoDAQAjMAEAAyIBANClAAAZCgEAHvUAAHrpAABRDAEAYfEAAMboAACTQAEAK8MAAE4nAQDjxgAA",
          "dtype": "i4"
         },
         "y0": " ",
         "yaxis": "y"
        }
       ],
       "layout": {
        "boxmode": "overlay",
        "legend": {
         "title": {
          "text": "MaritalStatus"
         },
         "tracegroupgap": 0
        },
        "template": {
         "data": {
          "bar": [
           {
            "error_x": {
             "color": "#2a3f5f"
            },
            "error_y": {
             "color": "#2a3f5f"
            },
            "marker": {
             "line": {
              "color": "#E5ECF6",
              "width": 0.5
             },
             "pattern": {
              "fillmode": "overlay",
              "size": 10,
              "solidity": 0.2
             }
            },
            "type": "bar"
           }
          ],
          "barpolar": [
           {
            "marker": {
             "line": {
              "color": "#E5ECF6",
              "width": 0.5
             },
             "pattern": {
              "fillmode": "overlay",
              "size": 10,
              "solidity": 0.2
             }
            },
            "type": "barpolar"
           }
          ],
          "carpet": [
           {
            "aaxis": {
             "endlinecolor": "#2a3f5f",
             "gridcolor": "white",
             "linecolor": "white",
             "minorgridcolor": "white",
             "startlinecolor": "#2a3f5f"
            },
            "baxis": {
             "endlinecolor": "#2a3f5f",
             "gridcolor": "white",
             "linecolor": "white",
             "minorgridcolor": "white",
             "startlinecolor": "#2a3f5f"
            },
            "type": "carpet"
           }
          ],
          "choropleth": [
           {
            "colorbar": {
             "outlinewidth": 0,
             "ticks": ""
            },
            "type": "choropleth"
           }
          ],
          "contour": [
           {
            "colorbar": {
             "outlinewidth": 0,
             "ticks": ""
            },
            "colorscale": [
             [
              0,
              "#0d0887"
             ],
             [
              0.1111111111111111,
              "#46039f"
             ],
             [
              0.2222222222222222,
              "#7201a8"
             ],
             [
              0.3333333333333333,
              "#9c179e"
             ],
             [
              0.4444444444444444,
              "#bd3786"
             ],
             [
              0.5555555555555556,
              "#d8576b"
             ],
             [
              0.6666666666666666,
              "#ed7953"
             ],
             [
              0.7777777777777778,
              "#fb9f3a"
             ],
             [
              0.8888888888888888,
              "#fdca26"
             ],
             [
              1,
              "#f0f921"
             ]
            ],
            "type": "contour"
           }
          ],
          "contourcarpet": [
           {
            "colorbar": {
             "outlinewidth": 0,
             "ticks": ""
            },
            "type": "contourcarpet"
           }
          ],
          "heatmap": [
           {
            "colorbar": {
             "outlinewidth": 0,
             "ticks": ""
            },
            "colorscale": [
             [
              0,
              "#0d0887"
             ],
             [
              0.1111111111111111,
              "#46039f"
             ],
             [
              0.2222222222222222,
              "#7201a8"
             ],
             [
              0.3333333333333333,
              "#9c179e"
             ],
             [
              0.4444444444444444,
              "#bd3786"
             ],
             [
              0.5555555555555556,
              "#d8576b"
             ],
             [
              0.6666666666666666,
              "#ed7953"
             ],
             [
              0.7777777777777778,
              "#fb9f3a"
             ],
             [
              0.8888888888888888,
              "#fdca26"
             ],
             [
              1,
              "#f0f921"
             ]
            ],
            "type": "heatmap"
           }
          ],
          "histogram": [
           {
            "marker": {
             "pattern": {
              "fillmode": "overlay",
              "size": 10,
              "solidity": 0.2
             }
            },
            "type": "histogram"
           }
          ],
          "histogram2d": [
           {
            "colorbar": {
             "outlinewidth": 0,
             "ticks": ""
            },
            "colorscale": [
             [
              0,
              "#0d0887"
             ],
             [
              0.1111111111111111,
              "#46039f"
             ],
             [
              0.2222222222222222,
              "#7201a8"
             ],
             [
              0.3333333333333333,
              "#9c179e"
             ],
             [
              0.4444444444444444,
              "#bd3786"
             ],
             [
              0.5555555555555556,
              "#d8576b"
             ],
             [
              0.6666666666666666,
              "#ed7953"
             ],
             [
              0.7777777777777778,
              "#fb9f3a"
             ],
             [
              0.8888888888888888,
              "#fdca26"
             ],
             [
              1,
              "#f0f921"
             ]
            ],
            "type": "histogram2d"
           }
          ],
          "histogram2dcontour": [
           {
            "colorbar": {
             "outlinewidth": 0,
             "ticks": ""
            },
            "colorscale": [
             [
              0,
              "#0d0887"
             ],
             [
              0.1111111111111111,
              "#46039f"
             ],
             [
              0.2222222222222222,
              "#7201a8"
             ],
             [
              0.3333333333333333,
              "#9c179e"
             ],
             [
              0.4444444444444444,
              "#bd3786"
             ],
             [
              0.5555555555555556,
              "#d8576b"
             ],
             [
              0.6666666666666666,
              "#ed7953"
             ],
             [
              0.7777777777777778,
              "#fb9f3a"
             ],
             [
              0.8888888888888888,
              "#fdca26"
             ],
             [
              1,
              "#f0f921"
             ]
            ],
            "type": "histogram2dcontour"
           }
          ],
          "mesh3d": [
           {
            "colorbar": {
             "outlinewidth": 0,
             "ticks": ""
            },
            "type": "mesh3d"
           }
          ],
          "parcoords": [
           {
            "line": {
             "colorbar": {
              "outlinewidth": 0,
              "ticks": ""
             }
            },
            "type": "parcoords"
           }
          ],
          "pie": [
           {
            "automargin": true,
            "type": "pie"
           }
          ],
          "scatter": [
           {
            "fillpattern": {
             "fillmode": "overlay",
             "size": 10,
             "solidity": 0.2
            },
            "type": "scatter"
           }
          ],
          "scatter3d": [
           {
            "line": {
             "colorbar": {
              "outlinewidth": 0,
              "ticks": ""
             }
            },
            "marker": {
             "colorbar": {
              "outlinewidth": 0,
              "ticks": ""
             }
            },
            "type": "scatter3d"
           }
          ],
          "scattercarpet": [
           {
            "marker": {
             "colorbar": {
              "outlinewidth": 0,
              "ticks": ""
             }
            },
            "type": "scattercarpet"
           }
          ],
          "scattergeo": [
           {
            "marker": {
             "colorbar": {
              "outlinewidth": 0,
              "ticks": ""
             }
            },
            "type": "scattergeo"
           }
          ],
          "scattergl": [
           {
            "marker": {
             "colorbar": {
              "outlinewidth": 0,
              "ticks": ""
             }
            },
            "type": "scattergl"
           }
          ],
          "scattermap": [
           {
            "marker": {
             "colorbar": {
              "outlinewidth": 0,
              "ticks": ""
             }
            },
            "type": "scattermap"
           }
          ],
          "scattermapbox": [
           {
            "marker": {
             "colorbar": {
              "outlinewidth": 0,
              "ticks": ""
             }
            },
            "type": "scattermapbox"
           }
          ],
          "scatterpolar": [
           {
            "marker": {
             "colorbar": {
              "outlinewidth": 0,
              "ticks": ""
             }
            },
            "type": "scatterpolar"
           }
          ],
          "scatterpolargl": [
           {
            "marker": {
             "colorbar": {
              "outlinewidth": 0,
              "ticks": ""
             }
            },
            "type": "scatterpolargl"
           }
          ],
          "scatterternary": [
           {
            "marker": {
             "colorbar": {
              "outlinewidth": 0,
              "ticks": ""
             }
            },
            "type": "scatterternary"
           }
          ],
          "surface": [
           {
            "colorbar": {
             "outlinewidth": 0,
             "ticks": ""
            },
            "colorscale": [
             [
              0,
              "#0d0887"
             ],
             [
              0.1111111111111111,
              "#46039f"
             ],
             [
              0.2222222222222222,
              "#7201a8"
             ],
             [
              0.3333333333333333,
              "#9c179e"
             ],
             [
              0.4444444444444444,
              "#bd3786"
             ],
             [
              0.5555555555555556,
              "#d8576b"
             ],
             [
              0.6666666666666666,
              "#ed7953"
             ],
             [
              0.7777777777777778,
              "#fb9f3a"
             ],
             [
              0.8888888888888888,
              "#fdca26"
             ],
             [
              1,
              "#f0f921"
             ]
            ],
            "type": "surface"
           }
          ],
          "table": [
           {
            "cells": {
             "fill": {
              "color": "#EBF0F8"
             },
             "line": {
              "color": "white"
             }
            },
            "header": {
             "fill": {
              "color": "#C8D4E3"
             },
             "line": {
              "color": "white"
             }
            },
            "type": "table"
           }
          ]
         },
         "layout": {
          "annotationdefaults": {
           "arrowcolor": "#2a3f5f",
           "arrowhead": 0,
           "arrowwidth": 1
          },
          "autotypenumbers": "strict",
          "coloraxis": {
           "colorbar": {
            "outlinewidth": 0,
            "ticks": ""
           }
          },
          "colorscale": {
           "diverging": [
            [
             0,
             "#8e0152"
            ],
            [
             0.1,
             "#c51b7d"
            ],
            [
             0.2,
             "#de77ae"
            ],
            [
             0.3,
             "#f1b6da"
            ],
            [
             0.4,
             "#fde0ef"
            ],
            [
             0.5,
             "#f7f7f7"
            ],
            [
             0.6,
             "#e6f5d0"
            ],
            [
             0.7,
             "#b8e186"
            ],
            [
             0.8,
             "#7fbc41"
            ],
            [
             0.9,
             "#4d9221"
            ],
            [
             1,
             "#276419"
            ]
           ],
           "sequential": [
            [
             0,
             "#0d0887"
            ],
            [
             0.1111111111111111,
             "#46039f"
            ],
            [
             0.2222222222222222,
             "#7201a8"
            ],
            [
             0.3333333333333333,
             "#9c179e"
            ],
            [
             0.4444444444444444,
             "#bd3786"
            ],
            [
             0.5555555555555556,
             "#d8576b"
            ],
            [
             0.6666666666666666,
             "#ed7953"
            ],
            [
             0.7777777777777778,
             "#fb9f3a"
            ],
            [
             0.8888888888888888,
             "#fdca26"
            ],
            [
             1,
             "#f0f921"
            ]
           ],
           "sequentialminus": [
            [
             0,
             "#0d0887"
            ],
            [
             0.1111111111111111,
             "#46039f"
            ],
            [
             0.2222222222222222,
             "#7201a8"
            ],
            [
             0.3333333333333333,
             "#9c179e"
            ],
            [
             0.4444444444444444,
             "#bd3786"
            ],
            [
             0.5555555555555556,
             "#d8576b"
            ],
            [
             0.6666666666666666,
             "#ed7953"
            ],
            [
             0.7777777777777778,
             "#fb9f3a"
            ],
            [
             0.8888888888888888,
             "#fdca26"
            ],
            [
             1,
             "#f0f921"
            ]
           ]
          },
          "colorway": [
           "#636efa",
           "#EF553B",
           "#00cc96",
           "#ab63fa",
           "#FFA15A",
           "#19d3f3",
           "#FF6692",
           "#B6E880",
           "#FF97FF",
           "#FECB52"
          ],
          "font": {
           "color": "#2a3f5f"
          },
          "geo": {
           "bgcolor": "white",
           "lakecolor": "white",
           "landcolor": "#E5ECF6",
           "showlakes": true,
           "showland": true,
           "subunitcolor": "white"
          },
          "hoverlabel": {
           "align": "left"
          },
          "hovermode": "closest",
          "mapbox": {
           "style": "light"
          },
          "paper_bgcolor": "white",
          "plot_bgcolor": "#E5ECF6",
          "polar": {
           "angularaxis": {
            "gridcolor": "white",
            "linecolor": "white",
            "ticks": ""
           },
           "bgcolor": "#E5ECF6",
           "radialaxis": {
            "gridcolor": "white",
            "linecolor": "white",
            "ticks": ""
           }
          },
          "scene": {
           "xaxis": {
            "backgroundcolor": "#E5ECF6",
            "gridcolor": "white",
            "gridwidth": 2,
            "linecolor": "white",
            "showbackground": true,
            "ticks": "",
            "zerolinecolor": "white"
           },
           "yaxis": {
            "backgroundcolor": "#E5ECF6",
            "gridcolor": "white",
            "gridwidth": 2,
            "linecolor": "white",
            "showbackground": true,
            "ticks": "",
            "zerolinecolor": "white"
           },
           "zaxis": {
            "backgroundcolor": "#E5ECF6",
            "gridcolor": "white",
            "gridwidth": 2,
            "linecolor": "white",
            "showbackground": true,
            "ticks": "",
            "zerolinecolor": "white"
           }
          },
          "shapedefaults": {
           "line": {
            "color": "#2a3f5f"
           }
          },
          "ternary": {
           "aaxis": {
            "gridcolor": "white",
            "linecolor": "white",
            "ticks": ""
           },
           "baxis": {
            "gridcolor": "white",
            "linecolor": "white",
            "ticks": ""
           },
           "bgcolor": "#E5ECF6",
           "caxis": {
            "gridcolor": "white",
            "linecolor": "white",
            "ticks": ""
           }
          },
          "title": {
           "x": 0.05
          },
          "xaxis": {
           "automargin": true,
           "gridcolor": "white",
           "linecolor": "white",
           "ticks": "",
           "title": {
            "standoff": 15
           },
           "zerolinecolor": "white",
           "zerolinewidth": 2
          },
          "yaxis": {
           "automargin": true,
           "gridcolor": "white",
           "linecolor": "white",
           "ticks": "",
           "title": {
            "standoff": 15
           },
           "zerolinecolor": "white",
           "zerolinewidth": 2
          }
         }
        },
        "title": {
         "text": "Income Distribution by MaritalStatus"
        },
        "xaxis": {
         "anchor": "y",
         "categoryarray": [
          "Single",
          "Divorced",
          "Married"
         ],
         "categoryorder": "array",
         "domain": [
          0,
          1
         ],
         "title": {
          "text": "MaritalStatus"
         }
        },
        "yaxis": {
         "anchor": "x",
         "domain": [
          0,
          1
         ],
         "title": {
          "text": "Income"
         }
        }
       }
      }
     },
     "metadata": {},
     "output_type": "display_data"
    },
    {
     "name": "stdout",
     "output_type": "stream",
     "text": [
      "🔹 Violin Plot: Trip Duration by Passenger Type\n"
     ]
    },
    {
     "data": {
      "application/vnd.plotly.v1+json": {
       "config": {
        "plotlyServerURL": "https://plot.ly"
       },
       "data": [
        {
         "alignmentgroup": "True",
         "box": {
          "visible": true
         },
         "hovertemplate": "PassengerType=%{x}<br>TripDuration=%{y}<extra></extra>",
         "legendgroup": "Business",
         "marker": {
          "color": "#636efa"
         },
         "name": "Business",
         "offsetgroup": "Business",
         "orientation": "v",
         "points": "all",
         "scalegroup": "True",
         "showlegend": true,
         "type": "violin",
         "x": [
          "Business",
          "Business",
          "Business",
          "Business",
          "Business",
          "Business",
          "Business",
          "Business",
          "Business",
          "Business",
          "Business",
          "Business",
          "Business",
          "Business",
          "Business",
          "Business",
          "Business",
          "Business",
          "Business",
          "Business",
          "Business",
          "Business",
          "Business",
          "Business",
          "Business",
          "Business",
          "Business",
          "Business",
          "Business",
          "Business",
          "Business",
          "Business",
          "Business",
          "Business",
          "Business",
          "Business",
          "Business",
          "Business",
          "Business",
          "Business",
          "Business",
          "Business",
          "Business",
          "Business",
          "Business",
          "Business",
          "Business",
          "Business",
          "Business",
          "Business",
          "Business",
          "Business",
          "Business",
          "Business",
          "Business",
          "Business",
          "Business",
          "Business",
          "Business",
          "Business",
          "Business",
          "Business",
          "Business",
          "Business",
          "Business",
          "Business",
          "Business",
          "Business",
          "Business",
          "Business",
          "Business",
          "Business",
          "Business",
          "Business",
          "Business",
          "Business",
          "Business",
          "Business",
          "Business",
          "Business",
          "Business",
          "Business",
          "Business",
          "Business",
          "Business",
          "Business",
          "Business",
          "Business",
          "Business",
          "Business",
          "Business",
          "Business",
          "Business",
          "Business",
          "Business",
          "Business",
          "Business",
          "Business",
          "Business",
          "Business",
          "Business",
          "Business",
          "Business",
          "Business",
          "Business",
          "Business",
          "Business",
          "Business",
          "Business",
          "Business",
          "Business",
          "Business",
          "Business",
          "Business",
          "Business",
          "Business",
          "Business",
          "Business",
          "Business",
          "Business",
          "Business",
          "Business",
          "Business",
          "Business",
          "Business",
          "Business",
          "Business",
          "Business",
          "Business",
          "Business",
          "Business",
          "Business",
          "Business",
          "Business",
          "Business",
          "Business",
          "Business",
          "Business",
          "Business",
          "Business",
          "Business",
          "Business",
          "Business",
          "Business",
          "Business",
          "Business",
          "Business",
          "Business",
          "Business",
          "Business",
          "Business",
          "Business",
          "Business",
          "Business",
          "Business",
          "Business",
          "Business",
          "Business",
          "Business",
          "Business",
          "Business",
          "Business",
          "Business",
          "Business",
          "Business",
          "Business",
          "Business",
          "Business",
          "Business",
          "Business",
          "Business",
          "Business",
          "Business",
          "Business",
          "Business",
          "Business",
          "Business",
          "Business",
          "Business",
          "Business",
          "Business",
          "Business"
         ],
         "x0": " ",
         "xaxis": "x",
         "y": {
          "bdata": "dkdYJFGU5T/4n9v52CH4PzObkyFC8yNAwO9CjE+8DkCmgwpKSksCQN1Wl2bUehhAAnuVm0X57j+113NDu9D9P/w5rUCixidAwcHiczDP5T/ZSfTV1S4BQKctuLIbRQBAPpg8nbmyJ0DteRSvjnrlP0wV7hkrwvs/Fg9fXn6GFkAM4pK4XKQHQNKZPPd1Th9ADJjGXTcU8T8OY122VlP1P2FflaHvYjJA2NfM7iMREECGK2tR1y8QQAi5pcxrmN0/iMFnKxzNEEBu0hZuZm8RQOAzWhdJ0gZA/L45bIQMAED8W1eIHjnKP/X/LB0W/RJAWfIW0iiGE0Daoq0KjscfQKl2Q7QnjQhAO+gkj7XIAEBqq7Wis6P8P7ELwDkkiwtANZjHwm2/FEBXb2rxF+sRQCC4/jHTZe4/UlPCJTl6AEAEgdqVxpXbPxz72oFY1QdA/eSUi6FzxT9y9d4Jx3s6P7LoVd8dbcI/nOZd9wPxFUCFiisf6TQQQETo2tzNP/I/gPbEOpND7j8mrg2De7EaQHsiOdJE4xxA3N6NI6SK9z8UkojftjQNQA5Xw3vY3Yo/Mvmi1i6J4T/6p+gosVgKQONzIU/4SyRADCZ7+WktEUAEwMggXhEiQEQQRL51GQ1ANwPvVq388D/EeKFs+UQSQG4yJLDO9sI/63oB5fFs9T+oTxCR2Sn2Px1+VKDF2/k/qJMFgxbLFkDIHrzeZq7+P1SHXfZ2dRlANR32/1sz3D8UVbuH4VPlP2jtv0PCghpAqv1NF8RoAUDQwaQaHagVQPiTKPKKvKY/7SIw06JLAED+DufhMd34PxkwZe8gKwJAgYGdOl2zBUDIES22ZKOeP5gAZxKtKQtAgvBhSd7w8T9iIQ2en9gRQIYKHYgdyhFA/n+n1LRhJkD2lN2rNUGqP+BnlYjXltg/AxTZweqp8D9rXmUtGc0RQCdhROh0gwFAhEul+GfxJUDtnmspV4gWQMmhnDCQVrI/JJwGbqN1G0CVasPDY1gSQKv7Wy2oMBJAamZEDixm/T/SilikCC/rPxJ8dNtzgxBAXLGg0Lt0EkCGFDIHW74jQCJYRLtAMM4/mBKBRVOE6D9rBWDsTOzkP5oSRtEoI90/vARcSfxfB0D2+b766T0SQH1JO/AUuQRAkFF+pQSV9z/I0rPNAekKQCCd/rkcef4/oaDj3EepyD/P498b2AIjQAQSiRAeqgBAsR7lfTPV7j/G0no5F70TQPAg1QIiPcE/WlezfCqwwz/ZTb5Lk0QWQGr4C7Z1aCNAKYDHosc6BECMxFjnvtjsPxDmNSYZ1idA3W/OXYLgEkCuBOEP5bYmQEqr1xTd/RBAuq0PhRNH6z8civtvp1wKQKop0tOmuBFAV02GIySVAEBgcp6ldeSbP9rayYYa7eg/F2968K0b6D8w1+wwHZwWQA6thVWAeP8/W13WoLM32D+oblHWPF3wP2X2/nOO1xBA/qXj7Oi+6z9Tc+lvtlD1P3714Q0Pa+Q/wtsCt0id1D/zlhfDWOwAQEU2af4R9ec/AfHiwlZ+4j/DdJ8/Q+f0P55/GAZG8RpA3GKJZwnFGkCSQ1WjKQ3/P7qBncor/OU/WpfKs/B2BUBYVtaHzFXzP2aYbHOd9SBAAFIadNrd7z/MDDlFHmm9P0qsi23MTAI/WpP+ori9AUDASSbQEZPFPygoxHXxm+g/ukj+A6ddD0B//qqCgHAkQET6VXrWYeg/KlLS84QbCkCW85oyYVLxP5ZGtMwU4/I/QM6lBmJdFEC2gC+7jD3jPy59AQ7cP/Y/KpJC5LrdG0BPgwD7w7gTQHBePPdY1xBAWvTvYYtvBUDlWTn+XAkFQODWjtZ7me0/Nl/dtJoVBkDOsTc3ZRMRQKRNpqh4H/Y/H8a/abcWFUAYRTkQ2xEOQD/dulM6vRdAXFiSv8m/7j/pf/ojZqDzPw==",
          "dtype": "f8"
         },
         "y0": " ",
         "yaxis": "y"
        },
        {
         "alignmentgroup": "True",
         "box": {
          "visible": true
         },
         "hovertemplate": "PassengerType=%{x}<br>TripDuration=%{y}<extra></extra>",
         "legendgroup": "Personal",
         "marker": {
          "color": "#EF553B"
         },
         "name": "Personal",
         "offsetgroup": "Personal",
         "orientation": "v",
         "points": "all",
         "scalegroup": "True",
         "showlegend": true,
         "type": "violin",
         "x": [
          "Personal",
          "Personal",
          "Personal",
          "Personal",
          "Personal",
          "Personal",
          "Personal",
          "Personal",
          "Personal",
          "Personal",
          "Personal",
          "Personal",
          "Personal",
          "Personal",
          "Personal",
          "Personal",
          "Personal",
          "Personal",
          "Personal",
          "Personal",
          "Personal",
          "Personal",
          "Personal",
          "Personal",
          "Personal",
          "Personal",
          "Personal",
          "Personal",
          "Personal",
          "Personal",
          "Personal",
          "Personal",
          "Personal",
          "Personal",
          "Personal",
          "Personal",
          "Personal",
          "Personal",
          "Personal",
          "Personal",
          "Personal",
          "Personal",
          "Personal",
          "Personal",
          "Personal",
          "Personal",
          "Personal",
          "Personal",
          "Personal",
          "Personal",
          "Personal",
          "Personal",
          "Personal",
          "Personal",
          "Personal",
          "Personal",
          "Personal",
          "Personal",
          "Personal",
          "Personal",
          "Personal",
          "Personal",
          "Personal",
          "Personal",
          "Personal",
          "Personal",
          "Personal",
          "Personal",
          "Personal",
          "Personal",
          "Personal",
          "Personal",
          "Personal",
          "Personal",
          "Personal",
          "Personal",
          "Personal",
          "Personal",
          "Personal",
          "Personal",
          "Personal",
          "Personal",
          "Personal",
          "Personal",
          "Personal",
          "Personal",
          "Personal",
          "Personal",
          "Personal",
          "Personal",
          "Personal",
          "Personal",
          "Personal",
          "Personal",
          "Personal",
          "Personal",
          "Personal",
          "Personal",
          "Personal",
          "Personal",
          "Personal",
          "Personal",
          "Personal",
          "Personal",
          "Personal",
          "Personal",
          "Personal",
          "Personal",
          "Personal",
          "Personal",
          "Personal",
          "Personal",
          "Personal",
          "Personal",
          "Personal",
          "Personal",
          "Personal",
          "Personal",
          "Personal",
          "Personal",
          "Personal",
          "Personal",
          "Personal",
          "Personal",
          "Personal",
          "Personal",
          "Personal",
          "Personal",
          "Personal",
          "Personal",
          "Personal",
          "Personal",
          "Personal",
          "Personal",
          "Personal",
          "Personal",
          "Personal",
          "Personal",
          "Personal",
          "Personal",
          "Personal",
          "Personal",
          "Personal",
          "Personal",
          "Personal",
          "Personal",
          "Personal",
          "Personal",
          "Personal",
          "Personal"
         ],
         "x0": " ",
         "xaxis": "x",
         "y": {
          "bdata": "WCq3MEbrvj/olo9kpfr+PzoKCTKGywJAUQFUcpXP6D9mF2vN4OHaPwxDccnGwRJAoXk1P0WZ2T86IS3khkwhQKVWQtY7tP8/dIj5pL7mF0CSYvZ+5JX2P/rBYTfDJ/A/t2jZdzQ3EUCEVm/Pa3T3P4JnvBHIFBhA/zPEYpxaEUCy0mKu+3MEQJ2K3DwvFhdAukSWwPLDyD820DJTh6WtPzodASgVGf8/sxIIMji42z8I+iTqcVmbP3gmuB/qJxVApkREg32UEUDsncem48kJQJiHpV18IPk/AJKB7i6X9D9363Rvk74BQHDQKSozF/E/5CeNqQW2zj+bKWJAX6oAQGjr/+AUeA1A/Avq7QLA+D+nqJXHhGPpPzuwCLH57fg/fL19n0BjHECDgtMaFJ7yP6CNBFbimOg/iC2PcZQzBkA+FsKcqy7ZP54w+ryshgdAQuGHfq6fAUA+C9Wy5JndP6a1iuLRDfA/TmgdBxiSEEB5aghgxnUNQJnuFrJH3Mg/pJ56Cjg26z9CpkB0I6LUP2Jgec13cPU/5yBdveNN+z9GAvhpEL32P/qlmUj04AtAo+i3SiZXAEBcbuT4P8wIQOEGlQFLNvs/1tn8rnVf/T8GGPbyhoIRQPVyk5FKuRRAmOnTTZG0CUDjrI06nszwP6kS9eauGRBAiqnezkE08j9gZxtvD9gIQIC30jZiAvY/cRxJvkL7xj8zScnAdLPWP+ISipVr5e0/bx9VYing9j9yQQ4kiMDzP28+FRmnn/k/5CDr+87cI0DZWE1THq4BQClAR5lAwtk/2tcFXvWkEUAORcN1EqLtP8cW/dKCifQ/l4O1knZP9j93U78TUhvxP7oML1hB9AhADy87227hxj/QqlykJ98CQLDnsTnPhN4/Zxqq4F5ACECjGKDP51L0PyVO0mlBefA//MklIy8vmD81mCIDA+wHQF63bM1Zfvw/EjMDaB6v2z+ki3gF3JXqPxYeflMSjP0/e6V1xANP/D+UD7U1TNcnQBDRDxai6BJAJppZ7bYN5T8KcUpBAiYiQJD2oKSuky9Ah7KWTVHTJ0B83qrjQiTNP7gD/0ryPeQ/bCuX6U+eHECc417JaFUjQDy5few3sAFAWHXz59vt4D+8XmAKh/sDQNKm0IMstKI/Er2lQTyh8j9OVtSbsFIPQJSoxQxe3/o/2qzPjcxY+D81xAoTFT0eQLfYKINl/i1AlSDuVyylwT+sWJl80zT1P8qgh/1B7QNA5Dnyf3Zl6j+mpaMGLDAYQKr2G9kR3u8/MA/SL3oQEUDuw0joRZAhQF5lzA3rGfo/b57ZJYIwEkDXmf0WuMXjP335HvO8LBdAqui1H1T4AEC2rZklAfwTQGpKWFuTrhVAiO4F0+CxEUAJ0IkkdJDfP7x9QfjSCRlABkGrZaNE2j/2Wivj7mcRQJbpvqQQ3fk/pPKjF1ywJUCAjepDmiTpP1uuosupH3I/uOhV129d+j+0eDjmSe0NQMGLbMFQJClAoQx7hHL69z+QeVFXDJThPwf+pPE7NBJAXAFKeFKlwD/I2PzRlOLwP/q9d6V3dR5A3oDtTzPa5D9OD/tEt1X0P/sdn3eaCydA",
          "dtype": "f8"
         },
         "y0": " ",
         "yaxis": "y"
        },
        {
         "alignmentgroup": "True",
         "box": {
          "visible": true
         },
         "hovertemplate": "PassengerType=%{x}<br>TripDuration=%{y}<extra></extra>",
         "legendgroup": "Family",
         "marker": {
          "color": "#00cc96"
         },
         "name": "Family",
         "offsetgroup": "Family",
         "orientation": "v",
         "points": "all",
         "scalegroup": "True",
         "showlegend": true,
         "type": "violin",
         "x": [
          "Family",
          "Family",
          "Family",
          "Family",
          "Family",
          "Family",
          "Family",
          "Family",
          "Family",
          "Family",
          "Family",
          "Family",
          "Family",
          "Family",
          "Family",
          "Family",
          "Family",
          "Family",
          "Family",
          "Family",
          "Family",
          "Family",
          "Family",
          "Family",
          "Family",
          "Family",
          "Family",
          "Family",
          "Family",
          "Family",
          "Family",
          "Family",
          "Family",
          "Family",
          "Family",
          "Family",
          "Family",
          "Family",
          "Family",
          "Family",
          "Family",
          "Family",
          "Family",
          "Family",
          "Family",
          "Family",
          "Family",
          "Family",
          "Family",
          "Family",
          "Family",
          "Family",
          "Family",
          "Family",
          "Family",
          "Family",
          "Family",
          "Family",
          "Family",
          "Family",
          "Family",
          "Family",
          "Family",
          "Family",
          "Family",
          "Family",
          "Family",
          "Family",
          "Family",
          "Family",
          "Family",
          "Family",
          "Family",
          "Family",
          "Family",
          "Family",
          "Family",
          "Family",
          "Family",
          "Family",
          "Family",
          "Family",
          "Family",
          "Family",
          "Family",
          "Family",
          "Family",
          "Family",
          "Family",
          "Family",
          "Family",
          "Family",
          "Family",
          "Family",
          "Family",
          "Family",
          "Family",
          "Family",
          "Family",
          "Family",
          "Family",
          "Family",
          "Family",
          "Family",
          "Family",
          "Family",
          "Family",
          "Family",
          "Family",
          "Family",
          "Family",
          "Family",
          "Family",
          "Family",
          "Family",
          "Family",
          "Family",
          "Family",
          "Family",
          "Family",
          "Family",
          "Family",
          "Family",
          "Family",
          "Family",
          "Family",
          "Family",
          "Family",
          "Family",
          "Family",
          "Family",
          "Family",
          "Family",
          "Family",
          "Family",
          "Family",
          "Family",
          "Family",
          "Family",
          "Family",
          "Family",
          "Family",
          "Family",
          "Family",
          "Family",
          "Family",
          "Family",
          "Family",
          "Family",
          "Family",
          "Family",
          "Family",
          "Family",
          "Family",
          "Family",
          "Family",
          "Family",
          "Family",
          "Family",
          "Family",
          "Family",
          "Family",
          "Family",
          "Family",
          "Family",
          "Family",
          "Family",
          "Family"
         ],
         "x0": " ",
         "xaxis": "x",
         "y": {
          "bdata": "WkwiLqbSHEBEObwhiPgSQD/AHWbbJxlA24DtOI7u3j86wcHk/1IFQO+X4Hk/qgRAon7OAlch+T9wsAbf8BYVQOQ/L4ZxvyJAmOnKYUA31j/EdD3ySNQaQJL/0QR0yxlANB8kFbmM/D+xdJ86PyQBQPlNOQLE7gtABNIt2snIDkDXaHZBJU4MQEBsPL8dlRNAvlz5zQVf7z9Nk3lvDbfmP0oChEMy8SJAkC1gTfQbC0DbFnjvusDwPzg4DNysJaY/NYMjWkaPFUB2UzwCinEWQB6Ap5xA0NE/7ls+b+QJzz8xTsJXbxf5P/Z1ueUFl9Y/vAa/NV3RE0B+QD6ZA7QhQF5fc1wn08w/8hssSjefIkC4vhzaucnDP8wzKckzEc0/QEwKM23M8D9mdAd1oKvvPwOETvCJD/8/GSF4g4ssJ0APHIDtE0L1P86THrXpCwlAJLTA1oZXGkDnX21UUigFQIQzG5Xgmcw/+93IlxqX6j80gu030QkOQNx5mhCbjRNAkhPR50VMA0CGfwZffVfyP0yil/7+LAFAu2ISsOoG7z+tqTg+uYOHP4FX/oA0MhZAjrkhzmUL8j9UVMKnu6oSQDyMRl5g9SNAXAtUzTL10T8sgQ034gkIQG2wYChg9g1AzBwimY1g1T9vA+57+dkiQNPmFaagpwBAiw7+ImF+5j9vHSIeTRT2PxZvsMJUpsQ/rkuLJznf5j+xa/2eWVTnP3DkoyrXLgtAYuBbi+51BkAkTCeo9U4JQNzEAG21Ifg/Rumu99H5DUAShPwwxUPwP+6n251W+q0/FrTCUd5/2T8MKEbxPPH9PxRRQNwhkQFA1tBS3R3AE0CuuhASKTOrP702hNsFpXA//1O3zT1c+D81umm1HFLxPyzZst74F8o/bccsDgvf6D/6u8MiLMT/P84xdaII0v4/KAQ8XpX9IkAn4qQ+xighQAdl7sVhfCxAyTTRgYjZ9T8ul2xj/f8TQAxUj6HN5Ow/yp2/EvvvHUA+KktRsYAaQPeRfKtphQ1A0OptaGyY3j+58oCDaRoCQDCISSFmUQtACLICkbdzzj95tjOGefsCQE2il78sOPs/evwImLVl4T9ql2YvyYfmP7dh2md2EhdAu7P/zpOY6j+YrujNG9oNQKqW0yYRk/s/Kv1555KbBUC+FUon114HQNgHPXE1QyFAvl4TvWka/z/5snVNl2gOQMJTe4uIjwhAiRWb2AUM4T/LRr0/EjP1P7G1mXGaRh9AhCs61ZMlCEA7Yv0tD0DTP1DnE/xQvLY/ZwlfSVkQCkDgGjKwBy0RQOZyAVMqT/Y/qkeRFojr9z/aB8IxMxMeQFJEYUo9FiJAmJsPffmnBEAxQ7QDqpYSQDskw7GgpwlAXuxUHCcMHkB4KCzD6H6+P4q4tUpFLLw/ViXzm50HIkA8gVWGs+kEQMyR+y+9ivs/rlRXIDnTBEDGD8j/Y3MBQLCPFryp3u8/dJOMRIqEAEDDCinQT0bmPyx0eguAWMw/pHQ1CCV1yz9K9Dz4T0f5P3th6IFRYfM/fvOmpuBjDEBnAi07S4QJQJTAsEDplgJA9qnjDOCU+j8fHcLJv2jxP0FOFa85ZPE/72hsvLJAEEDwUoZY36MWQGbaPeeP9glAokhrduJfzz+t+G8lWt8CQK4LXbcgpw1AcrtLzUI/IkCKLrcg9BMOQE/LOhVHxNQ/yowQ01dPAUCFmwcm7RABQIFYlsIuNiBAzWIVPFKsDEBCbIUsz7r9P9lIZyqCdwxAXMxLq2ZVD0BCnanMxL4TQBju/wfXTBdA",
          "dtype": "f8"
         },
         "y0": " ",
         "yaxis": "y"
        }
       ],
       "layout": {
        "legend": {
         "title": {
          "text": "PassengerType"
         },
         "tracegroupgap": 0
        },
        "template": {
         "data": {
          "bar": [
           {
            "error_x": {
             "color": "#2a3f5f"
            },
            "error_y": {
             "color": "#2a3f5f"
            },
            "marker": {
             "line": {
              "color": "#E5ECF6",
              "width": 0.5
             },
             "pattern": {
              "fillmode": "overlay",
              "size": 10,
              "solidity": 0.2
             }
            },
            "type": "bar"
           }
          ],
          "barpolar": [
           {
            "marker": {
             "line": {
              "color": "#E5ECF6",
              "width": 0.5
             },
             "pattern": {
              "fillmode": "overlay",
              "size": 10,
              "solidity": 0.2
             }
            },
            "type": "barpolar"
           }
          ],
          "carpet": [
           {
            "aaxis": {
             "endlinecolor": "#2a3f5f",
             "gridcolor": "white",
             "linecolor": "white",
             "minorgridcolor": "white",
             "startlinecolor": "#2a3f5f"
            },
            "baxis": {
             "endlinecolor": "#2a3f5f",
             "gridcolor": "white",
             "linecolor": "white",
             "minorgridcolor": "white",
             "startlinecolor": "#2a3f5f"
            },
            "type": "carpet"
           }
          ],
          "choropleth": [
           {
            "colorbar": {
             "outlinewidth": 0,
             "ticks": ""
            },
            "type": "choropleth"
           }
          ],
          "contour": [
           {
            "colorbar": {
             "outlinewidth": 0,
             "ticks": ""
            },
            "colorscale": [
             [
              0,
              "#0d0887"
             ],
             [
              0.1111111111111111,
              "#46039f"
             ],
             [
              0.2222222222222222,
              "#7201a8"
             ],
             [
              0.3333333333333333,
              "#9c179e"
             ],
             [
              0.4444444444444444,
              "#bd3786"
             ],
             [
              0.5555555555555556,
              "#d8576b"
             ],
             [
              0.6666666666666666,
              "#ed7953"
             ],
             [
              0.7777777777777778,
              "#fb9f3a"
             ],
             [
              0.8888888888888888,
              "#fdca26"
             ],
             [
              1,
              "#f0f921"
             ]
            ],
            "type": "contour"
           }
          ],
          "contourcarpet": [
           {
            "colorbar": {
             "outlinewidth": 0,
             "ticks": ""
            },
            "type": "contourcarpet"
           }
          ],
          "heatmap": [
           {
            "colorbar": {
             "outlinewidth": 0,
             "ticks": ""
            },
            "colorscale": [
             [
              0,
              "#0d0887"
             ],
             [
              0.1111111111111111,
              "#46039f"
             ],
             [
              0.2222222222222222,
              "#7201a8"
             ],
             [
              0.3333333333333333,
              "#9c179e"
             ],
             [
              0.4444444444444444,
              "#bd3786"
             ],
             [
              0.5555555555555556,
              "#d8576b"
             ],
             [
              0.6666666666666666,
              "#ed7953"
             ],
             [
              0.7777777777777778,
              "#fb9f3a"
             ],
             [
              0.8888888888888888,
              "#fdca26"
             ],
             [
              1,
              "#f0f921"
             ]
            ],
            "type": "heatmap"
           }
          ],
          "histogram": [
           {
            "marker": {
             "pattern": {
              "fillmode": "overlay",
              "size": 10,
              "solidity": 0.2
             }
            },
            "type": "histogram"
           }
          ],
          "histogram2d": [
           {
            "colorbar": {
             "outlinewidth": 0,
             "ticks": ""
            },
            "colorscale": [
             [
              0,
              "#0d0887"
             ],
             [
              0.1111111111111111,
              "#46039f"
             ],
             [
              0.2222222222222222,
              "#7201a8"
             ],
             [
              0.3333333333333333,
              "#9c179e"
             ],
             [
              0.4444444444444444,
              "#bd3786"
             ],
             [
              0.5555555555555556,
              "#d8576b"
             ],
             [
              0.6666666666666666,
              "#ed7953"
             ],
             [
              0.7777777777777778,
              "#fb9f3a"
             ],
             [
              0.8888888888888888,
              "#fdca26"
             ],
             [
              1,
              "#f0f921"
             ]
            ],
            "type": "histogram2d"
           }
          ],
          "histogram2dcontour": [
           {
            "colorbar": {
             "outlinewidth": 0,
             "ticks": ""
            },
            "colorscale": [
             [
              0,
              "#0d0887"
             ],
             [
              0.1111111111111111,
              "#46039f"
             ],
             [
              0.2222222222222222,
              "#7201a8"
             ],
             [
              0.3333333333333333,
              "#9c179e"
             ],
             [
              0.4444444444444444,
              "#bd3786"
             ],
             [
              0.5555555555555556,
              "#d8576b"
             ],
             [
              0.6666666666666666,
              "#ed7953"
             ],
             [
              0.7777777777777778,
              "#fb9f3a"
             ],
             [
              0.8888888888888888,
              "#fdca26"
             ],
             [
              1,
              "#f0f921"
             ]
            ],
            "type": "histogram2dcontour"
           }
          ],
          "mesh3d": [
           {
            "colorbar": {
             "outlinewidth": 0,
             "ticks": ""
            },
            "type": "mesh3d"
           }
          ],
          "parcoords": [
           {
            "line": {
             "colorbar": {
              "outlinewidth": 0,
              "ticks": ""
             }
            },
            "type": "parcoords"
           }
          ],
          "pie": [
           {
            "automargin": true,
            "type": "pie"
           }
          ],
          "scatter": [
           {
            "fillpattern": {
             "fillmode": "overlay",
             "size": 10,
             "solidity": 0.2
            },
            "type": "scatter"
           }
          ],
          "scatter3d": [
           {
            "line": {
             "colorbar": {
              "outlinewidth": 0,
              "ticks": ""
             }
            },
            "marker": {
             "colorbar": {
              "outlinewidth": 0,
              "ticks": ""
             }
            },
            "type": "scatter3d"
           }
          ],
          "scattercarpet": [
           {
            "marker": {
             "colorbar": {
              "outlinewidth": 0,
              "ticks": ""
             }
            },
            "type": "scattercarpet"
           }
          ],
          "scattergeo": [
           {
            "marker": {
             "colorbar": {
              "outlinewidth": 0,
              "ticks": ""
             }
            },
            "type": "scattergeo"
           }
          ],
          "scattergl": [
           {
            "marker": {
             "colorbar": {
              "outlinewidth": 0,
              "ticks": ""
             }
            },
            "type": "scattergl"
           }
          ],
          "scattermap": [
           {
            "marker": {
             "colorbar": {
              "outlinewidth": 0,
              "ticks": ""
             }
            },
            "type": "scattermap"
           }
          ],
          "scattermapbox": [
           {
            "marker": {
             "colorbar": {
              "outlinewidth": 0,
              "ticks": ""
             }
            },
            "type": "scattermapbox"
           }
          ],
          "scatterpolar": [
           {
            "marker": {
             "colorbar": {
              "outlinewidth": 0,
              "ticks": ""
             }
            },
            "type": "scatterpolar"
           }
          ],
          "scatterpolargl": [
           {
            "marker": {
             "colorbar": {
              "outlinewidth": 0,
              "ticks": ""
             }
            },
            "type": "scatterpolargl"
           }
          ],
          "scatterternary": [
           {
            "marker": {
             "colorbar": {
              "outlinewidth": 0,
              "ticks": ""
             }
            },
            "type": "scatterternary"
           }
          ],
          "surface": [
           {
            "colorbar": {
             "outlinewidth": 0,
             "ticks": ""
            },
            "colorscale": [
             [
              0,
              "#0d0887"
             ],
             [
              0.1111111111111111,
              "#46039f"
             ],
             [
              0.2222222222222222,
              "#7201a8"
             ],
             [
              0.3333333333333333,
              "#9c179e"
             ],
             [
              0.4444444444444444,
              "#bd3786"
             ],
             [
              0.5555555555555556,
              "#d8576b"
             ],
             [
              0.6666666666666666,
              "#ed7953"
             ],
             [
              0.7777777777777778,
              "#fb9f3a"
             ],
             [
              0.8888888888888888,
              "#fdca26"
             ],
             [
              1,
              "#f0f921"
             ]
            ],
            "type": "surface"
           }
          ],
          "table": [
           {
            "cells": {
             "fill": {
              "color": "#EBF0F8"
             },
             "line": {
              "color": "white"
             }
            },
            "header": {
             "fill": {
              "color": "#C8D4E3"
             },
             "line": {
              "color": "white"
             }
            },
            "type": "table"
           }
          ]
         },
         "layout": {
          "annotationdefaults": {
           "arrowcolor": "#2a3f5f",
           "arrowhead": 0,
           "arrowwidth": 1
          },
          "autotypenumbers": "strict",
          "coloraxis": {
           "colorbar": {
            "outlinewidth": 0,
            "ticks": ""
           }
          },
          "colorscale": {
           "diverging": [
            [
             0,
             "#8e0152"
            ],
            [
             0.1,
             "#c51b7d"
            ],
            [
             0.2,
             "#de77ae"
            ],
            [
             0.3,
             "#f1b6da"
            ],
            [
             0.4,
             "#fde0ef"
            ],
            [
             0.5,
             "#f7f7f7"
            ],
            [
             0.6,
             "#e6f5d0"
            ],
            [
             0.7,
             "#b8e186"
            ],
            [
             0.8,
             "#7fbc41"
            ],
            [
             0.9,
             "#4d9221"
            ],
            [
             1,
             "#276419"
            ]
           ],
           "sequential": [
            [
             0,
             "#0d0887"
            ],
            [
             0.1111111111111111,
             "#46039f"
            ],
            [
             0.2222222222222222,
             "#7201a8"
            ],
            [
             0.3333333333333333,
             "#9c179e"
            ],
            [
             0.4444444444444444,
             "#bd3786"
            ],
            [
             0.5555555555555556,
             "#d8576b"
            ],
            [
             0.6666666666666666,
             "#ed7953"
            ],
            [
             0.7777777777777778,
             "#fb9f3a"
            ],
            [
             0.8888888888888888,
             "#fdca26"
            ],
            [
             1,
             "#f0f921"
            ]
           ],
           "sequentialminus": [
            [
             0,
             "#0d0887"
            ],
            [
             0.1111111111111111,
             "#46039f"
            ],
            [
             0.2222222222222222,
             "#7201a8"
            ],
            [
             0.3333333333333333,
             "#9c179e"
            ],
            [
             0.4444444444444444,
             "#bd3786"
            ],
            [
             0.5555555555555556,
             "#d8576b"
            ],
            [
             0.6666666666666666,
             "#ed7953"
            ],
            [
             0.7777777777777778,
             "#fb9f3a"
            ],
            [
             0.8888888888888888,
             "#fdca26"
            ],
            [
             1,
             "#f0f921"
            ]
           ]
          },
          "colorway": [
           "#636efa",
           "#EF553B",
           "#00cc96",
           "#ab63fa",
           "#FFA15A",
           "#19d3f3",
           "#FF6692",
           "#B6E880",
           "#FF97FF",
           "#FECB52"
          ],
          "font": {
           "color": "#2a3f5f"
          },
          "geo": {
           "bgcolor": "white",
           "lakecolor": "white",
           "landcolor": "#E5ECF6",
           "showlakes": true,
           "showland": true,
           "subunitcolor": "white"
          },
          "hoverlabel": {
           "align": "left"
          },
          "hovermode": "closest",
          "mapbox": {
           "style": "light"
          },
          "paper_bgcolor": "white",
          "plot_bgcolor": "#E5ECF6",
          "polar": {
           "angularaxis": {
            "gridcolor": "white",
            "linecolor": "white",
            "ticks": ""
           },
           "bgcolor": "#E5ECF6",
           "radialaxis": {
            "gridcolor": "white",
            "linecolor": "white",
            "ticks": ""
           }
          },
          "scene": {
           "xaxis": {
            "backgroundcolor": "#E5ECF6",
            "gridcolor": "white",
            "gridwidth": 2,
            "linecolor": "white",
            "showbackground": true,
            "ticks": "",
            "zerolinecolor": "white"
           },
           "yaxis": {
            "backgroundcolor": "#E5ECF6",
            "gridcolor": "white",
            "gridwidth": 2,
            "linecolor": "white",
            "showbackground": true,
            "ticks": "",
            "zerolinecolor": "white"
           },
           "zaxis": {
            "backgroundcolor": "#E5ECF6",
            "gridcolor": "white",
            "gridwidth": 2,
            "linecolor": "white",
            "showbackground": true,
            "ticks": "",
            "zerolinecolor": "white"
           }
          },
          "shapedefaults": {
           "line": {
            "color": "#2a3f5f"
           }
          },
          "ternary": {
           "aaxis": {
            "gridcolor": "white",
            "linecolor": "white",
            "ticks": ""
           },
           "baxis": {
            "gridcolor": "white",
            "linecolor": "white",
            "ticks": ""
           },
           "bgcolor": "#E5ECF6",
           "caxis": {
            "gridcolor": "white",
            "linecolor": "white",
            "ticks": ""
           }
          },
          "title": {
           "x": 0.05
          },
          "xaxis": {
           "automargin": true,
           "gridcolor": "white",
           "linecolor": "white",
           "ticks": "",
           "title": {
            "standoff": 15
           },
           "zerolinecolor": "white",
           "zerolinewidth": 2
          },
          "yaxis": {
           "automargin": true,
           "gridcolor": "white",
           "linecolor": "white",
           "ticks": "",
           "title": {
            "standoff": 15
           },
           "zerolinecolor": "white",
           "zerolinewidth": 2
          }
         }
        },
        "title": {
         "text": "TripDuration Density by PassengerType"
        },
        "violinmode": "overlay",
        "xaxis": {
         "anchor": "y",
         "categoryarray": [
          "Business",
          "Personal",
          "Family"
         ],
         "categoryorder": "array",
         "domain": [
          0,
          1
         ],
         "title": {
          "text": "PassengerType"
         }
        },
        "yaxis": {
         "anchor": "x",
         "domain": [
          0,
          1
         ],
         "title": {
          "text": "TripDuration"
         }
        }
       }
      }
     },
     "metadata": {},
     "output_type": "display_data"
    },
    {
     "name": "stdout",
     "output_type": "stream",
     "text": [
      "🔹 Bar Plot: Mean Coupon Acceptance by Type\n"
     ]
    },
    {
     "data": {
      "application/vnd.plotly.v1+json": {
       "config": {
        "plotlyServerURL": "https://plot.ly"
       },
       "data": [
        {
         "hovertemplate": "CouponType=%{x}<br>AcceptedCoupon=%{y}<extra></extra>",
         "legendgroup": "",
         "marker": {
          "color": "#636efa",
          "pattern": {
           "shape": ""
          }
         },
         "name": "",
         "orientation": "v",
         "showlegend": false,
         "textposition": "auto",
         "type": "bar",
         "x": [
          "Grocery",
          "Restaurant",
          "Retail"
         ],
         "xaxis": "x",
         "y": {
          "bdata": "AqHkTtHC2T/btm3btm3bP+SyYqCEN9o/",
          "dtype": "f8"
         },
         "yaxis": "y"
        }
       ],
       "layout": {
        "barmode": "relative",
        "legend": {
         "tracegroupgap": 0
        },
        "template": {
         "data": {
          "bar": [
           {
            "error_x": {
             "color": "#2a3f5f"
            },
            "error_y": {
             "color": "#2a3f5f"
            },
            "marker": {
             "line": {
              "color": "#E5ECF6",
              "width": 0.5
             },
             "pattern": {
              "fillmode": "overlay",
              "size": 10,
              "solidity": 0.2
             }
            },
            "type": "bar"
           }
          ],
          "barpolar": [
           {
            "marker": {
             "line": {
              "color": "#E5ECF6",
              "width": 0.5
             },
             "pattern": {
              "fillmode": "overlay",
              "size": 10,
              "solidity": 0.2
             }
            },
            "type": "barpolar"
           }
          ],
          "carpet": [
           {
            "aaxis": {
             "endlinecolor": "#2a3f5f",
             "gridcolor": "white",
             "linecolor": "white",
             "minorgridcolor": "white",
             "startlinecolor": "#2a3f5f"
            },
            "baxis": {
             "endlinecolor": "#2a3f5f",
             "gridcolor": "white",
             "linecolor": "white",
             "minorgridcolor": "white",
             "startlinecolor": "#2a3f5f"
            },
            "type": "carpet"
           }
          ],
          "choropleth": [
           {
            "colorbar": {
             "outlinewidth": 0,
             "ticks": ""
            },
            "type": "choropleth"
           }
          ],
          "contour": [
           {
            "colorbar": {
             "outlinewidth": 0,
             "ticks": ""
            },
            "colorscale": [
             [
              0,
              "#0d0887"
             ],
             [
              0.1111111111111111,
              "#46039f"
             ],
             [
              0.2222222222222222,
              "#7201a8"
             ],
             [
              0.3333333333333333,
              "#9c179e"
             ],
             [
              0.4444444444444444,
              "#bd3786"
             ],
             [
              0.5555555555555556,
              "#d8576b"
             ],
             [
              0.6666666666666666,
              "#ed7953"
             ],
             [
              0.7777777777777778,
              "#fb9f3a"
             ],
             [
              0.8888888888888888,
              "#fdca26"
             ],
             [
              1,
              "#f0f921"
             ]
            ],
            "type": "contour"
           }
          ],
          "contourcarpet": [
           {
            "colorbar": {
             "outlinewidth": 0,
             "ticks": ""
            },
            "type": "contourcarpet"
           }
          ],
          "heatmap": [
           {
            "colorbar": {
             "outlinewidth": 0,
             "ticks": ""
            },
            "colorscale": [
             [
              0,
              "#0d0887"
             ],
             [
              0.1111111111111111,
              "#46039f"
             ],
             [
              0.2222222222222222,
              "#7201a8"
             ],
             [
              0.3333333333333333,
              "#9c179e"
             ],
             [
              0.4444444444444444,
              "#bd3786"
             ],
             [
              0.5555555555555556,
              "#d8576b"
             ],
             [
              0.6666666666666666,
              "#ed7953"
             ],
             [
              0.7777777777777778,
              "#fb9f3a"
             ],
             [
              0.8888888888888888,
              "#fdca26"
             ],
             [
              1,
              "#f0f921"
             ]
            ],
            "type": "heatmap"
           }
          ],
          "histogram": [
           {
            "marker": {
             "pattern": {
              "fillmode": "overlay",
              "size": 10,
              "solidity": 0.2
             }
            },
            "type": "histogram"
           }
          ],
          "histogram2d": [
           {
            "colorbar": {
             "outlinewidth": 0,
             "ticks": ""
            },
            "colorscale": [
             [
              0,
              "#0d0887"
             ],
             [
              0.1111111111111111,
              "#46039f"
             ],
             [
              0.2222222222222222,
              "#7201a8"
             ],
             [
              0.3333333333333333,
              "#9c179e"
             ],
             [
              0.4444444444444444,
              "#bd3786"
             ],
             [
              0.5555555555555556,
              "#d8576b"
             ],
             [
              0.6666666666666666,
              "#ed7953"
             ],
             [
              0.7777777777777778,
              "#fb9f3a"
             ],
             [
              0.8888888888888888,
              "#fdca26"
             ],
             [
              1,
              "#f0f921"
             ]
            ],
            "type": "histogram2d"
           }
          ],
          "histogram2dcontour": [
           {
            "colorbar": {
             "outlinewidth": 0,
             "ticks": ""
            },
            "colorscale": [
             [
              0,
              "#0d0887"
             ],
             [
              0.1111111111111111,
              "#46039f"
             ],
             [
              0.2222222222222222,
              "#7201a8"
             ],
             [
              0.3333333333333333,
              "#9c179e"
             ],
             [
              0.4444444444444444,
              "#bd3786"
             ],
             [
              0.5555555555555556,
              "#d8576b"
             ],
             [
              0.6666666666666666,
              "#ed7953"
             ],
             [
              0.7777777777777778,
              "#fb9f3a"
             ],
             [
              0.8888888888888888,
              "#fdca26"
             ],
             [
              1,
              "#f0f921"
             ]
            ],
            "type": "histogram2dcontour"
           }
          ],
          "mesh3d": [
           {
            "colorbar": {
             "outlinewidth": 0,
             "ticks": ""
            },
            "type": "mesh3d"
           }
          ],
          "parcoords": [
           {
            "line": {
             "colorbar": {
              "outlinewidth": 0,
              "ticks": ""
             }
            },
            "type": "parcoords"
           }
          ],
          "pie": [
           {
            "automargin": true,
            "type": "pie"
           }
          ],
          "scatter": [
           {
            "fillpattern": {
             "fillmode": "overlay",
             "size": 10,
             "solidity": 0.2
            },
            "type": "scatter"
           }
          ],
          "scatter3d": [
           {
            "line": {
             "colorbar": {
              "outlinewidth": 0,
              "ticks": ""
             }
            },
            "marker": {
             "colorbar": {
              "outlinewidth": 0,
              "ticks": ""
             }
            },
            "type": "scatter3d"
           }
          ],
          "scattercarpet": [
           {
            "marker": {
             "colorbar": {
              "outlinewidth": 0,
              "ticks": ""
             }
            },
            "type": "scattercarpet"
           }
          ],
          "scattergeo": [
           {
            "marker": {
             "colorbar": {
              "outlinewidth": 0,
              "ticks": ""
             }
            },
            "type": "scattergeo"
           }
          ],
          "scattergl": [
           {
            "marker": {
             "colorbar": {
              "outlinewidth": 0,
              "ticks": ""
             }
            },
            "type": "scattergl"
           }
          ],
          "scattermap": [
           {
            "marker": {
             "colorbar": {
              "outlinewidth": 0,
              "ticks": ""
             }
            },
            "type": "scattermap"
           }
          ],
          "scattermapbox": [
           {
            "marker": {
             "colorbar": {
              "outlinewidth": 0,
              "ticks": ""
             }
            },
            "type": "scattermapbox"
           }
          ],
          "scatterpolar": [
           {
            "marker": {
             "colorbar": {
              "outlinewidth": 0,
              "ticks": ""
             }
            },
            "type": "scatterpolar"
           }
          ],
          "scatterpolargl": [
           {
            "marker": {
             "colorbar": {
              "outlinewidth": 0,
              "ticks": ""
             }
            },
            "type": "scatterpolargl"
           }
          ],
          "scatterternary": [
           {
            "marker": {
             "colorbar": {
              "outlinewidth": 0,
              "ticks": ""
             }
            },
            "type": "scatterternary"
           }
          ],
          "surface": [
           {
            "colorbar": {
             "outlinewidth": 0,
             "ticks": ""
            },
            "colorscale": [
             [
              0,
              "#0d0887"
             ],
             [
              0.1111111111111111,
              "#46039f"
             ],
             [
              0.2222222222222222,
              "#7201a8"
             ],
             [
              0.3333333333333333,
              "#9c179e"
             ],
             [
              0.4444444444444444,
              "#bd3786"
             ],
             [
              0.5555555555555556,
              "#d8576b"
             ],
             [
              0.6666666666666666,
              "#ed7953"
             ],
             [
              0.7777777777777778,
              "#fb9f3a"
             ],
             [
              0.8888888888888888,
              "#fdca26"
             ],
             [
              1,
              "#f0f921"
             ]
            ],
            "type": "surface"
           }
          ],
          "table": [
           {
            "cells": {
             "fill": {
              "color": "#EBF0F8"
             },
             "line": {
              "color": "white"
             }
            },
            "header": {
             "fill": {
              "color": "#C8D4E3"
             },
             "line": {
              "color": "white"
             }
            },
            "type": "table"
           }
          ]
         },
         "layout": {
          "annotationdefaults": {
           "arrowcolor": "#2a3f5f",
           "arrowhead": 0,
           "arrowwidth": 1
          },
          "autotypenumbers": "strict",
          "coloraxis": {
           "colorbar": {
            "outlinewidth": 0,
            "ticks": ""
           }
          },
          "colorscale": {
           "diverging": [
            [
             0,
             "#8e0152"
            ],
            [
             0.1,
             "#c51b7d"
            ],
            [
             0.2,
             "#de77ae"
            ],
            [
             0.3,
             "#f1b6da"
            ],
            [
             0.4,
             "#fde0ef"
            ],
            [
             0.5,
             "#f7f7f7"
            ],
            [
             0.6,
             "#e6f5d0"
            ],
            [
             0.7,
             "#b8e186"
            ],
            [
             0.8,
             "#7fbc41"
            ],
            [
             0.9,
             "#4d9221"
            ],
            [
             1,
             "#276419"
            ]
           ],
           "sequential": [
            [
             0,
             "#0d0887"
            ],
            [
             0.1111111111111111,
             "#46039f"
            ],
            [
             0.2222222222222222,
             "#7201a8"
            ],
            [
             0.3333333333333333,
             "#9c179e"
            ],
            [
             0.4444444444444444,
             "#bd3786"
            ],
            [
             0.5555555555555556,
             "#d8576b"
            ],
            [
             0.6666666666666666,
             "#ed7953"
            ],
            [
             0.7777777777777778,
             "#fb9f3a"
            ],
            [
             0.8888888888888888,
             "#fdca26"
            ],
            [
             1,
             "#f0f921"
            ]
           ],
           "sequentialminus": [
            [
             0,
             "#0d0887"
            ],
            [
             0.1111111111111111,
             "#46039f"
            ],
            [
             0.2222222222222222,
             "#7201a8"
            ],
            [
             0.3333333333333333,
             "#9c179e"
            ],
            [
             0.4444444444444444,
             "#bd3786"
            ],
            [
             0.5555555555555556,
             "#d8576b"
            ],
            [
             0.6666666666666666,
             "#ed7953"
            ],
            [
             0.7777777777777778,
             "#fb9f3a"
            ],
            [
             0.8888888888888888,
             "#fdca26"
            ],
            [
             1,
             "#f0f921"
            ]
           ]
          },
          "colorway": [
           "#636efa",
           "#EF553B",
           "#00cc96",
           "#ab63fa",
           "#FFA15A",
           "#19d3f3",
           "#FF6692",
           "#B6E880",
           "#FF97FF",
           "#FECB52"
          ],
          "font": {
           "color": "#2a3f5f"
          },
          "geo": {
           "bgcolor": "white",
           "lakecolor": "white",
           "landcolor": "#E5ECF6",
           "showlakes": true,
           "showland": true,
           "subunitcolor": "white"
          },
          "hoverlabel": {
           "align": "left"
          },
          "hovermode": "closest",
          "mapbox": {
           "style": "light"
          },
          "paper_bgcolor": "white",
          "plot_bgcolor": "#E5ECF6",
          "polar": {
           "angularaxis": {
            "gridcolor": "white",
            "linecolor": "white",
            "ticks": ""
           },
           "bgcolor": "#E5ECF6",
           "radialaxis": {
            "gridcolor": "white",
            "linecolor": "white",
            "ticks": ""
           }
          },
          "scene": {
           "xaxis": {
            "backgroundcolor": "#E5ECF6",
            "gridcolor": "white",
            "gridwidth": 2,
            "linecolor": "white",
            "showbackground": true,
            "ticks": "",
            "zerolinecolor": "white"
           },
           "yaxis": {
            "backgroundcolor": "#E5ECF6",
            "gridcolor": "white",
            "gridwidth": 2,
            "linecolor": "white",
            "showbackground": true,
            "ticks": "",
            "zerolinecolor": "white"
           },
           "zaxis": {
            "backgroundcolor": "#E5ECF6",
            "gridcolor": "white",
            "gridwidth": 2,
            "linecolor": "white",
            "showbackground": true,
            "ticks": "",
            "zerolinecolor": "white"
           }
          },
          "shapedefaults": {
           "line": {
            "color": "#2a3f5f"
           }
          },
          "ternary": {
           "aaxis": {
            "gridcolor": "white",
            "linecolor": "white",
            "ticks": ""
           },
           "baxis": {
            "gridcolor": "white",
            "linecolor": "white",
            "ticks": ""
           },
           "bgcolor": "#E5ECF6",
           "caxis": {
            "gridcolor": "white",
            "linecolor": "white",
            "ticks": ""
           }
          },
          "title": {
           "x": 0.05
          },
          "xaxis": {
           "automargin": true,
           "gridcolor": "white",
           "linecolor": "white",
           "ticks": "",
           "title": {
            "standoff": 15
           },
           "zerolinecolor": "white",
           "zerolinewidth": 2
          },
          "yaxis": {
           "automargin": true,
           "gridcolor": "white",
           "linecolor": "white",
           "ticks": "",
           "title": {
            "standoff": 15
           },
           "zerolinecolor": "white",
           "zerolinewidth": 2
          }
         }
        },
        "title": {
         "text": "Mean AcceptedCoupon by CouponType"
        },
        "xaxis": {
         "anchor": "y",
         "domain": [
          0,
          1
         ],
         "title": {
          "text": "CouponType"
         }
        },
        "yaxis": {
         "anchor": "x",
         "domain": [
          0,
          1
         ],
         "title": {
          "text": "AcceptedCoupon"
         }
        }
       }
      }
     },
     "metadata": {},
     "output_type": "display_data"
    },
    {
     "name": "stdout",
     "output_type": "stream",
     "text": [
      "🔹 Count Plot: Passenger Type Frequency\n"
     ]
    },
    {
     "data": {
      "application/vnd.plotly.v1+json": {
       "config": {
        "plotlyServerURL": "https://plot.ly"
       },
       "data": [
        {
         "hovertemplate": "PassengerType=%{x}<br>Count=%{y}<extra></extra>",
         "legendgroup": "",
         "marker": {
          "color": "#636efa",
          "pattern": {
           "shape": ""
          }
         },
         "name": "",
         "orientation": "v",
         "showlegend": false,
         "textposition": "auto",
         "type": "bar",
         "x": [
          "Business",
          "Family",
          "Personal"
         ],
         "xaxis": "x",
         "y": {
          "bdata": "tgCoAJYA",
          "dtype": "i2"
         },
         "yaxis": "y"
        }
       ],
       "layout": {
        "barmode": "relative",
        "legend": {
         "tracegroupgap": 0
        },
        "template": {
         "data": {
          "bar": [
           {
            "error_x": {
             "color": "#2a3f5f"
            },
            "error_y": {
             "color": "#2a3f5f"
            },
            "marker": {
             "line": {
              "color": "#E5ECF6",
              "width": 0.5
             },
             "pattern": {
              "fillmode": "overlay",
              "size": 10,
              "solidity": 0.2
             }
            },
            "type": "bar"
           }
          ],
          "barpolar": [
           {
            "marker": {
             "line": {
              "color": "#E5ECF6",
              "width": 0.5
             },
             "pattern": {
              "fillmode": "overlay",
              "size": 10,
              "solidity": 0.2
             }
            },
            "type": "barpolar"
           }
          ],
          "carpet": [
           {
            "aaxis": {
             "endlinecolor": "#2a3f5f",
             "gridcolor": "white",
             "linecolor": "white",
             "minorgridcolor": "white",
             "startlinecolor": "#2a3f5f"
            },
            "baxis": {
             "endlinecolor": "#2a3f5f",
             "gridcolor": "white",
             "linecolor": "white",
             "minorgridcolor": "white",
             "startlinecolor": "#2a3f5f"
            },
            "type": "carpet"
           }
          ],
          "choropleth": [
           {
            "colorbar": {
             "outlinewidth": 0,
             "ticks": ""
            },
            "type": "choropleth"
           }
          ],
          "contour": [
           {
            "colorbar": {
             "outlinewidth": 0,
             "ticks": ""
            },
            "colorscale": [
             [
              0,
              "#0d0887"
             ],
             [
              0.1111111111111111,
              "#46039f"
             ],
             [
              0.2222222222222222,
              "#7201a8"
             ],
             [
              0.3333333333333333,
              "#9c179e"
             ],
             [
              0.4444444444444444,
              "#bd3786"
             ],
             [
              0.5555555555555556,
              "#d8576b"
             ],
             [
              0.6666666666666666,
              "#ed7953"
             ],
             [
              0.7777777777777778,
              "#fb9f3a"
             ],
             [
              0.8888888888888888,
              "#fdca26"
             ],
             [
              1,
              "#f0f921"
             ]
            ],
            "type": "contour"
           }
          ],
          "contourcarpet": [
           {
            "colorbar": {
             "outlinewidth": 0,
             "ticks": ""
            },
            "type": "contourcarpet"
           }
          ],
          "heatmap": [
           {
            "colorbar": {
             "outlinewidth": 0,
             "ticks": ""
            },
            "colorscale": [
             [
              0,
              "#0d0887"
             ],
             [
              0.1111111111111111,
              "#46039f"
             ],
             [
              0.2222222222222222,
              "#7201a8"
             ],
             [
              0.3333333333333333,
              "#9c179e"
             ],
             [
              0.4444444444444444,
              "#bd3786"
             ],
             [
              0.5555555555555556,
              "#d8576b"
             ],
             [
              0.6666666666666666,
              "#ed7953"
             ],
             [
              0.7777777777777778,
              "#fb9f3a"
             ],
             [
              0.8888888888888888,
              "#fdca26"
             ],
             [
              1,
              "#f0f921"
             ]
            ],
            "type": "heatmap"
           }
          ],
          "histogram": [
           {
            "marker": {
             "pattern": {
              "fillmode": "overlay",
              "size": 10,
              "solidity": 0.2
             }
            },
            "type": "histogram"
           }
          ],
          "histogram2d": [
           {
            "colorbar": {
             "outlinewidth": 0,
             "ticks": ""
            },
            "colorscale": [
             [
              0,
              "#0d0887"
             ],
             [
              0.1111111111111111,
              "#46039f"
             ],
             [
              0.2222222222222222,
              "#7201a8"
             ],
             [
              0.3333333333333333,
              "#9c179e"
             ],
             [
              0.4444444444444444,
              "#bd3786"
             ],
             [
              0.5555555555555556,
              "#d8576b"
             ],
             [
              0.6666666666666666,
              "#ed7953"
             ],
             [
              0.7777777777777778,
              "#fb9f3a"
             ],
             [
              0.8888888888888888,
              "#fdca26"
             ],
             [
              1,
              "#f0f921"
             ]
            ],
            "type": "histogram2d"
           }
          ],
          "histogram2dcontour": [
           {
            "colorbar": {
             "outlinewidth": 0,
             "ticks": ""
            },
            "colorscale": [
             [
              0,
              "#0d0887"
             ],
             [
              0.1111111111111111,
              "#46039f"
             ],
             [
              0.2222222222222222,
              "#7201a8"
             ],
             [
              0.3333333333333333,
              "#9c179e"
             ],
             [
              0.4444444444444444,
              "#bd3786"
             ],
             [
              0.5555555555555556,
              "#d8576b"
             ],
             [
              0.6666666666666666,
              "#ed7953"
             ],
             [
              0.7777777777777778,
              "#fb9f3a"
             ],
             [
              0.8888888888888888,
              "#fdca26"
             ],
             [
              1,
              "#f0f921"
             ]
            ],
            "type": "histogram2dcontour"
           }
          ],
          "mesh3d": [
           {
            "colorbar": {
             "outlinewidth": 0,
             "ticks": ""
            },
            "type": "mesh3d"
           }
          ],
          "parcoords": [
           {
            "line": {
             "colorbar": {
              "outlinewidth": 0,
              "ticks": ""
             }
            },
            "type": "parcoords"
           }
          ],
          "pie": [
           {
            "automargin": true,
            "type": "pie"
           }
          ],
          "scatter": [
           {
            "fillpattern": {
             "fillmode": "overlay",
             "size": 10,
             "solidity": 0.2
            },
            "type": "scatter"
           }
          ],
          "scatter3d": [
           {
            "line": {
             "colorbar": {
              "outlinewidth": 0,
              "ticks": ""
             }
            },
            "marker": {
             "colorbar": {
              "outlinewidth": 0,
              "ticks": ""
             }
            },
            "type": "scatter3d"
           }
          ],
          "scattercarpet": [
           {
            "marker": {
             "colorbar": {
              "outlinewidth": 0,
              "ticks": ""
             }
            },
            "type": "scattercarpet"
           }
          ],
          "scattergeo": [
           {
            "marker": {
             "colorbar": {
              "outlinewidth": 0,
              "ticks": ""
             }
            },
            "type": "scattergeo"
           }
          ],
          "scattergl": [
           {
            "marker": {
             "colorbar": {
              "outlinewidth": 0,
              "ticks": ""
             }
            },
            "type": "scattergl"
           }
          ],
          "scattermap": [
           {
            "marker": {
             "colorbar": {
              "outlinewidth": 0,
              "ticks": ""
             }
            },
            "type": "scattermap"
           }
          ],
          "scattermapbox": [
           {
            "marker": {
             "colorbar": {
              "outlinewidth": 0,
              "ticks": ""
             }
            },
            "type": "scattermapbox"
           }
          ],
          "scatterpolar": [
           {
            "marker": {
             "colorbar": {
              "outlinewidth": 0,
              "ticks": ""
             }
            },
            "type": "scatterpolar"
           }
          ],
          "scatterpolargl": [
           {
            "marker": {
             "colorbar": {
              "outlinewidth": 0,
              "ticks": ""
             }
            },
            "type": "scatterpolargl"
           }
          ],
          "scatterternary": [
           {
            "marker": {
             "colorbar": {
              "outlinewidth": 0,
              "ticks": ""
             }
            },
            "type": "scatterternary"
           }
          ],
          "surface": [
           {
            "colorbar": {
             "outlinewidth": 0,
             "ticks": ""
            },
            "colorscale": [
             [
              0,
              "#0d0887"
             ],
             [
              0.1111111111111111,
              "#46039f"
             ],
             [
              0.2222222222222222,
              "#7201a8"
             ],
             [
              0.3333333333333333,
              "#9c179e"
             ],
             [
              0.4444444444444444,
              "#bd3786"
             ],
             [
              0.5555555555555556,
              "#d8576b"
             ],
             [
              0.6666666666666666,
              "#ed7953"
             ],
             [
              0.7777777777777778,
              "#fb9f3a"
             ],
             [
              0.8888888888888888,
              "#fdca26"
             ],
             [
              1,
              "#f0f921"
             ]
            ],
            "type": "surface"
           }
          ],
          "table": [
           {
            "cells": {
             "fill": {
              "color": "#EBF0F8"
             },
             "line": {
              "color": "white"
             }
            },
            "header": {
             "fill": {
              "color": "#C8D4E3"
             },
             "line": {
              "color": "white"
             }
            },
            "type": "table"
           }
          ]
         },
         "layout": {
          "annotationdefaults": {
           "arrowcolor": "#2a3f5f",
           "arrowhead": 0,
           "arrowwidth": 1
          },
          "autotypenumbers": "strict",
          "coloraxis": {
           "colorbar": {
            "outlinewidth": 0,
            "ticks": ""
           }
          },
          "colorscale": {
           "diverging": [
            [
             0,
             "#8e0152"
            ],
            [
             0.1,
             "#c51b7d"
            ],
            [
             0.2,
             "#de77ae"
            ],
            [
             0.3,
             "#f1b6da"
            ],
            [
             0.4,
             "#fde0ef"
            ],
            [
             0.5,
             "#f7f7f7"
            ],
            [
             0.6,
             "#e6f5d0"
            ],
            [
             0.7,
             "#b8e186"
            ],
            [
             0.8,
             "#7fbc41"
            ],
            [
             0.9,
             "#4d9221"
            ],
            [
             1,
             "#276419"
            ]
           ],
           "sequential": [
            [
             0,
             "#0d0887"
            ],
            [
             0.1111111111111111,
             "#46039f"
            ],
            [
             0.2222222222222222,
             "#7201a8"
            ],
            [
             0.3333333333333333,
             "#9c179e"
            ],
            [
             0.4444444444444444,
             "#bd3786"
            ],
            [
             0.5555555555555556,
             "#d8576b"
            ],
            [
             0.6666666666666666,
             "#ed7953"
            ],
            [
             0.7777777777777778,
             "#fb9f3a"
            ],
            [
             0.8888888888888888,
             "#fdca26"
            ],
            [
             1,
             "#f0f921"
            ]
           ],
           "sequentialminus": [
            [
             0,
             "#0d0887"
            ],
            [
             0.1111111111111111,
             "#46039f"
            ],
            [
             0.2222222222222222,
             "#7201a8"
            ],
            [
             0.3333333333333333,
             "#9c179e"
            ],
            [
             0.4444444444444444,
             "#bd3786"
            ],
            [
             0.5555555555555556,
             "#d8576b"
            ],
            [
             0.6666666666666666,
             "#ed7953"
            ],
            [
             0.7777777777777778,
             "#fb9f3a"
            ],
            [
             0.8888888888888888,
             "#fdca26"
            ],
            [
             1,
             "#f0f921"
            ]
           ]
          },
          "colorway": [
           "#636efa",
           "#EF553B",
           "#00cc96",
           "#ab63fa",
           "#FFA15A",
           "#19d3f3",
           "#FF6692",
           "#B6E880",
           "#FF97FF",
           "#FECB52"
          ],
          "font": {
           "color": "#2a3f5f"
          },
          "geo": {
           "bgcolor": "white",
           "lakecolor": "white",
           "landcolor": "#E5ECF6",
           "showlakes": true,
           "showland": true,
           "subunitcolor": "white"
          },
          "hoverlabel": {
           "align": "left"
          },
          "hovermode": "closest",
          "mapbox": {
           "style": "light"
          },
          "paper_bgcolor": "white",
          "plot_bgcolor": "#E5ECF6",
          "polar": {
           "angularaxis": {
            "gridcolor": "white",
            "linecolor": "white",
            "ticks": ""
           },
           "bgcolor": "#E5ECF6",
           "radialaxis": {
            "gridcolor": "white",
            "linecolor": "white",
            "ticks": ""
           }
          },
          "scene": {
           "xaxis": {
            "backgroundcolor": "#E5ECF6",
            "gridcolor": "white",
            "gridwidth": 2,
            "linecolor": "white",
            "showbackground": true,
            "ticks": "",
            "zerolinecolor": "white"
           },
           "yaxis": {
            "backgroundcolor": "#E5ECF6",
            "gridcolor": "white",
            "gridwidth": 2,
            "linecolor": "white",
            "showbackground": true,
            "ticks": "",
            "zerolinecolor": "white"
           },
           "zaxis": {
            "backgroundcolor": "#E5ECF6",
            "gridcolor": "white",
            "gridwidth": 2,
            "linecolor": "white",
            "showbackground": true,
            "ticks": "",
            "zerolinecolor": "white"
           }
          },
          "shapedefaults": {
           "line": {
            "color": "#2a3f5f"
           }
          },
          "ternary": {
           "aaxis": {
            "gridcolor": "white",
            "linecolor": "white",
            "ticks": ""
           },
           "baxis": {
            "gridcolor": "white",
            "linecolor": "white",
            "ticks": ""
           },
           "bgcolor": "#E5ECF6",
           "caxis": {
            "gridcolor": "white",
            "linecolor": "white",
            "ticks": ""
           }
          },
          "title": {
           "x": 0.05
          },
          "xaxis": {
           "automargin": true,
           "gridcolor": "white",
           "linecolor": "white",
           "ticks": "",
           "title": {
            "standoff": 15
           },
           "zerolinecolor": "white",
           "zerolinewidth": 2
          },
          "yaxis": {
           "automargin": true,
           "gridcolor": "white",
           "linecolor": "white",
           "ticks": "",
           "title": {
            "standoff": 15
           },
           "zerolinecolor": "white",
           "zerolinewidth": 2
          }
         }
        },
        "title": {
         "text": "Count of PassengerType"
        },
        "xaxis": {
         "anchor": "y",
         "domain": [
          0,
          1
         ],
         "title": {
          "text": "PassengerType"
         }
        },
        "yaxis": {
         "anchor": "x",
         "domain": [
          0,
          1
         ],
         "title": {
          "text": "Count"
         }
        }
       }
      }
     },
     "metadata": {},
     "output_type": "display_data"
    },
    {
     "name": "stdout",
     "output_type": "stream",
     "text": [
      "🔹 Heatmap: Correlation Matrix\n"
     ]
    },
    {
     "data": {
      "application/vnd.plotly.v1+json": {
       "config": {
        "plotlyServerURL": "https://plot.ly"
       },
       "data": [
        {
         "coloraxis": "coloraxis",
         "hovertemplate": "x: %{x}<br>y: %{y}<br>color: %{z}<extra></extra>",
         "name": "0",
         "texttemplate": "%{z}",
         "type": "heatmap",
         "x": [
          "AcceptedCoupon",
          "Age",
          "Income",
          "TripDuration"
         ],
         "xaxis": "x",
         "y": [
          "AcceptedCoupon",
          "Age",
          "Income",
          "TripDuration"
         ],
         "yaxis": "y",
         "z": {
          "bdata": "AAAAAAAA8D+fTpsVfmywPzDbc2SYerc/I0lThTJLhz+fTpsVfmywPwAAAAAAAPA/1nSDAURYoj+ZLW9930OnPzDbc2SYerc/1nSDAURYoj8AAAAAAADwPyR7/2zWkLE/I0lThTJLhz+ZLW9930OnPyR7/2zWkLE/AAAAAAAA8D8=",
          "dtype": "f8",
          "shape": "4, 4"
         }
        }
       ],
       "layout": {
        "coloraxis": {
         "colorscale": [
          [
           0,
           "rgb(5,48,97)"
          ],
          [
           0.1,
           "rgb(33,102,172)"
          ],
          [
           0.2,
           "rgb(67,147,195)"
          ],
          [
           0.3,
           "rgb(146,197,222)"
          ],
          [
           0.4,
           "rgb(209,229,240)"
          ],
          [
           0.5,
           "rgb(247,247,247)"
          ],
          [
           0.6,
           "rgb(253,219,199)"
          ],
          [
           0.7,
           "rgb(244,165,130)"
          ],
          [
           0.8,
           "rgb(214,96,77)"
          ],
          [
           0.9,
           "rgb(178,24,43)"
          ],
          [
           1,
           "rgb(103,0,31)"
          ]
         ]
        },
        "template": {
         "data": {
          "bar": [
           {
            "error_x": {
             "color": "#2a3f5f"
            },
            "error_y": {
             "color": "#2a3f5f"
            },
            "marker": {
             "line": {
              "color": "#E5ECF6",
              "width": 0.5
             },
             "pattern": {
              "fillmode": "overlay",
              "size": 10,
              "solidity": 0.2
             }
            },
            "type": "bar"
           }
          ],
          "barpolar": [
           {
            "marker": {
             "line": {
              "color": "#E5ECF6",
              "width": 0.5
             },
             "pattern": {
              "fillmode": "overlay",
              "size": 10,
              "solidity": 0.2
             }
            },
            "type": "barpolar"
           }
          ],
          "carpet": [
           {
            "aaxis": {
             "endlinecolor": "#2a3f5f",
             "gridcolor": "white",
             "linecolor": "white",
             "minorgridcolor": "white",
             "startlinecolor": "#2a3f5f"
            },
            "baxis": {
             "endlinecolor": "#2a3f5f",
             "gridcolor": "white",
             "linecolor": "white",
             "minorgridcolor": "white",
             "startlinecolor": "#2a3f5f"
            },
            "type": "carpet"
           }
          ],
          "choropleth": [
           {
            "colorbar": {
             "outlinewidth": 0,
             "ticks": ""
            },
            "type": "choropleth"
           }
          ],
          "contour": [
           {
            "colorbar": {
             "outlinewidth": 0,
             "ticks": ""
            },
            "colorscale": [
             [
              0,
              "#0d0887"
             ],
             [
              0.1111111111111111,
              "#46039f"
             ],
             [
              0.2222222222222222,
              "#7201a8"
             ],
             [
              0.3333333333333333,
              "#9c179e"
             ],
             [
              0.4444444444444444,
              "#bd3786"
             ],
             [
              0.5555555555555556,
              "#d8576b"
             ],
             [
              0.6666666666666666,
              "#ed7953"
             ],
             [
              0.7777777777777778,
              "#fb9f3a"
             ],
             [
              0.8888888888888888,
              "#fdca26"
             ],
             [
              1,
              "#f0f921"
             ]
            ],
            "type": "contour"
           }
          ],
          "contourcarpet": [
           {
            "colorbar": {
             "outlinewidth": 0,
             "ticks": ""
            },
            "type": "contourcarpet"
           }
          ],
          "heatmap": [
           {
            "colorbar": {
             "outlinewidth": 0,
             "ticks": ""
            },
            "colorscale": [
             [
              0,
              "#0d0887"
             ],
             [
              0.1111111111111111,
              "#46039f"
             ],
             [
              0.2222222222222222,
              "#7201a8"
             ],
             [
              0.3333333333333333,
              "#9c179e"
             ],
             [
              0.4444444444444444,
              "#bd3786"
             ],
             [
              0.5555555555555556,
              "#d8576b"
             ],
             [
              0.6666666666666666,
              "#ed7953"
             ],
             [
              0.7777777777777778,
              "#fb9f3a"
             ],
             [
              0.8888888888888888,
              "#fdca26"
             ],
             [
              1,
              "#f0f921"
             ]
            ],
            "type": "heatmap"
           }
          ],
          "histogram": [
           {
            "marker": {
             "pattern": {
              "fillmode": "overlay",
              "size": 10,
              "solidity": 0.2
             }
            },
            "type": "histogram"
           }
          ],
          "histogram2d": [
           {
            "colorbar": {
             "outlinewidth": 0,
             "ticks": ""
            },
            "colorscale": [
             [
              0,
              "#0d0887"
             ],
             [
              0.1111111111111111,
              "#46039f"
             ],
             [
              0.2222222222222222,
              "#7201a8"
             ],
             [
              0.3333333333333333,
              "#9c179e"
             ],
             [
              0.4444444444444444,
              "#bd3786"
             ],
             [
              0.5555555555555556,
              "#d8576b"
             ],
             [
              0.6666666666666666,
              "#ed7953"
             ],
             [
              0.7777777777777778,
              "#fb9f3a"
             ],
             [
              0.8888888888888888,
              "#fdca26"
             ],
             [
              1,
              "#f0f921"
             ]
            ],
            "type": "histogram2d"
           }
          ],
          "histogram2dcontour": [
           {
            "colorbar": {
             "outlinewidth": 0,
             "ticks": ""
            },
            "colorscale": [
             [
              0,
              "#0d0887"
             ],
             [
              0.1111111111111111,
              "#46039f"
             ],
             [
              0.2222222222222222,
              "#7201a8"
             ],
             [
              0.3333333333333333,
              "#9c179e"
             ],
             [
              0.4444444444444444,
              "#bd3786"
             ],
             [
              0.5555555555555556,
              "#d8576b"
             ],
             [
              0.6666666666666666,
              "#ed7953"
             ],
             [
              0.7777777777777778,
              "#fb9f3a"
             ],
             [
              0.8888888888888888,
              "#fdca26"
             ],
             [
              1,
              "#f0f921"
             ]
            ],
            "type": "histogram2dcontour"
           }
          ],
          "mesh3d": [
           {
            "colorbar": {
             "outlinewidth": 0,
             "ticks": ""
            },
            "type": "mesh3d"
           }
          ],
          "parcoords": [
           {
            "line": {
             "colorbar": {
              "outlinewidth": 0,
              "ticks": ""
             }
            },
            "type": "parcoords"
           }
          ],
          "pie": [
           {
            "automargin": true,
            "type": "pie"
           }
          ],
          "scatter": [
           {
            "fillpattern": {
             "fillmode": "overlay",
             "size": 10,
             "solidity": 0.2
            },
            "type": "scatter"
           }
          ],
          "scatter3d": [
           {
            "line": {
             "colorbar": {
              "outlinewidth": 0,
              "ticks": ""
             }
            },
            "marker": {
             "colorbar": {
              "outlinewidth": 0,
              "ticks": ""
             }
            },
            "type": "scatter3d"
           }
          ],
          "scattercarpet": [
           {
            "marker": {
             "colorbar": {
              "outlinewidth": 0,
              "ticks": ""
             }
            },
            "type": "scattercarpet"
           }
          ],
          "scattergeo": [
           {
            "marker": {
             "colorbar": {
              "outlinewidth": 0,
              "ticks": ""
             }
            },
            "type": "scattergeo"
           }
          ],
          "scattergl": [
           {
            "marker": {
             "colorbar": {
              "outlinewidth": 0,
              "ticks": ""
             }
            },
            "type": "scattergl"
           }
          ],
          "scattermap": [
           {
            "marker": {
             "colorbar": {
              "outlinewidth": 0,
              "ticks": ""
             }
            },
            "type": "scattermap"
           }
          ],
          "scattermapbox": [
           {
            "marker": {
             "colorbar": {
              "outlinewidth": 0,
              "ticks": ""
             }
            },
            "type": "scattermapbox"
           }
          ],
          "scatterpolar": [
           {
            "marker": {
             "colorbar": {
              "outlinewidth": 0,
              "ticks": ""
             }
            },
            "type": "scatterpolar"
           }
          ],
          "scatterpolargl": [
           {
            "marker": {
             "colorbar": {
              "outlinewidth": 0,
              "ticks": ""
             }
            },
            "type": "scatterpolargl"
           }
          ],
          "scatterternary": [
           {
            "marker": {
             "colorbar": {
              "outlinewidth": 0,
              "ticks": ""
             }
            },
            "type": "scatterternary"
           }
          ],
          "surface": [
           {
            "colorbar": {
             "outlinewidth": 0,
             "ticks": ""
            },
            "colorscale": [
             [
              0,
              "#0d0887"
             ],
             [
              0.1111111111111111,
              "#46039f"
             ],
             [
              0.2222222222222222,
              "#7201a8"
             ],
             [
              0.3333333333333333,
              "#9c179e"
             ],
             [
              0.4444444444444444,
              "#bd3786"
             ],
             [
              0.5555555555555556,
              "#d8576b"
             ],
             [
              0.6666666666666666,
              "#ed7953"
             ],
             [
              0.7777777777777778,
              "#fb9f3a"
             ],
             [
              0.8888888888888888,
              "#fdca26"
             ],
             [
              1,
              "#f0f921"
             ]
            ],
            "type": "surface"
           }
          ],
          "table": [
           {
            "cells": {
             "fill": {
              "color": "#EBF0F8"
             },
             "line": {
              "color": "white"
             }
            },
            "header": {
             "fill": {
              "color": "#C8D4E3"
             },
             "line": {
              "color": "white"
             }
            },
            "type": "table"
           }
          ]
         },
         "layout": {
          "annotationdefaults": {
           "arrowcolor": "#2a3f5f",
           "arrowhead": 0,
           "arrowwidth": 1
          },
          "autotypenumbers": "strict",
          "coloraxis": {
           "colorbar": {
            "outlinewidth": 0,
            "ticks": ""
           }
          },
          "colorscale": {
           "diverging": [
            [
             0,
             "#8e0152"
            ],
            [
             0.1,
             "#c51b7d"
            ],
            [
             0.2,
             "#de77ae"
            ],
            [
             0.3,
             "#f1b6da"
            ],
            [
             0.4,
             "#fde0ef"
            ],
            [
             0.5,
             "#f7f7f7"
            ],
            [
             0.6,
             "#e6f5d0"
            ],
            [
             0.7,
             "#b8e186"
            ],
            [
             0.8,
             "#7fbc41"
            ],
            [
             0.9,
             "#4d9221"
            ],
            [
             1,
             "#276419"
            ]
           ],
           "sequential": [
            [
             0,
             "#0d0887"
            ],
            [
             0.1111111111111111,
             "#46039f"
            ],
            [
             0.2222222222222222,
             "#7201a8"
            ],
            [
             0.3333333333333333,
             "#9c179e"
            ],
            [
             0.4444444444444444,
             "#bd3786"
            ],
            [
             0.5555555555555556,
             "#d8576b"
            ],
            [
             0.6666666666666666,
             "#ed7953"
            ],
            [
             0.7777777777777778,
             "#fb9f3a"
            ],
            [
             0.8888888888888888,
             "#fdca26"
            ],
            [
             1,
             "#f0f921"
            ]
           ],
           "sequentialminus": [
            [
             0,
             "#0d0887"
            ],
            [
             0.1111111111111111,
             "#46039f"
            ],
            [
             0.2222222222222222,
             "#7201a8"
            ],
            [
             0.3333333333333333,
             "#9c179e"
            ],
            [
             0.4444444444444444,
             "#bd3786"
            ],
            [
             0.5555555555555556,
             "#d8576b"
            ],
            [
             0.6666666666666666,
             "#ed7953"
            ],
            [
             0.7777777777777778,
             "#fb9f3a"
            ],
            [
             0.8888888888888888,
             "#fdca26"
            ],
            [
             1,
             "#f0f921"
            ]
           ]
          },
          "colorway": [
           "#636efa",
           "#EF553B",
           "#00cc96",
           "#ab63fa",
           "#FFA15A",
           "#19d3f3",
           "#FF6692",
           "#B6E880",
           "#FF97FF",
           "#FECB52"
          ],
          "font": {
           "color": "#2a3f5f"
          },
          "geo": {
           "bgcolor": "white",
           "lakecolor": "white",
           "landcolor": "#E5ECF6",
           "showlakes": true,
           "showland": true,
           "subunitcolor": "white"
          },
          "hoverlabel": {
           "align": "left"
          },
          "hovermode": "closest",
          "mapbox": {
           "style": "light"
          },
          "paper_bgcolor": "white",
          "plot_bgcolor": "#E5ECF6",
          "polar": {
           "angularaxis": {
            "gridcolor": "white",
            "linecolor": "white",
            "ticks": ""
           },
           "bgcolor": "#E5ECF6",
           "radialaxis": {
            "gridcolor": "white",
            "linecolor": "white",
            "ticks": ""
           }
          },
          "scene": {
           "xaxis": {
            "backgroundcolor": "#E5ECF6",
            "gridcolor": "white",
            "gridwidth": 2,
            "linecolor": "white",
            "showbackground": true,
            "ticks": "",
            "zerolinecolor": "white"
           },
           "yaxis": {
            "backgroundcolor": "#E5ECF6",
            "gridcolor": "white",
            "gridwidth": 2,
            "linecolor": "white",
            "showbackground": true,
            "ticks": "",
            "zerolinecolor": "white"
           },
           "zaxis": {
            "backgroundcolor": "#E5ECF6",
            "gridcolor": "white",
            "gridwidth": 2,
            "linecolor": "white",
            "showbackground": true,
            "ticks": "",
            "zerolinecolor": "white"
           }
          },
          "shapedefaults": {
           "line": {
            "color": "#2a3f5f"
           }
          },
          "ternary": {
           "aaxis": {
            "gridcolor": "white",
            "linecolor": "white",
            "ticks": ""
           },
           "baxis": {
            "gridcolor": "white",
            "linecolor": "white",
            "ticks": ""
           },
           "bgcolor": "#E5ECF6",
           "caxis": {
            "gridcolor": "white",
            "linecolor": "white",
            "ticks": ""
           }
          },
          "title": {
           "x": 0.05
          },
          "xaxis": {
           "automargin": true,
           "gridcolor": "white",
           "linecolor": "white",
           "ticks": "",
           "title": {
            "standoff": 15
           },
           "zerolinecolor": "white",
           "zerolinewidth": 2
          },
          "yaxis": {
           "automargin": true,
           "gridcolor": "white",
           "linecolor": "white",
           "ticks": "",
           "title": {
            "standoff": 15
           },
           "zerolinecolor": "white",
           "zerolinewidth": 2
          }
         }
        },
        "title": {
         "text": "Correlation Heatmap"
        },
        "xaxis": {
         "anchor": "y",
         "constrain": "domain",
         "domain": [
          0,
          1
         ],
         "scaleanchor": "y"
        },
        "yaxis": {
         "anchor": "x",
         "autorange": "reversed",
         "constrain": "domain",
         "domain": [
          0,
          1
         ]
        }
       }
      }
     },
     "metadata": {},
     "output_type": "display_data"
    },
    {
     "name": "stdout",
     "output_type": "stream",
     "text": [
      "🔹 Regression Plot: Income vs Age by Marital Status\n"
     ]
    },
    {
     "data": {
      "application/vnd.plotly.v1+json": {
       "config": {
        "plotlyServerURL": "https://plot.ly"
       },
       "data": [
        {
         "hovertemplate": "MaritalStatus=Single<br>Age=%{x}<br>Income=%{y}<extra></extra>",
         "legendgroup": "Single",
         "marker": {
          "color": "#636efa",
          "symbol": "circle"
         },
         "mode": "markers",
         "name": "Single",
         "orientation": "v",
         "showlegend": true,
         "type": "scatter",
         "x": {
          "bdata": "KzEfGjojFjUYIiMuHTMoNS4yLzgaFi4dJyYcOyYiEBhGMxcqGS0mHzsaKh4iLy0VFy4XGzIwLSUrKyMjKh0oES8rKSojHywwGydALyo6JjIXNzgYJSUuMygnJiINMjQTJBkiLC8vJDMYLjkTKycpKCkeFiwyFSgtICkgIR4yKR8vIjM5IS4gJSkyMi4jNB82GSgjJSAnKh5AMzYfIiEuJhogOTIu",
          "dtype": "i1"
         },
         "xaxis": "x",
         "y": {
          "bdata": "lgwBAPsMAQBzGgEA4CgBAOMuAQBiEAEAleAAAPjyAAD6/wAAU9MAAJL1AAAY7QAAspoAADfQAAC/9QAAIJEAAHoAAQAaRgEAiWkAAImuAADhEwEAqfgAAKyrAACi+AAAPdwAAHT+AACbBAEACBABAB3lAAAF6AAAeMIAAKEbAQCRjQAA7hYBALexAACU5wAAgKYAAOfZAADsDwEA6MgAAI0gAQDe7QAAkDcBAP7BAAAXUAEA+PUAAMLIAADwAwEAmuwAAEvbAACbiAAASxABAIb3AAAKTQEAmBABAAKOAADkQAEAIcoAABYvAQCo1AAAlxcBAGQuAQCg5wAAcc0AAErRAADy1QAAwQABAJIDAQC+JgEA3t4AAAIVAQC9ZAEApqwAAB33AAAw8wAA/+YAAO8nAQDMDwEALb4AAKP9AAA0/QAAGAMBAPs6AQC78QAAO+AAAEnrAAC/uAAAM2wAAIslAQBabgEAV9cAAJxwAQA5DQEAYRwBANcWAQDZ+gAAe/AAADK+AAAuIAEAWo4AAH8hAQCaCgEAjPAAADWcAAA87QAAwOwAAIjDAAAwmAAAzx4BABfZAADpwgAA8ewAALXJAAAcmgAAh4EBAGpKAQDJSQEAKdQAAOquAABUxAAAqKIAAF/sAABCvQAAEvgAAMP9AABKAAEA7QIBABDBAAAb5wAAFgsBAEz0AABptQAAR78AAHQxAQBFcgEAawEBADPyAABfnAAAlOQAAF3ZAAAXvgAAACoBADAGAQDVOwEAgp0AAKnGAAAn7gAAhg0BALhBAQAW8wAAn9YAAKbYAAAeIQEA2xYBAJjIAABeygAAuJMAAHwwAQBm0AAAPeAAAP2ZAADUiwAAHN4AAOLGAADbFQEA",
          "dtype": "i4"
         },
         "yaxis": "y"
        },
        {
         "hovertemplate": "<b>OLS trendline</b><br>Income = 92.7441 * Age + 57576.3<br>R<sup>2</sup>=0.005360<br><br>MaritalStatus=Single<br>Age=%{x}<br>Income=%{y} <b>(trend)</b><extra></extra>",
         "legendgroup": "Single",
         "marker": {
          "color": "#636efa",
          "symbol": "circle"
         },
         "mode": "lines",
         "name": "Single",
         "showlegend": false,
         "type": "scatter",
         "x": {
          "bdata": "DRARExMVFRYWFhcXFxcYGBgYGRkZGhoaGhsbHB0dHR4eHh4fHx8fHx8gICAgICEhISIiIiIiIiIjIyMjIyMjJCQlJSUlJSYmJiYmJicnJycnKCgoKCgoKSkpKSkpKioqKioqKysrKyssLCwtLS0tLi4uLi4uLi4uLi8vLy8vLy8wMDEyMjIyMjIyMjIzMzMzMzM0NDU1NjY3ODg5OTk6Ojs7QEBG",
          "dtype": "i1"
         },
         "xaxis": "x",
         "y": {
          "bdata": "9gBr472z7EDAXtpShdbsQK4oqiId4uxAirxJwkz57ECKvEnCTPnsQGVQ6WF8EO1AZVDpYXwQ7UBTGrkxFBztQFMauTEUHO1AUxq5MRQc7UBB5IgBrCftQEHkiAGsJ+1AQeSIAawn7UBB5IgBrCftQC+uWNFDM+1AL65Y0UMz7UAvrljRQzPtQC+uWNFDM+1AHXgoods+7UAdeCih2z7tQB14KKHbPu1AC0L4cHNK7UALQvhwc0rtQAtC+HBzSu1AC0L4cHNK7UD5C8hAC1btQPkLyEALVu1A5tWXEKNh7UDUn2fgOm3tQNSfZ+A6be1A1J9n4Dpt7UDCaTew0njtQMJpN7DSeO1Awmk3sNJ47UDCaTew0njtQLAzB4BqhO1AsDMHgGqE7UCwMweAaoTtQLAzB4BqhO1AsDMHgGqE7UCwMweAaoTtQJ791k8CkO1Anv3WTwKQ7UCe/dZPApDtQJ791k8CkO1Anv3WTwKQ7UCMx6YfmpvtQIzHph+am+1AjMemH5qb7UB6kXbvMaftQHqRdu8xp+1AepF27zGn7UB6kXbvMaftQHqRdu8xp+1AepF27zGn7UB6kXbvMaftQGhbRr/Jsu1AaFtGv8my7UBoW0a/ybLtQGhbRr/Jsu1AaFtGv8my7UBoW0a/ybLtQGhbRr/Jsu1AViUWj2G+7UBWJRaPYb7tQEPv5V75ye1AQ+/lXvnJ7UBD7+Ve+cntQEPv5V75ye1AQ+/lXvnJ7UAxubUukdXtQDG5tS6R1e1AMbm1LpHV7UAxubUukdXtQDG5tS6R1e1AMbm1LpHV7UAfg4X+KOHtQB+Dhf4o4e1AH4OF/ijh7UAfg4X+KOHtQB+Dhf4o4e1ADU1VzsDs7UANTVXOwOztQA1NVc7A7O1ADU1VzsDs7UANTVXOwOztQA1NVc7A7O1A+xYlnlj47UD7FiWeWPjtQPsWJZ5Y+O1A+xYlnlj47UD7FiWeWPjtQPsWJZ5Y+O1A6eD0bfAD7kDp4PRt8APuQOng9G3wA+5A6eD0bfAD7kDp4PRt8APuQOng9G3wA+5A16rEPYgP7kDXqsQ9iA/uQNeqxD2ID+5A16rEPYgP7kDXqsQ9iA/uQMR0lA0gG+5AxHSUDSAb7kDEdJQNIBvuQLI+ZN23Ju5Asj5k3bcm7kCyPmTdtybuQLI+ZN23Ju5AoAg0rU8y7kCgCDStTzLuQKAINK1PMu5AoAg0rU8y7kCgCDStTzLuQKAINK1PMu5AoAg0rU8y7kCgCDStTzLuQKAINK1PMu5AoAg0rU8y7kCO0gN95z3uQI7SA33nPe5AjtIDfec97kCO0gN95z3uQI7SA33nPe5AjtIDfec97kCO0gN95z3uQHyc00x/Se5AfJzTTH9J7kBqZqMcF1XuQFgwc+yuYO5AWDBz7K5g7kBYMHPsrmDuQFgwc+yuYO5AWDBz7K5g7kBYMHPsrmDuQFgwc+yuYO5AWDBz7K5g7kBYMHPsrmDuQEb6QrxGbO5ARvpCvEZs7kBG+kK8RmzuQEb6QrxGbO5ARvpCvEZs7kBG+kK8RmzuQDTEEozed+5ANMQSjN537kAhjuJbdoPuQCGO4lt2g+5AD1iyKw6P7kAPWLIrDo/uQP0hgvulmu5A6+tRyz2m7kDr61HLPabuQNm1IZvVse5A2bUhm9Wx7kDZtSGb1bHuQMd/8Wptve5Ax3/xam297kC1ScE6BcnuQLVJwToFye5AWjvQSfwC70BaO9BJ/ALvQO32riiLSO9A",
          "dtype": "f8"
         },
         "yaxis": "y"
        },
        {
         "hovertemplate": "MaritalStatus=Divorced<br>Age=%{x}<br>Income=%{y}<extra></extra>",
         "legendgroup": "Divorced",
         "marker": {
          "color": "#EF553B",
          "symbol": "circle"
         },
         "mode": "markers",
         "name": "Divorced",
         "orientation": "v",
         "showlegend": true,
         "type": "scatter",
         "x": {
          "bdata": "OiIsMyY0KCgpLxwYNCsgNy4eHCUrEysxLSAiKCI1LSsmMCc2Ny0hIh8oHyUtHi8XLSAoJyEkLTYPPDAkNBMkJTMfMCMyKy8eNToqHCksLDU3Ih4jHRcoGyQlOikiJyA3MTQcLCsbMSA4IikkKxYvKSYqMRshGh4sJyAtMCcsKhsdJygoIyMpMCI+JDYiIxoeNzElLCohIiIiLDkkKzwgM0EiIzo=",
          "dtype": "i1"
         },
         "xaxis": "x",
         "y": {
          "bdata": "UtUAAFYrAQAZCAEAXDsBABExAQCBugAAD+wAAEg1AQAyEAEAV9gAADf3AAD8+AAAzUYBAMrkAAC5+gAA/g0BAGUwAQCgyQAA2MkAAIeVAABbnwAAeRABAP2QAAAA/wAA+D4BANcrAQDCCwEAQTgBAIqWAAAixAAA388AAFlcAABrGAEA8+sAAJX2AAC9cgAAr68AAHfEAABJEwEA0x4BAJcPAQDfJwEAA8sAAPhjAQA0xAAABc4AADoDAQACCQEA5mcBAJlPAQBo8QAAxAEBABDOAACSlAAAlCkBAB7oAABC4AAAd0MAAK8tAQBwhAAAI9UAAIOeAACt/gAAM58AADEcAQBd+AAAMtsAADHoAABNFQEArf4AANokAQCsQAAAMuIAAHGtAABbHQEAawcBADN3AQAo9gAA7S8BAGanAAAVSgEANKcAABv8AADzBAEAEdwAAN0iAQBxogAAdRMBAPDYAADNRwEASbAAAOYjAQDsVwAA9JgAAEomAQBqCwEAc7AAALapAADwOwEAorEAADnpAAC/CgEAfvcAAIrxAADjUAEAR8AAALj6AABtuQAAyqQAAIf8AACeAgEAhN8AAMTiAACtTAEA8MkAAHLeAABKyAAANhsBAE8yAQBgTAEAbbQAAIqXAABSvAAAyH4AALmpAAAkAQEABOoAAIEbAQAr7wAAOiABADn9AAAf4AAAzwkBANfpAAAPCwEAfdgAALHtAAA+5gAA4QYBAKB2AADu4QAAfqMAABFEAQDJMQEAbsYAAKHTAABc9AAAXpMAALtUAABImgAANN0AAMqAAACOUgAAVQEBAFuxAAAW4QAAsLMAAIe2AACrTgEAXlUBABgSAQDJzQAAx2gBAOn7AAA=",
          "dtype": "i4"
         },
         "yaxis": "y"
        },
        {
         "hovertemplate": "<b>OLS trendline</b><br>Income = -162.924 * Age + 66472.3<br>R<sup>2</sup>=0.009222<br><br>MaritalStatus=Divorced<br>Age=%{x}<br>Income=%{y} <b>(trend)</b><extra></extra>",
         "legendgroup": "Divorced",
         "marker": {
          "color": "#EF553B",
          "symbol": "circle"
         },
         "mode": "lines",
         "name": "Divorced",
         "showlegend": false,
         "type": "scatter",
         "x": {
          "bdata": "DxMTFhcXGBoaGxsbGxwcHBwdHR4eHh4eHh8fHyAgICAgICAhISEhIiIiIiIiIiIiIiIiIiMjIyMjIyQkJCQkJCQlJSUlJSYmJicnJycnJygoKCgoKCgoKSkpKSkpKioqKisrKysrKysrLCwsLCwsLCwtLS0tLS0tLi8vLy8wMDAwMDExMTExMjMzMzQ0NDQ1NTU2NjY3Nzc3Nzg5Ojo6Ojw8PkE=",
          "dtype": "i1"
         },
         "xaxis": "x",
         "y": {
          "bdata": "0wyfI49D70DNX7DhGPLuQM1fsOEY8u5ACF49MAC17kDHssGfoqDuQMeywZ+ioO5AhQdGD0WM7kACsU7uiWPuQAKxTu6JY+5AwAXTXSxP7kDABdNdLE/uQMAF010sT+5AwAXTXSxP7kB/WlfNzjruQH9aV83OOu5Af1pXzc467kB/WlfNzjruQD6v2zxxJu5APq/bPHEm7kD8A2CsExLuQPwDYKwTEu5A/ANgrBMS7kD8A2CsExLuQPwDYKwTEu5A/ANgrBMS7kC6WOQbtv3tQLpY5Bu2/e1AuljkG7b97UB5rWiLWOntQHmtaItY6e1Aea1oi1jp7UB5rWiLWOntQHmtaItY6e1Aea1oi1jp7UB5rWiLWOntQDcC7fr61O1ANwLt+vrU7UA3Au36+tTtQDcC7fr61O1A9lZxap3A7UD2VnFqncDtQPZWcWqdwO1A9lZxap3A7UD2VnFqncDtQPZWcWqdwO1A9lZxap3A7UD2VnFqncDtQPZWcWqdwO1A9lZxap3A7UD2VnFqncDtQPZWcWqdwO1A9lZxap3A7UC0q/XZP6ztQLSr9dk/rO1AtKv12T+s7UC0q/XZP6ztQLSr9dk/rO1AtKv12T+s7UBzAHpJ4pftQHMAeknil+1AcwB6SeKX7UBzAHpJ4pftQHMAeknil+1AcwB6SeKX7UBzAHpJ4pftQDFV/riEg+1AMVX+uISD7UAxVf64hIPtQDFV/riEg+1AMVX+uISD7UDwqYIoJ2/tQPCpgignb+1A8KmCKCdv7UCu/gaYyVrtQK7+BpjJWu1Arv4GmMla7UCu/gaYyVrtQK7+BpjJWu1Arv4GmMla7UBtU4sHbEbtQG1TiwdsRu1AbVOLB2xG7UBtU4sHbEbtQG1TiwdsRu1AbVOLB2xG7UBtU4sHbEbtQG1TiwdsRu1AK6gPdw4y7UArqA93DjLtQCuoD3cOMu1AK6gPdw4y7UArqA93DjLtQCuoD3cOMu1A6vyT5rAd7UDq/JPmsB3tQOr8k+awHe1A6vyT5rAd7UCoURhWUwntQKhRGFZTCe1AqFEYVlMJ7UCoURhWUwntQKhRGFZTCe1AqFEYVlMJ7UCoURhWUwntQKhRGFZTCe1AZqacxfX07EBmppzF9fTsQGamnMX19OxAZqacxfX07EBmppzF9fTsQGamnMX19OxAZqacxfX07EBmppzF9fTsQCX7IDWY4OxAJfsgNZjg7EAl+yA1mODsQCX7IDWY4OxAJfsgNZjg7EAl+yA1mODsQCX7IDWY4OxA40+lpDrM7ECipCkU3bfsQKKkKRTdt+xAoqQpFN237ECipCkU3bfsQGD5rYN/o+xAYPmtg3+j7EBg+a2Df6PsQGD5rYN/o+xAYPmtg3+j7EAfTjLzIY/sQB9OMvMhj+xAH04y8yGP7EAfTjLzIY/sQB9OMvMhj+xA3aK2YsR67ECc9zrSZmbsQJz3OtJmZuxAnPc60mZm7EBaTL9BCVLsQFpMv0EJUuxAWky/QQlS7EBaTL9BCVLsQBmhQ7GrPexAGaFDsas97EAZoUOxqz3sQNf1xyBOKexA1/XHIE4p7EDX9ccgTinsQJZKTJDwFOxAlkpMkPAU7ECWSkyQ8BTsQJZKTJDwFOxAlkpMkPAU7EBUn9D/kgDsQBL0VG817OtA0UjZ3tfX60DRSNne19frQNFI2d7X1+tA0UjZ3tfX60BO8uG9HK/rQE7y4b0cr+tAy5vqnGGG60AGmnfrSEnrQA==",
          "dtype": "f8"
         },
         "yaxis": "y"
        },
        {
         "hovertemplate": "MaritalStatus=Married<br>Age=%{x}<br>Income=%{y}<extra></extra>",
         "legendgroup": "Married",
         "marker": {
          "color": "#00cc96",
          "symbol": "circle"
         },
         "mode": "markers",
         "name": "Married",
         "orientation": "v",
         "showlegend": true,
         "type": "scatter",
         "x": {
          "bdata": "Ji0pPDklMRYTNygnJycaHiIeIh0hKiUuLyU4JR4gIR04KB8dGjEjJyghKh4oHyIcICEoJjMqIyMrIxU4KzAqGSMuPigrIiUeIywgFjYuKSAoJjAbJQ0nJRxBKCIpJSQgHDkvGyUkHS4tJCYiMhkbKiczJxorIiAsMjgZHkIpQSc6LyIuMRgnLhorLiwXKigxIiQqJiMyKjI2Nx0nLhwrKSEhLioYNyonIion",
          "dtype": "i1"
         },
         "xaxis": "x",
         "y": {
          "bdata": "GRYBACBpAQBP9QAASCkBADquAAAq8gAAWsEAAIXmAACZWAEAKAQBAPXMAABSyQAAfh0BAJDkAACTVgEA1cEAALTnAAAKoQAAj+UAACMFAQDj9QAA6xMBAME+AQC+wgAA5lMBAOHxAAA70AAAqHsAAE0DAQAp6gAAdkIBAMgdAQBt3QAA5NsAAGrCAAC1UwEA7AsBAF48AQBuAQEA8/UAAJrXAADy6AAAUg4BAHKuAACZRgEAjaIAALonAQB8zwAAJh4BAD07AQC4xQAAkQEBAFIHAQCm+QAABcMAAODoAAA6CgEAxKgAAPjOAABTBgEA4O4AAMAkAQArjwAAT0IBAOnVAACH1wAAD2QBAC3mAABr7QAApeUAAPvuAABKdQAAECABAE4rAQBHDgEA08UAAIZaAQAz3wAAwv8AACYrAQCd5gAA7UgBABIwAQBhDQEAleEAACOqAAD/lQAA78QAANmcAACWSgEADcIAAPeJAABUeQEAfDsBALXmAADt2QAALYcAAJzkAADq9AAAY7AAAM6wAAA23QAAI8cAABz9AAAJjQAALwQBAE46AQC28QAANtEAADUKAQA+wQAAfqEAAMbBAAB8MwEAEWgBAIIPAQDC4QAA2iIBAOVrAQAz5QAASLsAALYLAQA1jwAAjXUAAH+jAADU7gAA8QkBANvjAADNMgEAUSoBABEOAQBfqgAA1dcAAK3yAACg9QAAQ9gAAHDhAADdEwEAbiIBACMIAQA6bAAAcnwBAAr6AAA6wwAAgCQBALq1AAAG7AAA6OgAAEoaAQD76gAA96sAAGvfAABpCQEAVbMAAN7dAADI8wAAjeoAAPoDAQAjMAEAAyIBANClAAAZCgEAHvUAAHrpAABRDAEAYfEAAMboAACTQAEAK8MAAE4nAQDjxgAA",
          "dtype": "i4"
         },
         "yaxis": "y"
        },
        {
         "hovertemplate": "<b>OLS trendline</b><br>Income = 227.708 * Age + 53191<br>R<sup>2</sup>=0.022722<br><br>MaritalStatus=Married<br>Age=%{x}<br>Income=%{y} <b>(trend)</b><extra></extra>",
         "legendgroup": "Married",
         "marker": {
          "color": "#00cc96",
          "symbol": "circle"
         },
         "mode": "lines",
         "name": "Married",
         "showlegend": false,
         "type": "scatter",
         "x": {
          "bdata": "DRMVFhYXGBgZGRkaGhoaGxsbHBwcHB0dHR0dHh4eHh4eHx8gICAgICAhISEhISEiIiIiIiIiIiIiIyMjIyMjIyQkJCQlJSUlJSUlJSUmJiYmJicnJycnJycnJycnJygoKCgoKCgoKCkpKSkpKioqKioqKioqKiorKysrKyssLCwtLS4uLi4uLi4uLi8vLzAwMTExMTIyMjIzMzY2Nzc3ODg4ODk5Ojw+QUFC",
          "dtype": "i1"
         },
         "xaxis": "x",
         "y": {
          "bdata": "ykj7GuZq60ACVKYerhXsQBStNHWbTuxAndl7IBJr7ECd2XsgEmvsQCcGw8uIh+xAsDIKd/+j7ECwMgp3/6PsQDlfUSJ2wOxAOV9RInbA7EA5X1EidsDsQMKLmM3s3OxAwouYzezc7EDCi5jN7NzsQMKLmM3s3OxATLjfeGP57EBMuN94Y/nsQEy433hj+exA1eQmJNoV7UDV5CYk2hXtQNXkJiTaFe1A1eQmJNoV7UBeEW7PUDLtQF4Rbs9QMu1AXhFuz1Ay7UBeEW7PUDLtQF4Rbs9QMu1A5z21esdO7UDnPbV6x07tQOc9tXrHTu1A5z21esdO7UDnPbV6x07tQOc9tXrHTu1AcGr8JT5r7UBwavwlPmvtQPqWQ9G0h+1A+pZD0bSH7UD6lkPRtIftQPqWQ9G0h+1A+pZD0bSH7UD6lkPRtIftQIPDinwrpO1Ag8OKfCuk7UCDw4p8K6TtQIPDinwrpO1Ag8OKfCuk7UCDw4p8K6TtQAzw0SeiwO1ADPDRJ6LA7UAM8NEnosDtQAzw0SeiwO1ADPDRJ6LA7UAM8NEnosDtQAzw0SeiwO1ADPDRJ6LA7UAM8NEnosDtQAzw0SeiwO1AlhwZ0xjd7UCWHBnTGN3tQJYcGdMY3e1AlhwZ0xjd7UCWHBnTGN3tQJYcGdMY3e1AlhwZ0xjd7UAfSWB+j/ntQB9JYH6P+e1AH0lgfo/57UAfSWB+j/ntQKh1pykGFu5AqHWnKQYW7kCodacpBhbuQKh1pykGFu5AqHWnKQYW7kCodacpBhbuQKh1pykGFu5AqHWnKQYW7kCodacpBhbuQDGi7tR8Mu5AMaLu1Hwy7kAxou7UfDLuQDGi7tR8Mu5AMaLu1Hwy7kC6zjWA807uQLrONYDzTu5Aus41gPNO7kC6zjWA807uQLrONYDzTu5Aus41gPNO7kC6zjWA807uQLrONYDzTu5Aus41gPNO7kC6zjWA807uQLrONYDzTu5Aus41gPNO7kBE+3wramvuQET7fCtqa+5ARPt8K2pr7kBE+3wramvuQET7fCtqa+5ARPt8K2pr7kBE+3wramvuQET7fCtqa+5ARPt8K2pr7kDNJ8TW4IfuQM0nxNbgh+5AzSfE1uCH7kDNJ8TW4IfuQM0nxNbgh+5AVlQLglek7kBWVAuCV6TuQFZUC4JXpO5AVlQLglek7kBWVAuCV6TuQFZUC4JXpO5AVlQLglek7kBWVAuCV6TuQFZUC4JXpO5AVlQLglek7kBWVAuCV6TuQOCAUi3OwO5A4IBSLc7A7kDggFItzsDuQOCAUi3OwO5A4IBSLc7A7kDggFItzsDuQGmtmdhE3e5Aaa2Z2ETd7kBprZnYRN3uQPLZ4IO7+e5A8tngg7v57kB7BigvMhbvQHsGKC8yFu9AewYoLzIW70B7BigvMhbvQHsGKC8yFu9AewYoLzIW70B7BigvMhbvQHsGKC8yFu9AewYoLzIW70AEM2/aqDLvQAQzb9qoMu9ABDNv2qgy70COX7aFH0/vQI5ftoUfT+9AF4z9MJZr70AXjP0wlmvvQBeM/TCWa+9AF4z9MJZr70CguETcDIjvQKC4RNwMiO9AoLhE3AyI70CguETcDIjvQCnli4eDpO9AKeWLh4Ok70DFamGJ5/nvQMVqYYnn+e9Ap0tUGi8L8ECnS1QaLwvwQKdLVBovC/BA7OH3b2oZ8EDs4fdvahnwQOzh929qGfBA7OH3b2oZ8EAweJvFpSfwQDB4m8WlJ/BAdQ4/G+E18ED+OobGV1LwQIhnzXHObvBAVSq4coCZ8EBVKrhygJnwQJrAW8i7p/BA",
          "dtype": "f8"
         },
         "yaxis": "y"
        }
       ],
       "layout": {
        "legend": {
         "title": {
          "text": "MaritalStatus"
         },
         "tracegroupgap": 0
        },
        "template": {
         "data": {
          "bar": [
           {
            "error_x": {
             "color": "#2a3f5f"
            },
            "error_y": {
             "color": "#2a3f5f"
            },
            "marker": {
             "line": {
              "color": "#E5ECF6",
              "width": 0.5
             },
             "pattern": {
              "fillmode": "overlay",
              "size": 10,
              "solidity": 0.2
             }
            },
            "type": "bar"
           }
          ],
          "barpolar": [
           {
            "marker": {
             "line": {
              "color": "#E5ECF6",
              "width": 0.5
             },
             "pattern": {
              "fillmode": "overlay",
              "size": 10,
              "solidity": 0.2
             }
            },
            "type": "barpolar"
           }
          ],
          "carpet": [
           {
            "aaxis": {
             "endlinecolor": "#2a3f5f",
             "gridcolor": "white",
             "linecolor": "white",
             "minorgridcolor": "white",
             "startlinecolor": "#2a3f5f"
            },
            "baxis": {
             "endlinecolor": "#2a3f5f",
             "gridcolor": "white",
             "linecolor": "white",
             "minorgridcolor": "white",
             "startlinecolor": "#2a3f5f"
            },
            "type": "carpet"
           }
          ],
          "choropleth": [
           {
            "colorbar": {
             "outlinewidth": 0,
             "ticks": ""
            },
            "type": "choropleth"
           }
          ],
          "contour": [
           {
            "colorbar": {
             "outlinewidth": 0,
             "ticks": ""
            },
            "colorscale": [
             [
              0,
              "#0d0887"
             ],
             [
              0.1111111111111111,
              "#46039f"
             ],
             [
              0.2222222222222222,
              "#7201a8"
             ],
             [
              0.3333333333333333,
              "#9c179e"
             ],
             [
              0.4444444444444444,
              "#bd3786"
             ],
             [
              0.5555555555555556,
              "#d8576b"
             ],
             [
              0.6666666666666666,
              "#ed7953"
             ],
             [
              0.7777777777777778,
              "#fb9f3a"
             ],
             [
              0.8888888888888888,
              "#fdca26"
             ],
             [
              1,
              "#f0f921"
             ]
            ],
            "type": "contour"
           }
          ],
          "contourcarpet": [
           {
            "colorbar": {
             "outlinewidth": 0,
             "ticks": ""
            },
            "type": "contourcarpet"
           }
          ],
          "heatmap": [
           {
            "colorbar": {
             "outlinewidth": 0,
             "ticks": ""
            },
            "colorscale": [
             [
              0,
              "#0d0887"
             ],
             [
              0.1111111111111111,
              "#46039f"
             ],
             [
              0.2222222222222222,
              "#7201a8"
             ],
             [
              0.3333333333333333,
              "#9c179e"
             ],
             [
              0.4444444444444444,
              "#bd3786"
             ],
             [
              0.5555555555555556,
              "#d8576b"
             ],
             [
              0.6666666666666666,
              "#ed7953"
             ],
             [
              0.7777777777777778,
              "#fb9f3a"
             ],
             [
              0.8888888888888888,
              "#fdca26"
             ],
             [
              1,
              "#f0f921"
             ]
            ],
            "type": "heatmap"
           }
          ],
          "histogram": [
           {
            "marker": {
             "pattern": {
              "fillmode": "overlay",
              "size": 10,
              "solidity": 0.2
             }
            },
            "type": "histogram"
           }
          ],
          "histogram2d": [
           {
            "colorbar": {
             "outlinewidth": 0,
             "ticks": ""
            },
            "colorscale": [
             [
              0,
              "#0d0887"
             ],
             [
              0.1111111111111111,
              "#46039f"
             ],
             [
              0.2222222222222222,
              "#7201a8"
             ],
             [
              0.3333333333333333,
              "#9c179e"
             ],
             [
              0.4444444444444444,
              "#bd3786"
             ],
             [
              0.5555555555555556,
              "#d8576b"
             ],
             [
              0.6666666666666666,
              "#ed7953"
             ],
             [
              0.7777777777777778,
              "#fb9f3a"
             ],
             [
              0.8888888888888888,
              "#fdca26"
             ],
             [
              1,
              "#f0f921"
             ]
            ],
            "type": "histogram2d"
           }
          ],
          "histogram2dcontour": [
           {
            "colorbar": {
             "outlinewidth": 0,
             "ticks": ""
            },
            "colorscale": [
             [
              0,
              "#0d0887"
             ],
             [
              0.1111111111111111,
              "#46039f"
             ],
             [
              0.2222222222222222,
              "#7201a8"
             ],
             [
              0.3333333333333333,
              "#9c179e"
             ],
             [
              0.4444444444444444,
              "#bd3786"
             ],
             [
              0.5555555555555556,
              "#d8576b"
             ],
             [
              0.6666666666666666,
              "#ed7953"
             ],
             [
              0.7777777777777778,
              "#fb9f3a"
             ],
             [
              0.8888888888888888,
              "#fdca26"
             ],
             [
              1,
              "#f0f921"
             ]
            ],
            "type": "histogram2dcontour"
           }
          ],
          "mesh3d": [
           {
            "colorbar": {
             "outlinewidth": 0,
             "ticks": ""
            },
            "type": "mesh3d"
           }
          ],
          "parcoords": [
           {
            "line": {
             "colorbar": {
              "outlinewidth": 0,
              "ticks": ""
             }
            },
            "type": "parcoords"
           }
          ],
          "pie": [
           {
            "automargin": true,
            "type": "pie"
           }
          ],
          "scatter": [
           {
            "fillpattern": {
             "fillmode": "overlay",
             "size": 10,
             "solidity": 0.2
            },
            "type": "scatter"
           }
          ],
          "scatter3d": [
           {
            "line": {
             "colorbar": {
              "outlinewidth": 0,
              "ticks": ""
             }
            },
            "marker": {
             "colorbar": {
              "outlinewidth": 0,
              "ticks": ""
             }
            },
            "type": "scatter3d"
           }
          ],
          "scattercarpet": [
           {
            "marker": {
             "colorbar": {
              "outlinewidth": 0,
              "ticks": ""
             }
            },
            "type": "scattercarpet"
           }
          ],
          "scattergeo": [
           {
            "marker": {
             "colorbar": {
              "outlinewidth": 0,
              "ticks": ""
             }
            },
            "type": "scattergeo"
           }
          ],
          "scattergl": [
           {
            "marker": {
             "colorbar": {
              "outlinewidth": 0,
              "ticks": ""
             }
            },
            "type": "scattergl"
           }
          ],
          "scattermap": [
           {
            "marker": {
             "colorbar": {
              "outlinewidth": 0,
              "ticks": ""
             }
            },
            "type": "scattermap"
           }
          ],
          "scattermapbox": [
           {
            "marker": {
             "colorbar": {
              "outlinewidth": 0,
              "ticks": ""
             }
            },
            "type": "scattermapbox"
           }
          ],
          "scatterpolar": [
           {
            "marker": {
             "colorbar": {
              "outlinewidth": 0,
              "ticks": ""
             }
            },
            "type": "scatterpolar"
           }
          ],
          "scatterpolargl": [
           {
            "marker": {
             "colorbar": {
              "outlinewidth": 0,
              "ticks": ""
             }
            },
            "type": "scatterpolargl"
           }
          ],
          "scatterternary": [
           {
            "marker": {
             "colorbar": {
              "outlinewidth": 0,
              "ticks": ""
             }
            },
            "type": "scatterternary"
           }
          ],
          "surface": [
           {
            "colorbar": {
             "outlinewidth": 0,
             "ticks": ""
            },
            "colorscale": [
             [
              0,
              "#0d0887"
             ],
             [
              0.1111111111111111,
              "#46039f"
             ],
             [
              0.2222222222222222,
              "#7201a8"
             ],
             [
              0.3333333333333333,
              "#9c179e"
             ],
             [
              0.4444444444444444,
              "#bd3786"
             ],
             [
              0.5555555555555556,
              "#d8576b"
             ],
             [
              0.6666666666666666,
              "#ed7953"
             ],
             [
              0.7777777777777778,
              "#fb9f3a"
             ],
             [
              0.8888888888888888,
              "#fdca26"
             ],
             [
              1,
              "#f0f921"
             ]
            ],
            "type": "surface"
           }
          ],
          "table": [
           {
            "cells": {
             "fill": {
              "color": "#EBF0F8"
             },
             "line": {
              "color": "white"
             }
            },
            "header": {
             "fill": {
              "color": "#C8D4E3"
             },
             "line": {
              "color": "white"
             }
            },
            "type": "table"
           }
          ]
         },
         "layout": {
          "annotationdefaults": {
           "arrowcolor": "#2a3f5f",
           "arrowhead": 0,
           "arrowwidth": 1
          },
          "autotypenumbers": "strict",
          "coloraxis": {
           "colorbar": {
            "outlinewidth": 0,
            "ticks": ""
           }
          },
          "colorscale": {
           "diverging": [
            [
             0,
             "#8e0152"
            ],
            [
             0.1,
             "#c51b7d"
            ],
            [
             0.2,
             "#de77ae"
            ],
            [
             0.3,
             "#f1b6da"
            ],
            [
             0.4,
             "#fde0ef"
            ],
            [
             0.5,
             "#f7f7f7"
            ],
            [
             0.6,
             "#e6f5d0"
            ],
            [
             0.7,
             "#b8e186"
            ],
            [
             0.8,
             "#7fbc41"
            ],
            [
             0.9,
             "#4d9221"
            ],
            [
             1,
             "#276419"
            ]
           ],
           "sequential": [
            [
             0,
             "#0d0887"
            ],
            [
             0.1111111111111111,
             "#46039f"
            ],
            [
             0.2222222222222222,
             "#7201a8"
            ],
            [
             0.3333333333333333,
             "#9c179e"
            ],
            [
             0.4444444444444444,
             "#bd3786"
            ],
            [
             0.5555555555555556,
             "#d8576b"
            ],
            [
             0.6666666666666666,
             "#ed7953"
            ],
            [
             0.7777777777777778,
             "#fb9f3a"
            ],
            [
             0.8888888888888888,
             "#fdca26"
            ],
            [
             1,
             "#f0f921"
            ]
           ],
           "sequentialminus": [
            [
             0,
             "#0d0887"
            ],
            [
             0.1111111111111111,
             "#46039f"
            ],
            [
             0.2222222222222222,
             "#7201a8"
            ],
            [
             0.3333333333333333,
             "#9c179e"
            ],
            [
             0.4444444444444444,
             "#bd3786"
            ],
            [
             0.5555555555555556,
             "#d8576b"
            ],
            [
             0.6666666666666666,
             "#ed7953"
            ],
            [
             0.7777777777777778,
             "#fb9f3a"
            ],
            [
             0.8888888888888888,
             "#fdca26"
            ],
            [
             1,
             "#f0f921"
            ]
           ]
          },
          "colorway": [
           "#636efa",
           "#EF553B",
           "#00cc96",
           "#ab63fa",
           "#FFA15A",
           "#19d3f3",
           "#FF6692",
           "#B6E880",
           "#FF97FF",
           "#FECB52"
          ],
          "font": {
           "color": "#2a3f5f"
          },
          "geo": {
           "bgcolor": "white",
           "lakecolor": "white",
           "landcolor": "#E5ECF6",
           "showlakes": true,
           "showland": true,
           "subunitcolor": "white"
          },
          "hoverlabel": {
           "align": "left"
          },
          "hovermode": "closest",
          "mapbox": {
           "style": "light"
          },
          "paper_bgcolor": "white",
          "plot_bgcolor": "#E5ECF6",
          "polar": {
           "angularaxis": {
            "gridcolor": "white",
            "linecolor": "white",
            "ticks": ""
           },
           "bgcolor": "#E5ECF6",
           "radialaxis": {
            "gridcolor": "white",
            "linecolor": "white",
            "ticks": ""
           }
          },
          "scene": {
           "xaxis": {
            "backgroundcolor": "#E5ECF6",
            "gridcolor": "white",
            "gridwidth": 2,
            "linecolor": "white",
            "showbackground": true,
            "ticks": "",
            "zerolinecolor": "white"
           },
           "yaxis": {
            "backgroundcolor": "#E5ECF6",
            "gridcolor": "white",
            "gridwidth": 2,
            "linecolor": "white",
            "showbackground": true,
            "ticks": "",
            "zerolinecolor": "white"
           },
           "zaxis": {
            "backgroundcolor": "#E5ECF6",
            "gridcolor": "white",
            "gridwidth": 2,
            "linecolor": "white",
            "showbackground": true,
            "ticks": "",
            "zerolinecolor": "white"
           }
          },
          "shapedefaults": {
           "line": {
            "color": "#2a3f5f"
           }
          },
          "ternary": {
           "aaxis": {
            "gridcolor": "white",
            "linecolor": "white",
            "ticks": ""
           },
           "baxis": {
            "gridcolor": "white",
            "linecolor": "white",
            "ticks": ""
           },
           "bgcolor": "#E5ECF6",
           "caxis": {
            "gridcolor": "white",
            "linecolor": "white",
            "ticks": ""
           }
          },
          "title": {
           "x": 0.05
          },
          "xaxis": {
           "automargin": true,
           "gridcolor": "white",
           "linecolor": "white",
           "ticks": "",
           "title": {
            "standoff": 15
           },
           "zerolinecolor": "white",
           "zerolinewidth": 2
          },
          "yaxis": {
           "automargin": true,
           "gridcolor": "white",
           "linecolor": "white",
           "ticks": "",
           "title": {
            "standoff": 15
           },
           "zerolinecolor": "white",
           "zerolinewidth": 2
          }
         }
        },
        "title": {
         "text": "Regression: Income vs Age"
        },
        "xaxis": {
         "anchor": "y",
         "domain": [
          0,
          1
         ],
         "title": {
          "text": "Age"
         }
        },
        "yaxis": {
         "anchor": "x",
         "domain": [
          0,
          1
         ],
         "title": {
          "text": "Income"
         }
        }
       }
      }
     },
     "metadata": {},
     "output_type": "display_data"
    }
   ],
   "source": [
    "if __name__ == \"__main__\":\n",
    "    df = generate_dummy_data()\n",
    "\n",
    "    print(\"🔹 Histogram: Age Distribution\")\n",
    "    plot_histogram(df, column='Age')\n",
    "\n",
    "    print(\"🔹 Density Plot: Income\")\n",
    "    plot_density(df, column='Income')\n",
    "\n",
    "    print(\"🔹 Scatter Plot: Income vs Age by Marital Status\")\n",
    "    plot_scatter(df, x='Age', y='Income', color='MaritalStatus')\n",
    "\n",
    "    print(\"🔹 Boxplot: Income by Marital Status\")\n",
    "    plot_box(df, x='MaritalStatus', y='Income', color='MaritalStatus')\n",
    "\n",
    "    print(\"🔹 Violin Plot: Trip Duration by Passenger Type\")\n",
    "    plot_violin(df, x='PassengerType', y='TripDuration', color='PassengerType')\n",
    "\n",
    "    print(\"🔹 Bar Plot: Mean Coupon Acceptance by Type\")\n",
    "    plot_bar(df, x='CouponType', y='AcceptedCoupon')\n",
    "\n",
    "    print(\"🔹 Count Plot: Passenger Type Frequency\")\n",
    "    plot_count(df, x='PassengerType')\n",
    "\n",
    "    print(\"🔹 Heatmap: Correlation Matrix\")\n",
    "    plot_correlation_heatmap(df)\n",
    "\n",
    "    print(\"🔹 Regression Plot: Income vs Age by Marital Status\")\n",
    "    plot_regression(df, x='Age', y='Income', color='MaritalStatus')\n",
    "\n"
   ]
  }
 ],
 "metadata": {
  "kernelspec": {
   "display_name": "Python 3",
   "language": "python",
   "name": "python3"
  },
  "language_info": {
   "codemirror_mode": {
    "name": "ipython",
    "version": 3
   },
   "file_extension": ".py",
   "mimetype": "text/x-python",
   "name": "python",
   "nbconvert_exporter": "python",
   "pygments_lexer": "ipython3",
   "version": "3.13.7"
  }
 },
 "nbformat": 4,
 "nbformat_minor": 5
}
